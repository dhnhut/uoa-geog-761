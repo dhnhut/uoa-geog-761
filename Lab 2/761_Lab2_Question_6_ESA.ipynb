{
  "cells": [
    {
      "cell_type": "markdown",
      "metadata": {},
      "source": [
        "# Lab 2, Question 6\n",
        "\n",
        "(6) Exercise: using an SVM model and the Landcare NZ 2024 landcover database, produce a landcover map of Great Barrier (Aotea) Island for 2025 (based off the Austral summer of 24/25).\n",
        "\n",
        "Your map should be presented at a publication quality level with all the usual map components (scale, legend, north arrow, data attribution).\n",
        "\n",
        "You will need to provide performance statistics of the model within your figure.\n",
        "\n",
        "*   Here you can access the landcover database: https://lris.scinfo.org.nz/layer/104400-lcdb-v50-land-cover-database-version-50-mainland-new-zealand/. You will need to explore for yourself how to extract this data and then upload it to colab, then how to plug it into the SVM algorithim. I have provided some starter code below.\n",
        "\n",
        "An intial workflow to get the data into the state you need it in to then use it as training data might look like:\n",
        "- Download the ZIP manually from their browser, having set your area of interest and used the 'Export' tool top right.\n",
        "- Upload it to Colab.\n",
        "- Unzip it and load with GeoPandas.\n",
        "(25 pts)\n",
        "\n",
        "\n",
        "_______________________________________________________________________________\n"
      ]
    },
    {
      "cell_type": "markdown",
      "metadata": {},
      "source": [
        "### Setup"
      ]
    },
    {
      "cell_type": "code",
      "execution_count": null,
      "metadata": {
        "id": "oTVEkaWvOjHL"
      },
      "outputs": [],
      "source": [
        "if 'google.colab' in str(get_ipython()):\n",
        "    from google.colab import userdata\n",
        "    EE_PROJECT_ID = userdata.get('EE_PROJECT_ID') \n",
        "else:\n",
        "    from dotenv import load_dotenv\n",
        "    import os\n",
        "    load_dotenv()  # take environment variables\n",
        "    EE_PROJECT_ID = os.getenv('EE_PROJECT_ID')\n",
        "\n",
        "# Set up GEE API\n",
        "import ee\n",
        "ee.Authenticate()\n",
        "ee.Initialize(project=EE_PROJECT_ID) #<- Remember to change this to your own project's name!"
      ]
    },
    {
      "cell_type": "code",
      "execution_count": null,
      "metadata": {
        "id": "YIR6jwwAOs_v"
      },
      "outputs": [],
      "source": [
        "import tempfile\n",
        "import urllib.request\n",
        "\n",
        "from IPython.display import Image\n",
        "\n",
        "import geemap\n",
        "import geopandas as gpd\n",
        "import pandas as pd\n",
        "import matplotlib.image as mpimg\n",
        "import matplotlib.pyplot as plt\n",
        "import matplotlib.patches as patches\n",
        "\n",
        "from sklearn.metrics import confusion_matrix, classification_report"
      ]
    },
    {
      "cell_type": "markdown",
      "metadata": {},
      "source": [
        "# A. Read Data"
      ]
    },
    {
      "cell_type": "markdown",
      "metadata": {},
      "source": [
        "### A.1. Load LCDB v5.0 - Land Cover Database version 5.0, Mainland, New Zealand for 2024"
      ]
    },
    {
      "cell_type": "code",
      "execution_count": null,
      "metadata": {},
      "outputs": [],
      "source": [
        "seed = 42  # Random seed for reproducibility\n",
        "\n",
        "# # Coordinates for Mount Hobson\n",
        "# point = ee.Geometry.Point([175.3785, -36.1830])\n",
        "aoi = ee.Geometry.Rectangle([175.27, -36.01, 175.57, -36.36])\n",
        "\n",
        "# bands = ['B2', 'B3', 'B4', 'B8'] # Sentinel-2 bands: Blue, Green, Red, NIR\n",
        "bands = ['B2', 'B3', 'B4', 'B5', 'B6', 'B7', 'B8', 'B8A', 'B9', 'B11', 'B12']\n",
        "\n",
        "# lcdb = geemap.geopandas_to_ee(df_2018[[class_property, 'geometry']])\n",
        "\n",
        "# # rasterizes the data\n",
        "# lcdb_image = lcdb.reduceToImage(\n",
        "#     properties=[class_property],\n",
        "#     reducer=ee.Reducer.first()\n",
        "# ).clip(aoi).rename(class_property)\n",
        "\n",
        "def mask_s2_clouds(image):\n",
        "    \"\"\"Masks clouds in your S2 images via QA60 band\"\"\"\n",
        "    qa = image.select('QA60')\n",
        "    cloudBitMask = 1 << 10\n",
        "    cirrusBitMask = 1 << 11\n",
        "    mask = qa.bitwiseAnd(cloudBitMask).eq(0).And(\n",
        "    qa.bitwiseAnd(cirrusBitMask).eq(0))\n",
        "    return image.updateMask(mask).divide(10000).select(bands)\n",
        "\n",
        "s2 = (ee.ImageCollection('COPERNICUS/S2_SR_HARMONIZED')\n",
        "           .filterBounds(aoi)\n",
        "           .filter(ee.Filter.lt('CLOUDY_PIXEL_PERCENTAGE', 10)))\n",
        "\n",
        "s2_2018 = (s2\n",
        "           .filterDate('2018-01-01', '2018-12-31')\n",
        "           .map(mask_s2_clouds)\n",
        "           .median()\n",
        "           .clip(aoi))\n",
        "\n",
        "# # `lcdb` only covers land. Need to mark unlabled areas in `s2_2018`.\n",
        "# s2_2018_lc = s2_2018.updateMask(lcdb_image)\n",
        "# training_image = s2_2018_lc.addBands(lcdb_image)\n",
        "\n",
        "# # Combine the bands of interest with the land cover data\n",
        "# # The `class_property` band will be used as our label\n",
        "# training_image = s2_2018_lc.addBands(lcdb_image)"
      ]
    },
    {
      "cell_type": "markdown",
      "metadata": {},
      "source": [
        "### ESA BEGIN"
      ]
    },
    {
      "cell_type": "code",
      "execution_count": null,
      "metadata": {},
      "outputs": [],
      "source": [
        "s2_esa_2020 = (s2\n",
        "           .filterDate('2020-01-01', '2020-12-31')\n",
        "           .map(mask_s2_clouds)\n",
        "           .median()\n",
        "           .clip(aoi))\n",
        "\n",
        "# Define valid WorldCover classes (10 to 100, spaced by 10)\n",
        "valid_classes = ee.List.sequence(10, 100, 10) # 100 is included\n",
        "# list(range(10, 100, 10)) # 100 in not included\n",
        "\n",
        "# Need to change this to sequential list to avoid the algs thinking there are 99 classes rather than 9\n",
        "remap_to = ee.List.sequence(1, 10)\n",
        "\n",
        "# Load and mask WorldCover map to valid classes only\n",
        "landcover = ee.Image('ESA/WorldCover/v100/2020').select('Map').clip(aoi)\n",
        "landcover_masked = landcover.updateMask(\n",
        "    landcover.remap(valid_classes, ee.List.repeat(1, 10)))\n",
        "\n",
        "# Remap labels: create a new band with remapped values (10 → 1, ..., 100 → 10)\n",
        "landcover_remapped = landcover.remap(valid_classes, remap_to).rename('Map_remapped')\n",
        "\n",
        "# Add landcover original and remapped as bands to Sentinel-2 image\n",
        "training_data = s2_esa_2020.addBands(landcover_remapped)\n",
        "\n",
        "# Sample the image\n",
        "# bands = ['B2', 'B3', 'B4', 'B8']\n",
        "sample = training_data.select(bands + ['Map_remapped']).sample(\n",
        "    region=aoi,\n",
        "    scale=10,\n",
        "    numPixels=5000,\n",
        "    seed=2,\n",
        "    geometries=True)"
      ]
    },
    {
      "cell_type": "code",
      "execution_count": null,
      "metadata": {},
      "outputs": [],
      "source": [
        "# Add random column\n",
        "sample = sample.randomColumn('random')\n",
        "\n",
        "# Split\n",
        "train = sample.filter(ee.Filter.lt('random', 0.7))\n",
        "valid = sample.filter(ee.Filter.And(ee.Filter.gte('random', 0.7), ee.Filter.lt('random', 0.9)))\n",
        "test = sample.filter(ee.Filter.gte('random', 0.9))\n",
        "\n",
        "# Train the RF model\n",
        "classifier = ee.Classifier.smileRandomForest(numberOfTrees=100).train(\n",
        "    features=train,\n",
        "    classProperty='Map_remapped',\n",
        "    inputProperties=bands)"
      ]
    },
    {
      "cell_type": "code",
      "execution_count": null,
      "metadata": {},
      "outputs": [],
      "source": [
        "# ESA_classes = landcover.get('Map_class_names').getInfo()\n",
        "# ESA_palette = landcover.get('Map_class_palette').getInfo()\n",
        "ESA_classes = [\n",
        "    'Tree cover',\n",
        "    'Shrubland',\n",
        "    'Grassland',\n",
        "    'Cropland',\n",
        "    'Built-up',\n",
        "    'Bare / sparse vegetation',\n",
        "    'Snow and ice',\n",
        "    'Permanent water bodies',\n",
        "    'Herbaceous wetland',\n",
        "    # 'Mangroves',\n",
        "    'Moss and lichen'\n",
        "]\n",
        "\n",
        "# BASED IMAGE\n",
        "ESA_palette = [\n",
        "    '006400',\n",
        "    'ffbb22',\n",
        "    'ffff4c',\n",
        "    'f096ff',\n",
        "    'fa0000',\n",
        "    'b4b4b4',\n",
        "    'f0f0f0',\n",
        "    '0064c8',\n",
        "    '0096a0',\n",
        "    # '00cf75',\n",
        "    'fae6a0',\n",
        "]\n",
        "\n",
        "vis_params = {\n",
        "    'min': 1,\n",
        "    'max': 10,\n",
        "    'palette': ESA_palette\n",
        "}\n",
        "\n",
        "thumb_params = {\n",
        "    'dimensions': 512,\n",
        "    'region': aoi,\n",
        "    'format': 'png',\n",
        "}\n",
        "\n",
        "\n",
        "# Load and preprocess Sentinel-2 imagery for the given year\n",
        "s2_2025 = s2.filterDate('2024-09-01', '2025-07-31').map(mask_s2_clouds).median().clip(aoi)\n",
        "s2_2025_classified = s2_2025.select(bands).classify(classifier)\n",
        "s2_2025_classified_rgb = s2_2025_classified.visualize(**vis_params)\n",
        "s2_2025_url = s2_2025_classified_rgb.getThumbURL(thumb_params)"
      ]
    },
    {
      "cell_type": "code",
      "execution_count": null,
      "metadata": {},
      "outputs": [],
      "source": [
        "s2_2020_classified = s2_esa_2020.select(bands).classify(classifier)\n",
        "s2_2020_classified_rgb = s2_2020_classified.visualize(**vis_params)\n",
        "\n",
        "s2_2018_classified = s2_2018.select(bands).classify(classifier)\n",
        "s2_2018_classified_rgb = s2_2018_classified.visualize(**vis_params)\n",
        "\n",
        "visualization = {\n",
        "    'bands': ['Map'],\n",
        "}\n",
        "\n",
        "m = geemap.Map(center=[-36.1830, 175.3785], zoom=11)\n",
        "m.addLayer(aoi, {}, 'AOI')\n",
        "m.addLayer(s2_2025_classified_rgb, {}, 'S2 2025 Classified')\n",
        "m.addLayer(s2_2020_classified_rgb, {}, 'S2 2020 Classified')\n",
        "m.addLayer(s2_2018_classified_rgb, {}, 'S2 2018 Classified')\n",
        "m.add_layer(landcover, visualization, 'Landcover')\n",
        "m"
      ]
    }
  ],
  "metadata": {
    "colab": {
      "provenance": []
    },
    "kernelspec": {
      "display_name": "geo",
      "language": "python",
      "name": "python3"
    },
    "language_info": {
      "codemirror_mode": {
        "name": "ipython",
        "version": 3
      },
      "file_extension": ".py",
      "mimetype": "text/x-python",
      "name": "python",
      "nbconvert_exporter": "python",
      "pygments_lexer": "ipython3",
      "version": "3.13.5"
    }
  },
  "nbformat": 4,
  "nbformat_minor": 0
}
