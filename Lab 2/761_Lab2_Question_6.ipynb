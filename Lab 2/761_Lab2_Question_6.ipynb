{
  "cells": [
    {
      "cell_type": "markdown",
      "metadata": {},
      "source": [
        "# Lab 2, Question 6\n",
        "\n",
        "(6) Exercise: using an SVM model and the Landcare NZ 2024 landcover database, produce a landcover map of Great Barrier (Aotea) Island for 2025 (based off the Austral summer of 24/25).\n",
        "\n",
        "Your map should be presented at a publication quality level with all the usual map components (scale, legend, north arrow, data attribution).\n",
        "\n",
        "You will need to provide performance statistics of the model within your figure.\n",
        "\n",
        "*   Here you can access the landcover database: https://lris.scinfo.org.nz/layer/104400-lcdb-v50-land-cover-database-version-50-mainland-new-zealand/. You will need to explore for yourself how to extract this data and then upload it to colab, then how to plug it into the SVM algorithim. I have provided some starter code below.\n",
        "\n",
        "An intial workflow to get the data into the state you need it in to then use it as training data might look like:\n",
        "- Download the ZIP manually from their browser, having set your area of interest and used the 'Export' tool top right.\n",
        "- Upload it to Colab.\n",
        "- Unzip it and load with GeoPandas.\n",
        "(25 pts)\n",
        "\n",
        "\n",
        "_______________________________________________________________________________\n"
      ]
    },
    {
      "cell_type": "markdown",
      "metadata": {},
      "source": [
        "### Setup"
      ]
    },
    {
      "cell_type": "code",
      "execution_count": null,
      "metadata": {
        "id": "oTVEkaWvOjHL"
      },
      "outputs": [],
      "source": [
        "if 'google.colab' in str(get_ipython()):\n",
        "    from google.colab import userdata\n",
        "    EE_PROJECT_ID = userdata.get('EE_PROJECT_ID') \n",
        "else:\n",
        "    from dotenv import load_dotenv\n",
        "    import os\n",
        "    load_dotenv()  # take environment variables\n",
        "    EE_PROJECT_ID = os.getenv('EE_PROJECT_ID')\n",
        "\n",
        "# Set up GEE API\n",
        "import ee\n",
        "ee.Authenticate()\n",
        "ee.Initialize(project=EE_PROJECT_ID) #<- Remember to change this to your own project's name!"
      ]
    },
    {
      "cell_type": "code",
      "execution_count": null,
      "metadata": {
        "id": "YIR6jwwAOs_v"
      },
      "outputs": [],
      "source": [
        "import tempfile\n",
        "import urllib.request\n",
        "\n",
        "from IPython.display import Image\n",
        "\n",
        "import geemap\n",
        "import geopandas as gpd\n",
        "import pandas as pd\n",
        "import matplotlib.image as mpimg\n",
        "import matplotlib.pyplot as plt\n",
        "import matplotlib.patches as patches\n",
        "\n",
        "from sklearn.metrics import confusion_matrix, classification_report"
      ]
    },
    {
      "cell_type": "markdown",
      "metadata": {},
      "source": [
        "# A. Read Data"
      ]
    },
    {
      "cell_type": "markdown",
      "metadata": {},
      "source": [
        "### A.1. Load LCDB v5.0 - Land Cover Database version 5.0, Mainland, New Zealand for 2024"
      ]
    },
    {
      "cell_type": "code",
      "execution_count": null,
      "metadata": {},
      "outputs": [],
      "source": [
        "# # Code to get you started\n",
        "# import zipfile\n",
        "# import geopandas as gpd\n",
        "\n",
        "# # Upload the ZIP manually using the Colab UI\n",
        "# from google.colab import files\n",
        "# uploaded = files.upload()  # <- Expects a ZIP\n",
        "\n",
        "# Unzip\n",
        "# with zipfile.ZipFile(\"LCDB_v5.zip\", 'r') as zip_ref: #<- Check file names\n",
        "#     zip_ref.extractall(\"lcdb\")\n",
        "\n",
        "# Read shapefile\n",
        "gdf = gpd.read_file(\"../dataset/lris-lcdb-v50-land-cover-great-barrier-SHP/lcdb-v50-land-cover-database-version-50-mainland-new-zealand.shp\")"
      ]
    },
    {
      "cell_type": "code",
      "execution_count": null,
      "metadata": {},
      "outputs": [],
      "source": [
        "df_2018 = gdf[['Name_2018', 'Class_2018', 'geometry', 'LCDB_UID']]\n",
        "\n",
        "# # original class of 2018\n",
        "# classes_2018 = [0, 1, 2, 5, 6, 10, 12, 14, 16, 15, 20, 21, 22, 30, 33, 40, 41, 43, 44, 45, 46, 47, 50, 51, 52, 54, 55, 56, 58, 80, 81, 70, 64, 68, 69, 71]\n",
        "# class_mapped_2018 = list(range(1, 37)) # Creates a list [1, 2, 3, ..., 36], to map from original\n",
        "\n",
        "classes_2018 = df_2018['Class_2018'].unique().tolist()\n",
        "classes_2018.sort()  # Sort the unique classes\n",
        "class_range = range(1, len(classes_2018) + 1)  # Creates a list [1, 2, ..., len(classes_2018)]\n",
        "class_mapped_2018 = list(class_range)  # Creates a list [1, 2, ..., len(classes_2018)]\n",
        "\n",
        "class_property = 'class_mapped_2018'\n",
        "df_2018[class_property] = df_2018['Class_2018'].map(dict(zip(classes_2018, class_mapped_2018)))\n",
        "df_2018"
      ]
    },
    {
      "cell_type": "code",
      "execution_count": null,
      "metadata": {},
      "outputs": [],
      "source": [
        "seed = 42  # Random seed for reproducibility\n",
        "\n",
        "# # Coordinates for Mount Hobson\n",
        "# point = ee.Geometry.Point([175.3785, -36.1830])\n",
        "aoi = ee.Geometry.Rectangle([175.27, -36.01, 175.57, -36.36])\n",
        "\n",
        "# bands = ['B2', 'B3', 'B4', 'B8'] # Sentinel-2 bands: Blue, Green, Red, NIR\n",
        "bands = ['B2', 'B3', 'B4', 'B5', 'B6', 'B7', 'B8', 'B8A', 'B9', 'B11', 'B12']\n",
        "\n",
        "lcdb = geemap.geopandas_to_ee(df_2018[[class_property, 'geometry']])\n",
        "\n",
        "# rasterizes the data\n",
        "lcdb_image = lcdb.reduceToImage(\n",
        "    properties=[class_property],\n",
        "    reducer=ee.Reducer.first()\n",
        ").clip(aoi).rename(class_property)\n",
        "\n",
        "def mask_s2_clouds(image):\n",
        "    \"\"\"Masks clouds in your S2 images via QA60 band\"\"\"\n",
        "    qa = image.select('QA60')\n",
        "    cloudBitMask = 1 << 10\n",
        "    cirrusBitMask = 1 << 11\n",
        "    mask = qa.bitwiseAnd(cloudBitMask).eq(0).And(\n",
        "    qa.bitwiseAnd(cirrusBitMask).eq(0))\n",
        "    return image.updateMask(mask).divide(10000).select(bands)\n",
        "\n",
        "s2 = (ee.ImageCollection('COPERNICUS/S2_SR_HARMONIZED')\n",
        "           .filterBounds(aoi)\n",
        "           .filter(ee.Filter.lt('CLOUDY_PIXEL_PERCENTAGE', 10)))\n",
        "\n",
        "s2_2018 = (s2\n",
        "           .filterDate('2018-01-01', '2018-12-31')\n",
        "           .map(mask_s2_clouds)\n",
        "           .median()\n",
        "           .clip(aoi))\n",
        "\n",
        "# `lcdb` only covers land. Need to mark unlabled areas in `s2_2018`.\n",
        "s2_2018_lc = s2_2018.updateMask(lcdb_image)\n",
        "\n",
        "# Combine the bands of interest with the land cover data\n",
        "# The `class_property` band will be used as our label\n",
        "training_image = s2_2018_lc.addBands(lcdb_image)"
      ]
    },
    {
      "cell_type": "markdown",
      "metadata": {},
      "source": [
        "### Visualize"
      ]
    },
    {
      "cell_type": "code",
      "execution_count": null,
      "metadata": {},
      "outputs": [],
      "source": [
        "# Add the layers to the map.\n",
        "# point = ee.Geometry.Point([175.3785, -36.1830])\n",
        "viz_params = {\n",
        "    'bands': ['B4', 'B3', 'B2'],  # RGB bands\n",
        "    'min': 0,\n",
        "    'max': 0.3,\n",
        "    'gamma': 1.4  # Adjust gamma for better visualization\n",
        "}\n",
        "\n",
        "Map = geemap.Map(center=[-36.1830, 175.3785], zoom=11)\n",
        "Map.addLayer(aoi, {}, 'AOI')\n",
        "Map.add_layer(\n",
        "    training_image.randomVisualizer(), {}, 'training_image'\n",
        ")\n",
        "Map.add_layer(\n",
        "    s2_2018, viz_params, 'S2 2018 Median RGB'\n",
        ")\n",
        "Map.add_layer(\n",
        "    s2_2018_lc, viz_params, 'S2 2018 (Land Cover)'\n",
        ")\n",
        "Map.add_layer(\n",
        "    lcdb_image.randomVisualizer(), {}, 'LCDB v5.0 (2018)'\n",
        ")\n",
        "Map"
      ]
    },
    {
      "cell_type": "markdown",
      "metadata": {},
      "source": [
        "### Training Data "
      ]
    },
    {
      "cell_type": "code",
      "execution_count": null,
      "metadata": {},
      "outputs": [],
      "source": [
        "# Sample the image to create training data\n",
        "# This will create a FeatureCollection where each feature has the pixel values \n",
        "# for the bands and the corresponding land cover class.\n",
        "training_data = training_image.select(bands + [class_property]).stratifiedSample(\n",
        "    classBand=class_property,\n",
        "    region=aoi,\n",
        "    scale=10,  # The spatial resolution to sample at\n",
        "    numPoints=200,  # The number of data points for each class\n",
        "    seed=seed,  # Random seed for reproducibility\n",
        "    geometries=True  # Include the geometry of each sampled pixel\n",
        ")"
      ]
    },
    {
      "cell_type": "code",
      "execution_count": null,
      "metadata": {},
      "outputs": [],
      "source": [
        "first_10 = training_data.limit(10).getInfo()\n",
        "\n",
        "print('\\nFirst 10 training samples:')\n",
        "for i, feature in enumerate(first_10['features']):\n",
        "    props = feature['properties']\n",
        "    print(f\"Sample {i+1}: Class={props[class_property]}, B2={props['B2']}, B3={props['B3']}, B4={props['B4']}, B8={props['B8']}\")\n",
        "\n",
        "# Count number of samples per class (server-side)\n",
        "class_counts = training_data.reduceColumns(\n",
        "    reducer=ee.Reducer.frequencyHistogram(),\n",
        "    selectors=[class_property])\n",
        "\n",
        "print('\\nClass distribution in sample:')\n",
        "print(class_counts.getInfo())"
      ]
    },
    {
      "cell_type": "code",
      "execution_count": null,
      "metadata": {},
      "outputs": [],
      "source": [
        "# Add random column\n",
        "training_data = training_data.randomColumn('random')\n",
        "\n",
        "# Split\n",
        "train_set = training_data.filter(ee.Filter.lt('random', 0.8))\n",
        "# valid_set = training_data.filter(ee.Filter.And(ee.Filter.gte('random', 0.7), ee.Filter.lt('random', 0.9)))\n",
        "test_set = training_data.filter(ee.Filter.gte('random', 0.8))\n",
        "\n",
        "# train_set = training_data.filter(ee.Filter.lt('random', 0.7))\n",
        "# valid_set = training_data.filter(ee.Filter.And(ee.Filter.gte('random', 0.7), ee.Filter.lt('random', 0.9)))\n",
        "# test_set = training_data.filter(ee.Filter.gte('random', 0.9))"
      ]
    },
    {
      "cell_type": "code",
      "execution_count": null,
      "metadata": {},
      "outputs": [],
      "source": [
        "svm = ee.Classifier.libsvm(kernelType='rbf', gamma=8, cost=200).train(\n",
        "    features=train_set,\n",
        "    classProperty=class_property,\n",
        "    inputProperties=bands\n",
        ")"
      ]
    },
    {
      "cell_type": "code",
      "execution_count": null,
      "metadata": {},
      "outputs": [],
      "source": [
        "# gammas = list(range(20, 0, -2))\n",
        "# costs = list(range(500, 0, -50))\n",
        "# list(zip(gammas, costs))"
      ]
    },
    {
      "cell_type": "code",
      "execution_count": null,
      "metadata": {},
      "outputs": [],
      "source": [
        "# # Temporary find combination of gamma and cost\n",
        "\n",
        "# for gamma, cost in zip(gammas, costs):\n",
        "#     svm = ee.Classifier.libsvm(kernelType='rbf', gamma=gamma, cost=cost).train(\n",
        "#         features=train_set,\n",
        "#         classProperty=class_property,\n",
        "#         inputProperties=bands\n",
        "#     )\n",
        "    \n",
        "#     # Print the results\n",
        "#     print(f'gamma: {gamma}, cost: {cost}, train accuracy: {svm.confusionMatrix().accuracy().getInfo()}')\n",
        "\n",
        "#     test_classified = test_set.classify(svm)\n",
        "#     test_matrix = test_classified.errorMatrix(class_property, 'classification')\n",
        "#     print('Overall accuracy:', test_matrix.accuracy().getInfo())"
      ]
    },
    {
      "cell_type": "code",
      "execution_count": null,
      "metadata": {},
      "outputs": [],
      "source": [
        "display('Results of trained classifier', svm.explain())"
      ]
    },
    {
      "cell_type": "code",
      "execution_count": null,
      "metadata": {},
      "outputs": [],
      "source": [
        "# Get a confusion matrix and overall accuracy for the training sample.\n",
        "train_accuracy = svm.confusionMatrix()\n",
        "display('Training overall accuracy', train_accuracy.accuracy())"
      ]
    },
    {
      "cell_type": "code",
      "execution_count": null,
      "metadata": {},
      "outputs": [],
      "source": [
        "# Classify validation and test sets\n",
        "# val_classified = valid_set.classify(svm)\n",
        "test_classified = test_set.classify(svm)\n",
        "\n",
        "# Function to export data for confusion matrix\n",
        "def fc_to_lists(fc, classProp, predProp):\n",
        "    values = fc.aggregate_array(classProp).getInfo()\n",
        "    preds = fc.aggregate_array(predProp).getInfo()\n",
        "    return values, preds\n",
        "\n",
        "# Get predicted vs actual from test set\n",
        "y_true, y_pred = fc_to_lists(test_classified, class_property, 'classification')\n"
      ]
    },
    {
      "cell_type": "code",
      "execution_count": null,
      "metadata": {},
      "outputs": [],
      "source": [
        "# Confusion matrix\n",
        "cm = confusion_matrix(y_true, y_pred, labels=class_mapped_2018)\n",
        "report = classification_report(y_true, y_pred, labels=class_mapped_2018, target_names=[str(l) for l in classes_2018])\n",
        "\n",
        "# Pretty-print\n",
        "print(\"Confusion Matrix:\")\n",
        "print(pd.DataFrame(cm, index=[f\"Actual {l}\" for l in classes_2018],\n",
        "                       columns=[f\"Pred {l}\" for l in classes_2018]))\n",
        "print(\"\\nClassification Report:\")\n",
        "print(report)"
      ]
    },
    {
      "cell_type": "code",
      "execution_count": null,
      "metadata": {},
      "outputs": [],
      "source": [
        "\n",
        "# Evaluate test performance\n",
        "test_matrix = test_classified.errorMatrix(class_property, 'classification')\n",
        "# print(\"Confusion Matrix:\")\n",
        "# print(pd.DataFrame(test_matrix.getInfo(), index=[f\"Actual {l}\" for l in classes_2018],\n",
        "#                        columns=[f\"Pred {l}\" for l in classes_2018]))\n",
        "# print(\"\\nClassification Report:\")\n",
        "# print(report)\n",
        "\n",
        "# print('Error matrix:')\n",
        "# print(test_matrix.getInfo())\n",
        "\n",
        "# Compute accuracy metrics from the error matrix\n",
        "print('Overall accuracy:', test_matrix.accuracy().getInfo())\n",
        "# print('Consumer\\'s accuracy:')\n",
        "# print(test_matrix.consumersAccuracy().getInfo())\n",
        "# print('Producer\\'s accuracy:')\n",
        "# print(test_matrix.producersAccuracy().getInfo())\n",
        "print('Kappa:', test_matrix.kappa().getInfo())"
      ]
    },
    {
      "cell_type": "code",
      "execution_count": null,
      "metadata": {},
      "outputs": [],
      "source": [
        "# Austral summer of 24/25\n",
        "s2_2025 = (s2\n",
        "           .filterDate('2024-09-01', '2025-07-31')\n",
        "           .map(mask_s2_clouds)\n",
        "           .median()\n",
        "           .clip(aoi))\n",
        "\n",
        "s2_2025_classified = s2_2025.updateMask(lcdb_image).classify(svm)\n",
        "\n",
        "s2_2018_classified = s2_2018_lc.classify(svm)"
      ]
    },
    {
      "cell_type": "code",
      "execution_count": null,
      "metadata": {},
      "outputs": [],
      "source": [
        "# Add the layers to the map.\n",
        "# point = ee.Geometry.Point([175.3785, -36.1830])\n",
        "viz_params = {\n",
        "    'bands': ['B4', 'B3', 'B2'],  # RGB bands\n",
        "    'min': 0,\n",
        "    'max': 0.3,\n",
        "    'gamma': 1.4  # Adjust gamma for better visualization\n",
        "}\n",
        "\n",
        "# Classified image viz, fresh set up again to make sure we have exactly what we want displayed.\n",
        "classified_map = geemap.Map()\n",
        "classified_map.centerObject(aoi, 10)\n",
        "classified_map.addLayer(s2_2025, viz_params, '2025 RGB')\n",
        "classified_map.addLayer(s2_2025_classified.randomVisualizer(), {}, '2025 Classified')\n",
        "classified_map.addLayer(s2_2018_lc, viz_params, '2018 RGB')\n",
        "classified_map.addLayer(s2_2018_classified.randomVisualizer(), {}, '2018 Classified')\n",
        "classified_map.addLayer(lcdb_image.randomVisualizer(), {} ,'LCDB v5.0')\n",
        "classified_map"
      ]
    }
  ],
  "metadata": {
    "colab": {
      "provenance": []
    },
    "kernelspec": {
      "display_name": "geo",
      "language": "python",
      "name": "python3"
    },
    "language_info": {
      "codemirror_mode": {
        "name": "ipython",
        "version": 3
      },
      "file_extension": ".py",
      "mimetype": "text/x-python",
      "name": "python",
      "nbconvert_exporter": "python",
      "pygments_lexer": "ipython3",
      "version": "3.13.5"
    }
  },
  "nbformat": 4,
  "nbformat_minor": 0
}
