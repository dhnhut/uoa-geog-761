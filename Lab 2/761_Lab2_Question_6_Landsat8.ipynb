{
 "cells": [
  {
   "cell_type": "markdown",
   "metadata": {},
   "source": [
    "# Lab 2, Question 6\n",
    "\n",
    "(6) Exercise: using an SVM model and the Landcare NZ 2024 landcover database, produce a landcover map of Great Barrier (Aotea) Island for 2025 (based off the Austral summer of 24/25).\n",
    "\n",
    "Your map should be presented at a publication quality level with all the usual map components (scale, legend, north arrow, data attribution).\n",
    "\n",
    "You will need to provide performance statistics of the model within your figure.\n",
    "\n",
    "*   Here you can access the landcover database: https://lris.scinfo.org.nz/layer/104400-lcdb-v50-land-cover-database-version-50-mainland-new-zealand/. You will need to explore for yourself how to extract this data and then upload it to colab, then how to plug it into the SVM algorithim. I have provided some starter code below.\n",
    "\n",
    "An intial workflow to get the data into the state you need it in to then use it as training data might look like:\n",
    "- Download the ZIP manually from their browser, having set your area of interest and used the 'Export' tool top right.\n",
    "- Upload it to Colab.\n",
    "- Unzip it and load with GeoPandas.\n",
    "(25 pts)\n",
    "\n",
    "\n",
    "_______________________________________________________________________________\n"
   ]
  },
  {
   "cell_type": "markdown",
   "metadata": {},
   "source": [
    "### Setup"
   ]
  },
  {
   "cell_type": "code",
   "execution_count": 2,
   "metadata": {
    "id": "oTVEkaWvOjHL"
   },
   "outputs": [],
   "source": [
    "if 'google.colab' in str(get_ipython()):\n",
    "    from google.colab import userdata\n",
    "    EE_PROJECT_ID = userdata.get('EE_PROJECT_ID') \n",
    "else:\n",
    "    from dotenv import load_dotenv\n",
    "    import os\n",
    "    load_dotenv()  # take environment variables\n",
    "    EE_PROJECT_ID = os.getenv('EE_PROJECT_ID')\n",
    "\n",
    "# Set up GEE API\n",
    "import ee\n",
    "ee.Authenticate()\n",
    "ee.Initialize(project=EE_PROJECT_ID) #<- Remember to change this to your own project's name!"
   ]
  },
  {
   "cell_type": "code",
   "execution_count": 28,
   "metadata": {
    "id": "YIR6jwwAOs_v"
   },
   "outputs": [
    {
     "data": {
      "text/html": [
       "\n",
       "            <style>\n",
       "                .geemap-dark {\n",
       "                    --jp-widgets-color: white;\n",
       "                    --jp-widgets-label-color: white;\n",
       "                    --jp-ui-font-color1: white;\n",
       "                    --jp-layout-color2: #454545;\n",
       "                    background-color: #383838;\n",
       "                }\n",
       "\n",
       "                .geemap-dark .jupyter-button {\n",
       "                    --jp-layout-color3: #383838;\n",
       "                }\n",
       "\n",
       "                .geemap-colab {\n",
       "                    background-color: var(--colab-primary-surface-color, white);\n",
       "                }\n",
       "\n",
       "                .geemap-colab .jupyter-button {\n",
       "                    --jp-layout-color3: var(--colab-primary-surface-color, white);\n",
       "                }\n",
       "            </style>\n",
       "            "
      ],
      "text/plain": [
       "<IPython.core.display.HTML object>"
      ]
     },
     "metadata": {},
     "output_type": "display_data"
    }
   ],
   "source": [
    "import tempfile\n",
    "import urllib.request\n",
    "\n",
    "from IPython.display import Image\n",
    "\n",
    "import geemap\n",
    "import geopandas as gpd\n",
    "import pandas as pd\n",
    "import matplotlib.image as mpimg\n",
    "import matplotlib.pyplot as plt\n",
    "import matplotlib.patches as patches\n",
    "\n",
    "from sklearn.metrics import confusion_matrix, classification_report"
   ]
  },
  {
   "cell_type": "markdown",
   "metadata": {},
   "source": [
    "# A. Read Data"
   ]
  },
  {
   "cell_type": "markdown",
   "metadata": {},
   "source": [
    "### A.1. Load LCDB v5.0 - Land Cover Database version 5.0, Mainland, New Zealand for 2024"
   ]
  },
  {
   "cell_type": "code",
   "execution_count": 4,
   "metadata": {},
   "outputs": [
    {
     "data": {
      "text/html": [
       "\n",
       "            <style>\n",
       "                .geemap-dark {\n",
       "                    --jp-widgets-color: white;\n",
       "                    --jp-widgets-label-color: white;\n",
       "                    --jp-ui-font-color1: white;\n",
       "                    --jp-layout-color2: #454545;\n",
       "                    background-color: #383838;\n",
       "                }\n",
       "\n",
       "                .geemap-dark .jupyter-button {\n",
       "                    --jp-layout-color3: #383838;\n",
       "                }\n",
       "\n",
       "                .geemap-colab {\n",
       "                    background-color: var(--colab-primary-surface-color, white);\n",
       "                }\n",
       "\n",
       "                .geemap-colab .jupyter-button {\n",
       "                    --jp-layout-color3: var(--colab-primary-surface-color, white);\n",
       "                }\n",
       "            </style>\n",
       "            "
      ],
      "text/plain": [
       "<IPython.core.display.HTML object>"
      ]
     },
     "metadata": {},
     "output_type": "display_data"
    }
   ],
   "source": [
    "seed = 42  # Random seed for reproducibility\n",
    "\n",
    "# Correct order: [xmin, ymin, xmax, ymax]\n",
    "aoi = ee.Geometry.Rectangle([175.27, -36.36, 175.57, -36.01])"
   ]
  },
  {
   "cell_type": "code",
   "execution_count": null,
   "metadata": {},
   "outputs": [
    {
     "data": {
      "text/html": [
       "\n",
       "            <style>\n",
       "                .geemap-dark {\n",
       "                    --jp-widgets-color: white;\n",
       "                    --jp-widgets-label-color: white;\n",
       "                    --jp-ui-font-color1: white;\n",
       "                    --jp-layout-color2: #454545;\n",
       "                    background-color: #383838;\n",
       "                }\n",
       "\n",
       "                .geemap-dark .jupyter-button {\n",
       "                    --jp-layout-color3: #383838;\n",
       "                }\n",
       "\n",
       "                .geemap-colab {\n",
       "                    background-color: var(--colab-primary-surface-color, white);\n",
       "                }\n",
       "\n",
       "                .geemap-colab .jupyter-button {\n",
       "                    --jp-layout-color3: var(--colab-primary-surface-color, white);\n",
       "                }\n",
       "            </style>\n",
       "            "
      ],
      "text/plain": [
       "<IPython.core.display.HTML object>"
      ]
     },
     "metadata": {},
     "output_type": "display_data"
    }
   ],
   "source": [
    "def mask_clouds(image):\n",
    "    qa = image.select('QA_PIXEL')\n",
    "    # Mask dilated clouds, cirrus, cloud, and cloud shadow\n",
    "    mask = (qa.bitwiseAnd(1 << 1).eq(0)  # dilated\n",
    "            .And(qa.bitwiseAnd(1 << 2).eq(0))  # cirrus\n",
    "            .And(qa.bitwiseAnd(1 << 3).eq(0))  # cloud\n",
    "            .And(qa.bitwiseAnd(1 << 4).eq(0)))  # shadow\n",
    "    return image.updateMask(mask)\n",
    "\n",
    "# Applies scaling factors.\n",
    "def apply_scale_factors(image):\n",
    "  optical_bands = image.select('SR_B.').multiply(0.0000275).add(-0.2)\n",
    "  thermal_bands = image.select('ST_B.*').multiply(0.00341802).add(149.0)\n",
    "  return image.addBands(optical_bands, None, True).addBands(\n",
    "      thermal_bands, None, True\n",
    "  )\n",
    "\n",
    "l8 = (ee.ImageCollection(\"LANDSAT/LC08/C02/T1_L2\")\n",
    "           .filterBounds(aoi)\n",
    "           .filter(ee.Filter.lt('CLOUD_COVER', 10)))\n",
    "\n",
    "l8_2018 = (l8\n",
    "           .filterDate('2018-01-01', '2018-12-31')\n",
    "           .map(mask_clouds)\n",
    "           .map(apply_scale_factors)\n",
    "           .median()\n",
    "           .clip(aoi))\n",
    "\n",
    "viz_rgb_params = {\n",
    "    'bands': ['SR_B4', 'SR_B3', 'SR_B2'],\n",
    "    'min': 0.0,\n",
    "    'max': 0.3,\n",
    "}"
   ]
  },
  {
   "cell_type": "markdown",
   "metadata": {},
   "source": [
    "### A.x Preparation classification data\n",
    "#### Load data"
   ]
  },
  {
   "cell_type": "code",
   "execution_count": 6,
   "metadata": {},
   "outputs": [
    {
     "data": {
      "text/html": [
       "\n",
       "            <style>\n",
       "                .geemap-dark {\n",
       "                    --jp-widgets-color: white;\n",
       "                    --jp-widgets-label-color: white;\n",
       "                    --jp-ui-font-color1: white;\n",
       "                    --jp-layout-color2: #454545;\n",
       "                    background-color: #383838;\n",
       "                }\n",
       "\n",
       "                .geemap-dark .jupyter-button {\n",
       "                    --jp-layout-color3: #383838;\n",
       "                }\n",
       "\n",
       "                .geemap-colab {\n",
       "                    background-color: var(--colab-primary-surface-color, white);\n",
       "                }\n",
       "\n",
       "                .geemap-colab .jupyter-button {\n",
       "                    --jp-layout-color3: var(--colab-primary-surface-color, white);\n",
       "                }\n",
       "            </style>\n",
       "            "
      ],
      "text/plain": [
       "<IPython.core.display.HTML object>"
      ]
     },
     "metadata": {},
     "output_type": "display_data"
    }
   ],
   "source": [
    "# import zipfile\n",
    "# import geopandas as gpd\n",
    "\n",
    "# # Upload the ZIP manually using the Colab UI\n",
    "# from google.colab import files\n",
    "# uploaded = files.upload()  # <- Expects a ZIP\n",
    "\n",
    "# Unzip\n",
    "# with zipfile.ZipFile(\"LCDB_v5.zip\", 'r') as zip_ref: #<- Check file names\n",
    "#     zip_ref.extractall(\"lcdb\")\n",
    "\n",
    "# Read shapefile\n",
    "gdf = gpd.read_file(\"../dataset/lris-lcdb-v50-land-cover-great-barrier-SHP/lcdb-v50-land-cover-database-version-50-mainland-new-zealand.shp\")\n",
    "df_2018 = gdf[['Name_2018', 'Class_2018', 'geometry', 'LCDB_UID']].copy()"
   ]
  },
  {
   "cell_type": "markdown",
   "metadata": {},
   "source": [
    "#### Have a quick look"
   ]
  },
  {
   "cell_type": "code",
   "execution_count": 7,
   "metadata": {},
   "outputs": [
    {
     "data": {
      "text/html": [
       "\n",
       "            <style>\n",
       "                .geemap-dark {\n",
       "                    --jp-widgets-color: white;\n",
       "                    --jp-widgets-label-color: white;\n",
       "                    --jp-ui-font-color1: white;\n",
       "                    --jp-layout-color2: #454545;\n",
       "                    background-color: #383838;\n",
       "                }\n",
       "\n",
       "                .geemap-dark .jupyter-button {\n",
       "                    --jp-layout-color3: #383838;\n",
       "                }\n",
       "\n",
       "                .geemap-colab {\n",
       "                    background-color: var(--colab-primary-surface-color, white);\n",
       "                }\n",
       "\n",
       "                .geemap-colab .jupyter-button {\n",
       "                    --jp-layout-color3: var(--colab-primary-surface-color, white);\n",
       "                }\n",
       "            </style>\n",
       "            "
      ],
      "text/plain": [
       "<IPython.core.display.HTML object>"
      ]
     },
     "metadata": {},
     "output_type": "display_data"
    },
    {
     "data": {
      "text/plain": [
       "{'Class_2018': {'1': 1192,\n",
       "  '10': 12897,\n",
       "  '12': 6,\n",
       "  '16': 1206,\n",
       "  '2': 318,\n",
       "  '20': 22,\n",
       "  '21': 100,\n",
       "  '22': 1243,\n",
       "  '33': 196,\n",
       "  '40': 22912,\n",
       "  '41': 5075,\n",
       "  '45': 4403,\n",
       "  '46': 2508,\n",
       "  '5': 63,\n",
       "  '51': 758,\n",
       "  '52': 198722,\n",
       "  '54': 64287,\n",
       "  '6': 32,\n",
       "  '64': 129,\n",
       "  '69': 89235,\n",
       "  '70': 1756,\n",
       "  '71': 2203}}"
      ]
     },
     "metadata": {},
     "output_type": "display_data"
    }
   ],
   "source": [
    "class_2018_lcdb = geemap.geopandas_to_ee(df_2018[['Class_2018', 'geometry']])\n",
    "\n",
    "# rasterizes the data\n",
    "class_2018_lcdb_image = class_2018_lcdb.reduceToImage(\n",
    "    properties=['Class_2018'],\n",
    "    reducer=ee.Reducer.first()\n",
    ").rename('Class_2018').clip(aoi).toInt()\n",
    "\n",
    "pixel_counts = l8_2018.updateMask(class_2018_lcdb_image).addBands(class_2018_lcdb_image).select('Class_2018').reduceRegion(\n",
    "    reducer=ee.Reducer.frequencyHistogram(),\n",
    "    geometry=aoi,\n",
    "    scale=30,  # The spatial resolution of your imagery, in meters.\n",
    "    maxPixels=1e9 # A large number to ensure all pixels are counted.\n",
    ")\n",
    "\n",
    "display(pixel_counts.getInfo())"
   ]
  },
  {
   "cell_type": "markdown",
   "metadata": {},
   "source": [
    "=> The data is imbalance, and only a part (22/36 classes) of classes from original dataset."
   ]
  },
  {
   "cell_type": "markdown",
   "metadata": {},
   "source": [
    "### A.x Merge classes\n",
    "- Reduce model complexity. SVM is natively aim to solve binary classification\n",
    "- Reduce imbalancing of data => better performance"
   ]
  },
  {
   "cell_type": "code",
   "execution_count": 8,
   "metadata": {},
   "outputs": [
    {
     "data": {
      "text/html": [
       "\n",
       "            <style>\n",
       "                .geemap-dark {\n",
       "                    --jp-widgets-color: white;\n",
       "                    --jp-widgets-label-color: white;\n",
       "                    --jp-ui-font-color1: white;\n",
       "                    --jp-layout-color2: #454545;\n",
       "                    background-color: #383838;\n",
       "                }\n",
       "\n",
       "                .geemap-dark .jupyter-button {\n",
       "                    --jp-layout-color3: #383838;\n",
       "                }\n",
       "\n",
       "                .geemap-colab {\n",
       "                    background-color: var(--colab-primary-surface-color, white);\n",
       "                }\n",
       "\n",
       "                .geemap-colab .jupyter-button {\n",
       "                    --jp-layout-color3: var(--colab-primary-surface-color, white);\n",
       "                }\n",
       "            </style>\n",
       "            "
      ],
      "text/plain": [
       "<IPython.core.display.HTML object>"
      ]
     },
     "metadata": {},
     "output_type": "display_data"
    }
   ],
   "source": [
    "mapped_classes = {\n",
    "    52: 1, # (Scrub) Manuka and/or Kanuka\t                198,722\n",
    "    33: 1, # (Scrub) Manuka and/or Kanuka                   196\n",
    "    54: 1, # (Scrub) Broadleaved Indigenous Hardwoods\t    64,287\n",
    "    51: 1, # (Scrub) Gorse and/or Broom                     758\n",
    "    69: 2, # (Forest) Indigenous Forest\t                    89,235\n",
    "    71: 2, # (Forest) Exotic Forest                         2,203\n",
    "    40: 3, # (Grassland) High Producing Exotic Grassland    22,912\n",
    "    41: 3, # (Grassland) Low Producing Grassland            5,075\n",
    "    70: 4, # (Mangrove) Mangrove                            1,756\n",
    "    10: 5, # (Bare) Sand or Gravel                          12,897\n",
    "    16: 5, # (Bare) Gravel or Rock                          1,206\n",
    "    64: 5, # (Bare) Forest - Harvested                      129\n",
    "    12: 5, # (Bare) Landslide                               6\n",
    "    45: 6, # (Herbaceous) Herbaceous Freshwater Vegetation  4,403\n",
    "    46: 6, # (Herbaceous) Herbaceous Saline Vegetation      2,508\n",
    "    22: 7, # (Water) Estuarine Open Water                   1,243\n",
    "    21: 7, # (Water) River                                  100\n",
    "    20: 7, # (Water) Lake or Pond                           22\n",
    "    1: 8,  # (Urban) Built-up Area (settlement)             1,192\n",
    "    2: 8,  # (Urban) Parkland/Open Space                    318\n",
    "    5: 8,  # (Urban) Transport Infrastructure               63\n",
    "    6: 9,  # (Other) Surface Mine or Dump                   32\n",
    "}"
   ]
  },
  {
   "cell_type": "code",
   "execution_count": 9,
   "metadata": {},
   "outputs": [
    {
     "data": {
      "text/html": [
       "\n",
       "            <style>\n",
       "                .geemap-dark {\n",
       "                    --jp-widgets-color: white;\n",
       "                    --jp-widgets-label-color: white;\n",
       "                    --jp-ui-font-color1: white;\n",
       "                    --jp-layout-color2: #454545;\n",
       "                    background-color: #383838;\n",
       "                }\n",
       "\n",
       "                .geemap-dark .jupyter-button {\n",
       "                    --jp-layout-color3: #383838;\n",
       "                }\n",
       "\n",
       "                .geemap-colab {\n",
       "                    background-color: var(--colab-primary-surface-color, white);\n",
       "                }\n",
       "\n",
       "                .geemap-colab .jupyter-button {\n",
       "                    --jp-layout-color3: var(--colab-primary-surface-color, white);\n",
       "                }\n",
       "            </style>\n",
       "            "
      ],
      "text/plain": [
       "<IPython.core.display.HTML object>"
      ]
     },
     "metadata": {},
     "output_type": "display_data"
    },
    {
     "data": {
      "text/html": [
       "<div>\n",
       "<style scoped>\n",
       "    .dataframe tbody tr th:only-of-type {\n",
       "        vertical-align: middle;\n",
       "    }\n",
       "\n",
       "    .dataframe tbody tr th {\n",
       "        vertical-align: top;\n",
       "    }\n",
       "\n",
       "    .dataframe thead th {\n",
       "        text-align: right;\n",
       "    }\n",
       "</style>\n",
       "<table border=\"1\" class=\"dataframe\">\n",
       "  <thead>\n",
       "    <tr style=\"text-align: right;\">\n",
       "      <th></th>\n",
       "      <th>Name_2018</th>\n",
       "      <th>Class_2018</th>\n",
       "      <th>geometry</th>\n",
       "      <th>LCDB_UID</th>\n",
       "      <th>class_mapped_2018</th>\n",
       "    </tr>\n",
       "  </thead>\n",
       "  <tbody>\n",
       "    <tr>\n",
       "      <th>0</th>\n",
       "      <td>Indigenous Forest</td>\n",
       "      <td>69</td>\n",
       "      <td>POLYGON ((1820024.501 6001139.3, 1820024.88 60...</td>\n",
       "      <td>lcdb1000168553</td>\n",
       "      <td>2</td>\n",
       "    </tr>\n",
       "    <tr>\n",
       "      <th>1</th>\n",
       "      <td>Sand or Gravel</td>\n",
       "      <td>10</td>\n",
       "      <td>POLYGON ((1820044.213 6001276.335, 1820054.749...</td>\n",
       "      <td>lcdb1000009545</td>\n",
       "      <td>5</td>\n",
       "    </tr>\n",
       "    <tr>\n",
       "      <th>2</th>\n",
       "      <td>Indigenous Forest</td>\n",
       "      <td>69</td>\n",
       "      <td>POLYGON ((1818865.334 6000862.483, 1818892.667...</td>\n",
       "      <td>lcdb1000168544</td>\n",
       "      <td>2</td>\n",
       "    </tr>\n",
       "    <tr>\n",
       "      <th>3</th>\n",
       "      <td>Sand or Gravel</td>\n",
       "      <td>10</td>\n",
       "      <td>POLYGON ((1818859.62 6001650.91, 1818879.751 6...</td>\n",
       "      <td>lcdb1000009547</td>\n",
       "      <td>5</td>\n",
       "    </tr>\n",
       "    <tr>\n",
       "      <th>4</th>\n",
       "      <td>Indigenous Forest</td>\n",
       "      <td>69</td>\n",
       "      <td>POLYGON ((1819208.841 5997374.363, 1819193.973...</td>\n",
       "      <td>lcdb1000168423</td>\n",
       "      <td>2</td>\n",
       "    </tr>\n",
       "    <tr>\n",
       "      <th>...</th>\n",
       "      <td>...</td>\n",
       "      <td>...</td>\n",
       "      <td>...</td>\n",
       "      <td>...</td>\n",
       "      <td>...</td>\n",
       "    </tr>\n",
       "    <tr>\n",
       "      <th>600</th>\n",
       "      <td>Broadleaved Indigenous Hardwoods</td>\n",
       "      <td>54</td>\n",
       "      <td>POLYGON ((1815221.771 5992743.223, 1815178.566...</td>\n",
       "      <td>lcdb1000122604</td>\n",
       "      <td>1</td>\n",
       "    </tr>\n",
       "    <tr>\n",
       "      <th>601</th>\n",
       "      <td>Broadleaved Indigenous Hardwoods</td>\n",
       "      <td>54</td>\n",
       "      <td>POLYGON ((1815222.725 5993078.074, 1815241.205...</td>\n",
       "      <td>lcdb1000122593</td>\n",
       "      <td>1</td>\n",
       "    </tr>\n",
       "    <tr>\n",
       "      <th>602</th>\n",
       "      <td>Broadleaved Indigenous Hardwoods</td>\n",
       "      <td>54</td>\n",
       "      <td>POLYGON ((1815479.996 5993366.704, 1815438.725...</td>\n",
       "      <td>lcdb1000122624</td>\n",
       "      <td>1</td>\n",
       "    </tr>\n",
       "    <tr>\n",
       "      <th>603</th>\n",
       "      <td>High Producing Exotic Grassland</td>\n",
       "      <td>40</td>\n",
       "      <td>POLYGON ((1815617.885 5995904.409, 1815612.303...</td>\n",
       "      <td>lcdb1000452551</td>\n",
       "      <td>3</td>\n",
       "    </tr>\n",
       "    <tr>\n",
       "      <th>604</th>\n",
       "      <td>Manuka and/or Kanuka</td>\n",
       "      <td>52</td>\n",
       "      <td>POLYGON ((1815614.725 5996239.528, 1815610.442...</td>\n",
       "      <td>lcdb1000454650</td>\n",
       "      <td>1</td>\n",
       "    </tr>\n",
       "  </tbody>\n",
       "</table>\n",
       "<p>605 rows × 5 columns</p>\n",
       "</div>"
      ],
      "text/plain": [
       "                            Name_2018  Class_2018  \\\n",
       "0                   Indigenous Forest          69   \n",
       "1                      Sand or Gravel          10   \n",
       "2                   Indigenous Forest          69   \n",
       "3                      Sand or Gravel          10   \n",
       "4                   Indigenous Forest          69   \n",
       "..                                ...         ...   \n",
       "600  Broadleaved Indigenous Hardwoods          54   \n",
       "601  Broadleaved Indigenous Hardwoods          54   \n",
       "602  Broadleaved Indigenous Hardwoods          54   \n",
       "603   High Producing Exotic Grassland          40   \n",
       "604              Manuka and/or Kanuka          52   \n",
       "\n",
       "                                              geometry        LCDB_UID  \\\n",
       "0    POLYGON ((1820024.501 6001139.3, 1820024.88 60...  lcdb1000168553   \n",
       "1    POLYGON ((1820044.213 6001276.335, 1820054.749...  lcdb1000009545   \n",
       "2    POLYGON ((1818865.334 6000862.483, 1818892.667...  lcdb1000168544   \n",
       "3    POLYGON ((1818859.62 6001650.91, 1818879.751 6...  lcdb1000009547   \n",
       "4    POLYGON ((1819208.841 5997374.363, 1819193.973...  lcdb1000168423   \n",
       "..                                                 ...             ...   \n",
       "600  POLYGON ((1815221.771 5992743.223, 1815178.566...  lcdb1000122604   \n",
       "601  POLYGON ((1815222.725 5993078.074, 1815241.205...  lcdb1000122593   \n",
       "602  POLYGON ((1815479.996 5993366.704, 1815438.725...  lcdb1000122624   \n",
       "603  POLYGON ((1815617.885 5995904.409, 1815612.303...  lcdb1000452551   \n",
       "604  POLYGON ((1815614.725 5996239.528, 1815610.442...  lcdb1000454650   \n",
       "\n",
       "     class_mapped_2018  \n",
       "0                    2  \n",
       "1                    5  \n",
       "2                    2  \n",
       "3                    5  \n",
       "4                    2  \n",
       "..                 ...  \n",
       "600                  1  \n",
       "601                  1  \n",
       "602                  1  \n",
       "603                  3  \n",
       "604                  1  \n",
       "\n",
       "[605 rows x 5 columns]"
      ]
     },
     "execution_count": 9,
     "metadata": {},
     "output_type": "execute_result"
    }
   ],
   "source": [
    "# classes_2018 = df_2018['Class_2018'].unique().tolist()\n",
    "# classes_2018.sort()  # Sort the unique classes\n",
    "class_range = list(range(1, 10))  # Creates a list [1, 2, ..., 9]\n",
    "\n",
    "class_property = 'class_mapped_2018'\n",
    "df_2018[class_property] = df_2018['Class_2018'].map(lambda x: mapped_classes.get(x, 0))  # Map classes to new values, default to 0 if not found\n",
    "df_2018"
   ]
  },
  {
   "cell_type": "markdown",
   "metadata": {},
   "source": [
    "### A.x Feature enhancement"
   ]
  },
  {
   "cell_type": "code",
   "execution_count": 10,
   "metadata": {},
   "outputs": [
    {
     "data": {
      "text/html": [
       "\n",
       "            <style>\n",
       "                .geemap-dark {\n",
       "                    --jp-widgets-color: white;\n",
       "                    --jp-widgets-label-color: white;\n",
       "                    --jp-ui-font-color1: white;\n",
       "                    --jp-layout-color2: #454545;\n",
       "                    background-color: #383838;\n",
       "                }\n",
       "\n",
       "                .geemap-dark .jupyter-button {\n",
       "                    --jp-layout-color3: #383838;\n",
       "                }\n",
       "\n",
       "                .geemap-colab {\n",
       "                    background-color: var(--colab-primary-surface-color, white);\n",
       "                }\n",
       "\n",
       "                .geemap-colab .jupyter-button {\n",
       "                    --jp-layout-color3: var(--colab-primary-surface-color, white);\n",
       "                }\n",
       "            </style>\n",
       "            "
      ],
      "text/plain": [
       "<IPython.core.display.HTML object>"
      ]
     },
     "metadata": {},
     "output_type": "display_data"
    }
   ],
   "source": [
    "# bands = ['B2', 'B3', 'B4', 'B8'] # Sentinel-2 bands: Blue, Green, Red, NIR\n",
    "l8_bands = ['SR_B1', 'SR_B2', 'SR_B3', 'SR_B4', 'SR_B5', 'SR_B6', 'SR_B7']\n",
    "\n",
    "# bands = l8_bands\n",
    "bands = l8_bands + ['NDVI', 'NDWI', 'EVI', 'SAVI', 'NBR']\n",
    "\n",
    "# Calculate vegetation indices\n",
    "def add_vegetation_indices(image):\n",
    "    ndvi = image.normalizedDifference(['SR_B5', 'SR_B4']).rename('NDVI')\n",
    "    ndwi = image.normalizedDifference(['SR_B3', 'SR_B5']).rename('NDWI')\n",
    "    evi = image.expression('2.5 * ((NIR - RED) / (NIR + 6 * RED - 7.5 * BLUE + 1))', {\n",
    "        'NIR': image.select('SR_B5'),\n",
    "        'RED': image.select('SR_B4'),\n",
    "        'BLUE': image.select('SR_B2')\n",
    "    }).rename('EVI')\n",
    "    savi = image.expression('1.5 * ((NIR - RED) / (NIR + RED + 0.5))', {\n",
    "        'NIR': image.select('SR_B5'),\n",
    "        'RED': image.select('SR_B4')\n",
    "    }).rename('SAVI')\n",
    "    nbr = image.normalizedDifference(['SR_B5', 'SR_B7']).rename('NBR')\n",
    "    \n",
    "    return image.addBands([ndvi, ndwi, evi, savi, nbr])\n",
    "\n",
    "lcdb = geemap.geopandas_to_ee(df_2018[[class_property, 'geometry']])\n",
    "\n",
    "# rasterizes the data\n",
    "lcdb_image = lcdb.reduceToImage(\n",
    "    properties=[class_property],\n",
    "    reducer=ee.Reducer.first()\n",
    ").rename(class_property).clip(aoi).toInt()\n",
    "\n",
    "class_2018_lcdb_image = geemap.geopandas_to_ee(df_2018[['Class_2018', 'geometry']]) \\\n",
    "    .reduceToImage(\n",
    "        properties=['Class_2018'],\n",
    "        reducer=ee.Reducer.first()\n",
    "    ).rename('Class_2018').clip(aoi).toInt()\n",
    "\n",
    "# Apply scale factors so SR bands are in reflectance (approx 0-1)\n",
    "# `lcdb` only covers land. Need to mark unlabled areas in `l8_2018`.\n",
    "# l8_2018_lc = apply_scale_factors(l8_2018).updateMask(lcdb_image)\n",
    "l8_2018_lc = l8_2018.updateMask(lcdb_image)\n",
    "\n",
    "# Combine the bands of interest with the land cover data\n",
    "# The `class_property` band will be used as our label\n",
    "training_image = add_vegetation_indices(l8_2018_lc.addBands(lcdb_image))\n",
    "#     .select(bands + [class_property])\n",
    "    \n",
    "# training_image = l8_2018_lc.addBands(lcdb_image)"
   ]
  },
  {
   "cell_type": "markdown",
   "metadata": {},
   "source": [
    "### Visualize"
   ]
  },
  {
   "cell_type": "code",
   "execution_count": 11,
   "metadata": {},
   "outputs": [
    {
     "data": {
      "text/html": [
       "\n",
       "            <style>\n",
       "                .geemap-dark {\n",
       "                    --jp-widgets-color: white;\n",
       "                    --jp-widgets-label-color: white;\n",
       "                    --jp-ui-font-color1: white;\n",
       "                    --jp-layout-color2: #454545;\n",
       "                    background-color: #383838;\n",
       "                }\n",
       "\n",
       "                .geemap-dark .jupyter-button {\n",
       "                    --jp-layout-color3: #383838;\n",
       "                }\n",
       "\n",
       "                .geemap-colab {\n",
       "                    background-color: var(--colab-primary-surface-color, white);\n",
       "                }\n",
       "\n",
       "                .geemap-colab .jupyter-button {\n",
       "                    --jp-layout-color3: var(--colab-primary-surface-color, white);\n",
       "                }\n",
       "            </style>\n",
       "            "
      ],
      "text/plain": [
       "<IPython.core.display.HTML object>"
      ]
     },
     "metadata": {},
     "output_type": "display_data"
    },
    {
     "data": {
      "application/vnd.jupyter.widget-view+json": {
       "model_id": "3de099e65abe41e3bca2c810bbcf007c",
       "version_major": 2,
       "version_minor": 0
      },
      "text/plain": [
       "Map(center=[-36.183, 175.3785], controls=(WidgetControl(options=['position', 'transparent_bg'], position='topr…"
      ]
     },
     "execution_count": 11,
     "metadata": {},
     "output_type": "execute_result"
    }
   ],
   "source": [
    "Map = geemap.Map(center=[-36.1830, 175.3785], zoom=11)\n",
    "Map.addLayer(aoi, {}, 'AOI')\n",
    "Map.add_layer(\n",
    "    class_2018_lcdb_image.select('Class_2018').randomVisualizer(), {}, 'LCDB v5.0 (2018)'\n",
    ")\n",
    "# Map.add_layer(\n",
    "#     l8_2018, viz_rgb_params, 'l8_2018'\n",
    "# )\n",
    "Map.add_layer(\n",
    "    training_image, viz_rgb_params, 'L8 2018 (Land Cover)'\n",
    ")\n",
    "Map.add_layer(\n",
    "    training_image.select(class_property).randomVisualizer(), {}, 'Groupped - LCDB v5.0'\n",
    ")\n",
    "Map"
   ]
  },
  {
   "cell_type": "markdown",
   "metadata": {},
   "source": [
    "### Training Data "
   ]
  },
  {
   "cell_type": "code",
   "execution_count": 12,
   "metadata": {},
   "outputs": [
    {
     "data": {
      "text/html": [
       "\n",
       "            <style>\n",
       "                .geemap-dark {\n",
       "                    --jp-widgets-color: white;\n",
       "                    --jp-widgets-label-color: white;\n",
       "                    --jp-ui-font-color1: white;\n",
       "                    --jp-layout-color2: #454545;\n",
       "                    background-color: #383838;\n",
       "                }\n",
       "\n",
       "                .geemap-dark .jupyter-button {\n",
       "                    --jp-layout-color3: #383838;\n",
       "                }\n",
       "\n",
       "                .geemap-colab {\n",
       "                    background-color: var(--colab-primary-surface-color, white);\n",
       "                }\n",
       "\n",
       "                .geemap-colab .jupyter-button {\n",
       "                    --jp-layout-color3: var(--colab-primary-surface-color, white);\n",
       "                }\n",
       "            </style>\n",
       "            "
      ],
      "text/plain": [
       "<IPython.core.display.HTML object>"
      ]
     },
     "metadata": {},
     "output_type": "display_data"
    }
   ],
   "source": [
    "# # Sample the image to create training data\n",
    "# # This will create a FeatureCollection where each feature has the pixel values \n",
    "# # for the bands and the corresponding land cover class.\n",
    "training_data = training_image.select(bands + [class_property]).stratifiedSample(\n",
    "    classBand=class_property,\n",
    "    region=aoi,\n",
    "    scale=30,  # The spatial resolution to sample at\n",
    "    numPoints=250,  # The number of data points for each class\n",
    "    seed=seed,  # Random seed for reproducibility\n",
    "    geometries=True,  # Include the geometry of each sampled pixel\n",
    ")"
   ]
  },
  {
   "cell_type": "code",
   "execution_count": 13,
   "metadata": {},
   "outputs": [
    {
     "data": {
      "text/html": [
       "\n",
       "            <style>\n",
       "                .geemap-dark {\n",
       "                    --jp-widgets-color: white;\n",
       "                    --jp-widgets-label-color: white;\n",
       "                    --jp-ui-font-color1: white;\n",
       "                    --jp-layout-color2: #454545;\n",
       "                    background-color: #383838;\n",
       "                }\n",
       "\n",
       "                .geemap-dark .jupyter-button {\n",
       "                    --jp-layout-color3: #383838;\n",
       "                }\n",
       "\n",
       "                .geemap-colab {\n",
       "                    background-color: var(--colab-primary-surface-color, white);\n",
       "                }\n",
       "\n",
       "                .geemap-colab .jupyter-button {\n",
       "                    --jp-layout-color3: var(--colab-primary-surface-color, white);\n",
       "                }\n",
       "            </style>\n",
       "            "
      ],
      "text/plain": [
       "<IPython.core.display.HTML object>"
      ]
     },
     "metadata": {},
     "output_type": "display_data"
    },
    {
     "name": "stdout",
     "output_type": "stream",
     "text": [
      "\n",
      "First 10 training samples:\n",
      "Sample 1: Class=1, SR_B2=0.011915000000000009, SR_B3=0.021897499999999986, SR_B4=0.014142500000000002, SR_B7=0.035413749999999994\n",
      "Sample 2: Class=1, SR_B2=0.011626250000000005, SR_B3=0.02881375, SR_B4=0.01671375, SR_B7=0.035138749999999996\n",
      "Sample 3: Class=1, SR_B2=0.014444999999999986, SR_B3=0.02849750000000001, SR_B4=0.019504999999999995, SR_B7=0.04502500000000001\n",
      "Sample 4: Class=1, SR_B2=0.01060875, SR_B3=0.023849999999999996, SR_B4=0.014431250000000007, SR_B7=0.032485\n",
      "Sample 5: Class=1, SR_B2=0.0266275, SR_B3=0.04419999999999999, SR_B4=0.035454999999999987, SR_B7=0.08655000000000002\n",
      "Sample 6: Class=1, SR_B2=0.01697499999999999, SR_B3=0.028414999999999996, SR_B4=0.021815, SR_B7=0.04945250000000001\n",
      "Sample 7: Class=1, SR_B2=0.013743749999999999, SR_B3=0.03612874999999999, SR_B4=0.0234925, SR_B7=0.04671625\n",
      "Sample 8: Class=1, SR_B2=0.013166250000000004, SR_B3=0.0281125, SR_B4=0.018019999999999994, SR_B7=0.04052875\n",
      "Sample 9: Class=1, SR_B2=0.01063625, SR_B3=0.025472499999999995, SR_B4=0.014912499999999995, SR_B7=0.03181125\n",
      "Sample 10: Class=1, SR_B2=0.012987499999999985, SR_B3=0.03617000000000001, SR_B4=0.0234925, SR_B7=0.04288\n",
      "\n",
      "Class distribution in sample:\n",
      "{'histogram': {'1': 250, '2': 250, '3': 250, '4': 250, '5': 250, '6': 250, '7': 250, '8': 250, '9': 32}}\n"
     ]
    }
   ],
   "source": [
    "first_10 = training_data.limit(10).getInfo()\n",
    "\n",
    "print('\\nFirst 10 training samples:')\n",
    "for i, feature in enumerate(first_10['features']):\n",
    "    props = feature['properties']\n",
    "    print(f\"Sample {i+1}: Class={props[class_property]}, SR_B2={props['SR_B2']}, SR_B3={props['SR_B3']}, SR_B4={props['SR_B4']}, SR_B7={props['SR_B7']}\")\n",
    "\n",
    "# Count number of samples per class (server-side)\n",
    "class_counts = training_data.reduceColumns(\n",
    "    reducer=ee.Reducer.frequencyHistogram(),\n",
    "    selectors=[class_property])\n",
    "\n",
    "print('\\nClass distribution in sample:')\n",
    "print(class_counts.getInfo())"
   ]
  },
  {
   "cell_type": "code",
   "execution_count": 14,
   "metadata": {},
   "outputs": [
    {
     "data": {
      "text/html": [
       "\n",
       "            <style>\n",
       "                .geemap-dark {\n",
       "                    --jp-widgets-color: white;\n",
       "                    --jp-widgets-label-color: white;\n",
       "                    --jp-ui-font-color1: white;\n",
       "                    --jp-layout-color2: #454545;\n",
       "                    background-color: #383838;\n",
       "                }\n",
       "\n",
       "                .geemap-dark .jupyter-button {\n",
       "                    --jp-layout-color3: #383838;\n",
       "                }\n",
       "\n",
       "                .geemap-colab {\n",
       "                    background-color: var(--colab-primary-surface-color, white);\n",
       "                }\n",
       "\n",
       "                .geemap-colab .jupyter-button {\n",
       "                    --jp-layout-color3: var(--colab-primary-surface-color, white);\n",
       "                }\n",
       "            </style>\n",
       "            "
      ],
      "text/plain": [
       "<IPython.core.display.HTML object>"
      ]
     },
     "metadata": {},
     "output_type": "display_data"
    }
   ],
   "source": [
    "# Add random column\n",
    "training_data = training_data.randomColumn('random')\n",
    "\n",
    "# Split\n",
    "train_set = training_data.filter(ee.Filter.lt('random', 0.8))\n",
    "# valid_set = training_data.filter(ee.Filter.And(ee.Filter.gte('random', 0.7), ee.Filter.lt('random', 0.9)))\n",
    "test_set = training_data.filter(ee.Filter.gte('random', 0.8))\n",
    "\n",
    "# train_set = training_data.filter(ee.Filter.lt('random', 0.7))\n",
    "# valid_set = training_data.filter(ee.Filter.And(ee.Filter.gte('random', 0.7), ee.Filter.lt('random', 0.9)))\n",
    "# test_set = training_data.filter(ee.Filter.gte('random', 0.9))"
   ]
  },
  {
   "cell_type": "code",
   "execution_count": 21,
   "metadata": {},
   "outputs": [
    {
     "data": {
      "text/html": [
       "\n",
       "            <style>\n",
       "                .geemap-dark {\n",
       "                    --jp-widgets-color: white;\n",
       "                    --jp-widgets-label-color: white;\n",
       "                    --jp-ui-font-color1: white;\n",
       "                    --jp-layout-color2: #454545;\n",
       "                    background-color: #383838;\n",
       "                }\n",
       "\n",
       "                .geemap-dark .jupyter-button {\n",
       "                    --jp-layout-color3: #383838;\n",
       "                }\n",
       "\n",
       "                .geemap-colab {\n",
       "                    background-color: var(--colab-primary-surface-color, white);\n",
       "                }\n",
       "\n",
       "                .geemap-colab .jupyter-button {\n",
       "                    --jp-layout-color3: var(--colab-primary-surface-color, white);\n",
       "                }\n",
       "            </style>\n",
       "            "
      ],
      "text/plain": [
       "<IPython.core.display.HTML object>"
      ]
     },
     "metadata": {},
     "output_type": "display_data"
    }
   ],
   "source": [
    "svm = ee.Classifier.libsvm(kernelType='RBF', gamma=4, cost=500).train(\n",
    "    features=train_set,\n",
    "    classProperty=class_property,\n",
    "    inputProperties=bands\n",
    ")"
   ]
  },
  {
   "cell_type": "code",
   "execution_count": 22,
   "metadata": {},
   "outputs": [
    {
     "data": {
      "text/html": [
       "\n",
       "            <style>\n",
       "                .geemap-dark {\n",
       "                    --jp-widgets-color: white;\n",
       "                    --jp-widgets-label-color: white;\n",
       "                    --jp-ui-font-color1: white;\n",
       "                    --jp-layout-color2: #454545;\n",
       "                    background-color: #383838;\n",
       "                }\n",
       "\n",
       "                .geemap-dark .jupyter-button {\n",
       "                    --jp-layout-color3: #383838;\n",
       "                }\n",
       "\n",
       "                .geemap-colab {\n",
       "                    background-color: var(--colab-primary-surface-color, white);\n",
       "                }\n",
       "\n",
       "                .geemap-colab .jupyter-button {\n",
       "                    --jp-layout-color3: var(--colab-primary-surface-color, white);\n",
       "                }\n",
       "            </style>\n",
       "            "
      ],
      "text/plain": [
       "<IPython.core.display.HTML object>"
      ]
     },
     "metadata": {},
     "output_type": "display_data"
    },
    {
     "data": {
      "text/plain": [
       "'Training overall accuracy'"
      ]
     },
     "metadata": {},
     "output_type": "display_data"
    },
    {
     "data": {
      "text/plain": [
       "0.7298136645962733"
      ]
     },
     "metadata": {},
     "output_type": "display_data"
    }
   ],
   "source": [
    "# Get a confusion matrix and overall accuracy for the training sample.\n",
    "train_accuracy = svm.confusionMatrix()\n",
    "display('Training overall accuracy', train_accuracy.accuracy().getInfo())"
   ]
  },
  {
   "cell_type": "markdown",
   "metadata": {},
   "source": [
    "Test to find gooo combination of `gamma` and `cost`."
   ]
  },
  {
   "cell_type": "code",
   "execution_count": null,
   "metadata": {},
   "outputs": [],
   "source": [
    "# gammas = [1, 2, 4, 8, 16, 32, 64]\n",
    "# costs = [100, 200, 500, 1000, 30000, 50000, 100000]\n",
    "\n",
    "# for gamma, cost in zip(gammas, costs):\n",
    "#     svm = ee.Classifier.libsvm(kernelType='RBF', gamma=gamma, cost=cost).train(\n",
    "#         features=train_set,\n",
    "#         classProperty=class_property,\n",
    "#         inputProperties=bands\n",
    "#     )\n",
    "    \n",
    "#     print(f'Gamma: {gamma}, Cost: {cost}')\n",
    "    \n",
    "#     train_accuracy = svm.confusionMatrix()\n",
    "#     print(f'Training overall accuracy: {train_accuracy.accuracy().getInfo()}')\n",
    "\n",
    "#     # Classify the test set\n",
    "#     test_classified = test_set.classify(svm)\n",
    "\n",
    "#     # Get the confusion matrix\n",
    "#     confusion_matrix = test_classified.errorMatrix(class_property, 'classification')\n",
    "\n",
    "#     # Print the confusion matrix and accuracy\n",
    "    \n",
    "#     print('Overall Accuracy:', confusion_matrix.accuracy().getInfo())"
   ]
  },
  {
   "cell_type": "code",
   "execution_count": 23,
   "metadata": {},
   "outputs": [
    {
     "data": {
      "text/html": [
       "\n",
       "            <style>\n",
       "                .geemap-dark {\n",
       "                    --jp-widgets-color: white;\n",
       "                    --jp-widgets-label-color: white;\n",
       "                    --jp-ui-font-color1: white;\n",
       "                    --jp-layout-color2: #454545;\n",
       "                    background-color: #383838;\n",
       "                }\n",
       "\n",
       "                .geemap-dark .jupyter-button {\n",
       "                    --jp-layout-color3: #383838;\n",
       "                }\n",
       "\n",
       "                .geemap-colab {\n",
       "                    background-color: var(--colab-primary-surface-color, white);\n",
       "                }\n",
       "\n",
       "                .geemap-colab .jupyter-button {\n",
       "                    --jp-layout-color3: var(--colab-primary-surface-color, white);\n",
       "                }\n",
       "            </style>\n",
       "            "
      ],
      "text/plain": [
       "<IPython.core.display.HTML object>"
      ]
     },
     "metadata": {},
     "output_type": "display_data"
    },
    {
     "data": {
      "application/vnd.jupyter.widget-view+json": {
       "model_id": "e66eac745e504ef6b166ab61c09957c9",
       "version_major": 2,
       "version_minor": 0
      },
      "text/plain": [
       "Map(center=[-36.184963233625986, 175.41999999999973], controls=(WidgetControl(options=['position', 'transparen…"
      ]
     },
     "execution_count": 23,
     "metadata": {},
     "output_type": "execute_result"
    }
   ],
   "source": [
    "### TESTING\n",
    "\n",
    "# Austral summer of 24/25\n",
    "l8_2025 = (l8\n",
    "           .filterDate('2024-09-01', '2025-07-31')\n",
    "           .map(mask_clouds)\n",
    "           .median()\n",
    "           .clip(aoi))\n",
    "\n",
    "# Apply scale factors for consistency with training\n",
    "# dl8_2025 = apply_scale_factors(l8_2025)\n",
    "\n",
    "# l8_2025_classified = dl8_2025.updateMask(lcdb_image).classify(svm).select(l8_bands)\n",
    "\n",
    "# l8_2018_classified = l8_2018_lc.classify(svm).select(l8_bands)\n",
    "\n",
    "# Add vegetation indices to l8_2018_lc before classification\n",
    "# l8_2018_lc_with_indices = add_vegetation_indices(l8_2018_lc)\n",
    "l8_2018_classified = add_vegetation_indices(l8_2018_lc).classify(svm)\n",
    "\n",
    "t_map = geemap.Map()\n",
    "t_map.centerObject(aoi, 11)\n",
    "# t_map.addLayer(dl8_2025, viz_rgb_params, '2025 RGB')\n",
    "# t_map.addLayer(l8_2025_classified.randomVisualizer(), {}, '2025 Classified')\n",
    "t_map.addLayer(l8_2018_lc, viz_rgb_params, '2018 RGB')\n",
    "t_map.addLayer(l8_2018_classified.randomVisualizer(), {}, '2018 Classified')\n",
    "t_map.addLayer(lcdb_image.randomVisualizer(), {} ,'LCDB v5.0')\n",
    "\n",
    "t_map"
   ]
  },
  {
   "cell_type": "code",
   "execution_count": 24,
   "metadata": {},
   "outputs": [
    {
     "data": {
      "text/html": [
       "\n",
       "            <style>\n",
       "                .geemap-dark {\n",
       "                    --jp-widgets-color: white;\n",
       "                    --jp-widgets-label-color: white;\n",
       "                    --jp-ui-font-color1: white;\n",
       "                    --jp-layout-color2: #454545;\n",
       "                    background-color: #383838;\n",
       "                }\n",
       "\n",
       "                .geemap-dark .jupyter-button {\n",
       "                    --jp-layout-color3: #383838;\n",
       "                }\n",
       "\n",
       "                .geemap-colab {\n",
       "                    background-color: var(--colab-primary-surface-color, white);\n",
       "                }\n",
       "\n",
       "                .geemap-colab .jupyter-button {\n",
       "                    --jp-layout-color3: var(--colab-primary-surface-color, white);\n",
       "                }\n",
       "            </style>\n",
       "            "
      ],
      "text/plain": [
       "<IPython.core.display.HTML object>"
      ]
     },
     "metadata": {},
     "output_type": "display_data"
    }
   ],
   "source": [
    "# display('Results of trained classifier', svm.explain())"
   ]
  },
  {
   "cell_type": "code",
   "execution_count": 29,
   "metadata": {},
   "outputs": [
    {
     "data": {
      "text/html": [
       "\n",
       "            <style>\n",
       "                .geemap-dark {\n",
       "                    --jp-widgets-color: white;\n",
       "                    --jp-widgets-label-color: white;\n",
       "                    --jp-ui-font-color1: white;\n",
       "                    --jp-layout-color2: #454545;\n",
       "                    background-color: #383838;\n",
       "                }\n",
       "\n",
       "                .geemap-dark .jupyter-button {\n",
       "                    --jp-layout-color3: #383838;\n",
       "                }\n",
       "\n",
       "                .geemap-colab {\n",
       "                    background-color: var(--colab-primary-surface-color, white);\n",
       "                }\n",
       "\n",
       "                .geemap-colab .jupyter-button {\n",
       "                    --jp-layout-color3: var(--colab-primary-surface-color, white);\n",
       "                }\n",
       "            </style>\n",
       "            "
      ],
      "text/plain": [
       "<IPython.core.display.HTML object>"
      ]
     },
     "metadata": {},
     "output_type": "display_data"
    },
    {
     "data": {
      "text/plain": [
       "'Training overall accuracy'"
      ]
     },
     "metadata": {},
     "output_type": "display_data"
    },
    {
     "data": {
      "text/html": [
       "<div><style>:root {\n",
       "  --font-color-primary: var(--jp-content-font-color0, rgba(0, 0, 0, 1));\n",
       "  --font-color-secondary: var(--jp-content-font-color2, rgba(0, 0, 0, 0.7));\n",
       "  --font-color-accent: rgba(123, 31, 162, 1);\n",
       "  --border-color: var(--jp-border-color2, #e0e0e0);\n",
       "  --background-color: var(--jp-layout-color0, white);\n",
       "  --background-color-row-even: var(--jp-layout-color1, white);\n",
       "  --background-color-row-odd: var(--jp-layout-color2, #eeeeee);\n",
       "}\n",
       "\n",
       "html[theme=\"dark\"],\n",
       "body[data-theme=\"dark\"],\n",
       "body.vscode-dark {\n",
       "  --font-color-primary: rgba(255, 255, 255, 1);\n",
       "  --font-color-secondary: rgba(255, 255, 255, 0.7);\n",
       "  --font-color-accent: rgb(173, 132, 190);\n",
       "  --border-color: #2e2e2e;\n",
       "  --background-color: #111111;\n",
       "  --background-color-row-even: #111111;\n",
       "  --background-color-row-odd: #313131;\n",
       "}\n",
       "\n",
       ".eerepr {\n",
       "  padding: 1em;\n",
       "  line-height: 1.5em;\n",
       "  min-width: 300px;\n",
       "  max-width: 1200px;\n",
       "  overflow-y: scroll;\n",
       "  max-height: 600px;\n",
       "  border: 1px solid var(--border-color);\n",
       "  font-family: monospace;\n",
       "  font-size: 14px;\n",
       "}\n",
       "\n",
       ".eerepr li {\n",
       "  list-style-type: none;\n",
       "  margin: 0;\n",
       "}\n",
       "\n",
       ".eerepr ul {\n",
       "  padding-left: 1.5em !important;\n",
       "  margin: 0;\n",
       "}\n",
       "\n",
       ".eerepr > ul {\n",
       "  padding-left: 0 !important;\n",
       "}\n",
       "\n",
       ".eerepr summary {\n",
       "  color: var(--font-color-secondary);\n",
       "  cursor: pointer;\n",
       "  margin: 0;\n",
       "}\n",
       "\n",
       ".eerepr summary:hover {\n",
       "  color: var(--font-color-primary);\n",
       "  background-color: var(--background-color-row-odd)\n",
       "}\n",
       "\n",
       ".ee-k {\n",
       "  color: var(--font-color-accent);\n",
       "  margin-right: 6px;\n",
       "}\n",
       "\n",
       ".ee-v {\n",
       "  color: var(--font-color-primary);\n",
       "}\n",
       "\n",
       ".eerepr details > summary::before {\n",
       "  content: '▼';\n",
       "  display: inline-block;\n",
       "  margin-right: 6px;\n",
       "  transition: transform 0.2s;\n",
       "  transform: rotate(-90deg);\n",
       "}\n",
       "\n",
       ".eerepr details[open] > summary::before {\n",
       "  transform: rotate(0deg);\n",
       "}\n",
       "\n",
       ".eerepr details summary::-webkit-details-marker {\n",
       "  display:none;\n",
       "}\n",
       "\n",
       ".eerepr details summary {\n",
       "  list-style-type: none;\n",
       "}\n",
       "</style><div class='eerepr'><ul><li><span class='ee-v'>0.7298136645962733</span></li></ul></div></div>"
      ],
      "text/plain": [
       "<ee.ee_number.Number at 0x16accc830>"
      ]
     },
     "metadata": {},
     "output_type": "display_data"
    }
   ],
   "source": [
    "# Get a confusion matrix and overall accuracy for the training sample.\n",
    "train_accuracy = svm.confusionMatrix()\n",
    "display('Training overall accuracy', train_accuracy.accuracy())"
   ]
  },
  {
   "cell_type": "code",
   "execution_count": 26,
   "metadata": {},
   "outputs": [
    {
     "data": {
      "text/html": [
       "\n",
       "            <style>\n",
       "                .geemap-dark {\n",
       "                    --jp-widgets-color: white;\n",
       "                    --jp-widgets-label-color: white;\n",
       "                    --jp-ui-font-color1: white;\n",
       "                    --jp-layout-color2: #454545;\n",
       "                    background-color: #383838;\n",
       "                }\n",
       "\n",
       "                .geemap-dark .jupyter-button {\n",
       "                    --jp-layout-color3: #383838;\n",
       "                }\n",
       "\n",
       "                .geemap-colab {\n",
       "                    background-color: var(--colab-primary-surface-color, white);\n",
       "                }\n",
       "\n",
       "                .geemap-colab .jupyter-button {\n",
       "                    --jp-layout-color3: var(--colab-primary-surface-color, white);\n",
       "                }\n",
       "            </style>\n",
       "            "
      ],
      "text/plain": [
       "<IPython.core.display.HTML object>"
      ]
     },
     "metadata": {},
     "output_type": "display_data"
    }
   ],
   "source": [
    "test_classified = test_set.classify(svm)\n",
    "\n",
    "# Function to export data for confusion matrix\n",
    "def fc_to_lists(fc, classProp, predProp):\n",
    "    values = fc.aggregate_array(classProp).getInfo()\n",
    "    preds = fc.aggregate_array(predProp).getInfo()\n",
    "    return values, preds\n",
    "\n",
    "# Get predicted vs actual from test set\n",
    "y_true, y_pred = fc_to_lists(test_classified, class_property, 'classification')\n"
   ]
  },
  {
   "cell_type": "code",
   "execution_count": 31,
   "metadata": {},
   "outputs": [
    {
     "data": {
      "text/html": [
       "\n",
       "            <style>\n",
       "                .geemap-dark {\n",
       "                    --jp-widgets-color: white;\n",
       "                    --jp-widgets-label-color: white;\n",
       "                    --jp-ui-font-color1: white;\n",
       "                    --jp-layout-color2: #454545;\n",
       "                    background-color: #383838;\n",
       "                }\n",
       "\n",
       "                .geemap-dark .jupyter-button {\n",
       "                    --jp-layout-color3: #383838;\n",
       "                }\n",
       "\n",
       "                .geemap-colab {\n",
       "                    background-color: var(--colab-primary-surface-color, white);\n",
       "                }\n",
       "\n",
       "                .geemap-colab .jupyter-button {\n",
       "                    --jp-layout-color3: var(--colab-primary-surface-color, white);\n",
       "                }\n",
       "            </style>\n",
       "            "
      ],
      "text/plain": [
       "<IPython.core.display.HTML object>"
      ]
     },
     "metadata": {},
     "output_type": "display_data"
    },
    {
     "name": "stdout",
     "output_type": "stream",
     "text": [
      "Confusion Matrix:\n",
      "          Pred 1  Pred 2  Pred 3  Pred 4  Pred 5  Pred 6  Pred 7  Pred 8  \\\n",
      "Actual 1      26      16       0       0       0       2       0       2   \n",
      "Actual 2       9      42       0       0       1       0       0       3   \n",
      "Actual 3       2       1      28       2       0       3       1      10   \n",
      "Actual 4       4       2       0      44       1       0       6       4   \n",
      "Actual 5       1       2       8       1      32       0       0       6   \n",
      "Actual 6       9       0       4       3       3      30       0       0   \n",
      "Actual 7       0       0       2       1       3       0      57       1   \n",
      "Actual 8       5       1       6       0       0       2       0      32   \n",
      "Actual 9       0       0       0       0       0       0       0       0   \n",
      "\n",
      "          Pred 9  \n",
      "Actual 1       0  \n",
      "Actual 2       0  \n",
      "Actual 3       0  \n",
      "Actual 4       0  \n",
      "Actual 5       0  \n",
      "Actual 6       0  \n",
      "Actual 7       0  \n",
      "Actual 8       0  \n",
      "Actual 9       4  \n",
      "\n",
      "Classification Report:\n",
      "              precision    recall  f1-score   support\n",
      "\n",
      "           1       0.46      0.57      0.51        46\n",
      "           2       0.66      0.76      0.71        55\n",
      "           3       0.58      0.60      0.59        47\n",
      "           4       0.86      0.72      0.79        61\n",
      "           5       0.80      0.64      0.71        50\n",
      "           6       0.81      0.61      0.70        49\n",
      "           7       0.89      0.89      0.89        64\n",
      "           8       0.55      0.70      0.62        46\n",
      "           9       1.00      1.00      1.00         4\n",
      "\n",
      "    accuracy                           0.70       422\n",
      "   macro avg       0.74      0.72      0.72       422\n",
      "weighted avg       0.72      0.70      0.70       422\n",
      "\n"
     ]
    }
   ],
   "source": [
    "# Confusion matrix\n",
    "cm = confusion_matrix(y_true, y_pred, labels=class_range)\n",
    "report = classification_report(y_true, y_pred, labels=class_range, target_names=[str(l) for l in class_range])\n",
    "\n",
    "# Pretty-print\n",
    "print(\"Confusion Matrix:\")\n",
    "print(pd.DataFrame(cm, index=[f\"Actual {l}\" for l in class_range],\n",
    "                       columns=[f\"Pred {l}\" for l in class_range]))\n",
    "print(\"\\nClassification Report:\")\n",
    "print(report)"
   ]
  },
  {
   "cell_type": "code",
   "execution_count": 32,
   "metadata": {},
   "outputs": [
    {
     "data": {
      "text/html": [
       "\n",
       "            <style>\n",
       "                .geemap-dark {\n",
       "                    --jp-widgets-color: white;\n",
       "                    --jp-widgets-label-color: white;\n",
       "                    --jp-ui-font-color1: white;\n",
       "                    --jp-layout-color2: #454545;\n",
       "                    background-color: #383838;\n",
       "                }\n",
       "\n",
       "                .geemap-dark .jupyter-button {\n",
       "                    --jp-layout-color3: #383838;\n",
       "                }\n",
       "\n",
       "                .geemap-colab {\n",
       "                    background-color: var(--colab-primary-surface-color, white);\n",
       "                }\n",
       "\n",
       "                .geemap-colab .jupyter-button {\n",
       "                    --jp-layout-color3: var(--colab-primary-surface-color, white);\n",
       "                }\n",
       "            </style>\n",
       "            "
      ],
      "text/plain": [
       "<IPython.core.display.HTML object>"
      ]
     },
     "metadata": {},
     "output_type": "display_data"
    },
    {
     "name": "stdout",
     "output_type": "stream",
     "text": [
      "Overall accuracy: 0.6990521327014217\n",
      "Kappa: 0.6565103699336016\n"
     ]
    }
   ],
   "source": [
    "\n",
    "# Evaluate test performance\n",
    "test_matrix = test_classified.errorMatrix(class_property, 'classification')\n",
    "# print(\"Confusion Matrix:\")\n",
    "# print(pd.DataFrame(test_matrix.getInfo(), index=[f\"Actual {l}\" for l in classes_2018],\n",
    "#                        columns=[f\"Pred {l}\" for l in classes_2018]))\n",
    "# print(\"\\nClassification Report:\")\n",
    "# print(report)\n",
    "\n",
    "# print('Error matrix:')\n",
    "# print(test_matrix.getInfo())\n",
    "\n",
    "# Compute accuracy metrics from the error matrix.\n",
    "print('Overall accuracy:', test_matrix.accuracy().getInfo())\n",
    "# print('Consumer\\'s accuracy:')\n",
    "# print(test_matrix.consumersAccuracy().getInfo())\n",
    "# print('Producer\\'s accuracy:')\n",
    "# print(test_matrix.producersAccuracy().getInfo())\n",
    "print('Kappa:', test_matrix.kappa().getInfo())"
   ]
  },
  {
   "cell_type": "code",
   "execution_count": 33,
   "metadata": {},
   "outputs": [
    {
     "data": {
      "text/html": [
       "\n",
       "            <style>\n",
       "                .geemap-dark {\n",
       "                    --jp-widgets-color: white;\n",
       "                    --jp-widgets-label-color: white;\n",
       "                    --jp-ui-font-color1: white;\n",
       "                    --jp-layout-color2: #454545;\n",
       "                    background-color: #383838;\n",
       "                }\n",
       "\n",
       "                .geemap-dark .jupyter-button {\n",
       "                    --jp-layout-color3: #383838;\n",
       "                }\n",
       "\n",
       "                .geemap-colab {\n",
       "                    background-color: var(--colab-primary-surface-color, white);\n",
       "                }\n",
       "\n",
       "                .geemap-colab .jupyter-button {\n",
       "                    --jp-layout-color3: var(--colab-primary-surface-color, white);\n",
       "                }\n",
       "            </style>\n",
       "            "
      ],
      "text/plain": [
       "<IPython.core.display.HTML object>"
      ]
     },
     "metadata": {},
     "output_type": "display_data"
    }
   ],
   "source": [
    "# Austral summer of 24/25\n",
    "l8_2025 = (l8\n",
    "           .filterDate('2024-09-01', '2025-07-31')\n",
    "           .map(mask_clouds)\n",
    "           .map(apply_scale_factors)\n",
    "           .median()\n",
    "           .clip(aoi))\n",
    "\n",
    "l8_2018_classified = add_vegetation_indices(l8_2025.updateMask(lcdb_image)).classify(svm)\n",
    "\n",
    "l8_2025_classified = l8_2025.updateMask(lcdb_image).classify(svm)"
   ]
  },
  {
   "cell_type": "code",
   "execution_count": null,
   "metadata": {},
   "outputs": [
    {
     "data": {
      "text/html": [
       "\n",
       "            <style>\n",
       "                .geemap-dark {\n",
       "                    --jp-widgets-color: white;\n",
       "                    --jp-widgets-label-color: white;\n",
       "                    --jp-ui-font-color1: white;\n",
       "                    --jp-layout-color2: #454545;\n",
       "                    background-color: #383838;\n",
       "                }\n",
       "\n",
       "                .geemap-dark .jupyter-button {\n",
       "                    --jp-layout-color3: #383838;\n",
       "                }\n",
       "\n",
       "                .geemap-colab {\n",
       "                    background-color: var(--colab-primary-surface-color, white);\n",
       "                }\n",
       "\n",
       "                .geemap-colab .jupyter-button {\n",
       "                    --jp-layout-color3: var(--colab-primary-surface-color, white);\n",
       "                }\n",
       "            </style>\n",
       "            "
      ],
      "text/plain": [
       "<IPython.core.display.HTML object>"
      ]
     },
     "metadata": {},
     "output_type": "display_data"
    },
    {
     "data": {
      "application/vnd.jupyter.widget-view+json": {
       "model_id": "a7a9380bdcfe4ed4b56258b42594822b",
       "version_major": 2,
       "version_minor": 0
      },
      "text/plain": [
       "Map(center=[-36.184963233625986, 175.41999999999973], controls=(WidgetControl(options=['position', 'transparen…"
      ]
     },
     "execution_count": 36,
     "metadata": {},
     "output_type": "execute_result"
    }
   ],
   "source": [
    "# Classified image viz, fresh set up again to make sure we have exactly what we want displayed.\n",
    "\n",
    "\n",
    "# Austral summer of 24/25\n",
    "l8_2025_lc = (l8\n",
    "           .filterDate('2024-09-01', '2025-07-31')\n",
    "           .map(mask_clouds)\n",
    "           .map(apply_scale_factors)\n",
    "           .median()\n",
    "           .updateMask(lcdb_image)\n",
    "           .clip(aoi))\n",
    "\n",
    "l8_2025_classified = add_vegetation_indices(l8_2025_lc).classify(svm)#.select(l8_bands)\n",
    "l8_2018_classified = add_vegetation_indices(l8_2018_lc).classify(svm)\n",
    "\n",
    "m = geemap.Map()\n",
    "m.centerObject(aoi, 11)\n",
    "m.addLayer(l8_2018_lc, viz_rgb_params, '2018 RGB')\n",
    "m.addLayer(l8_2018_classified.randomVisualizer(), {}, '2018 Classified')\n",
    "m.addLayer(l8_2025_lc, viz_rgb_params, '2025 RGB')\n",
    "m.addLayer(l8_2025_classified.randomVisualizer(), {}, '2025 Classified')\n",
    "m.addLayer(lcdb_image.randomVisualizer(), {} ,'LCDB v5.0')\n",
    "\n",
    "m"
   ]
  }
 ],
 "metadata": {
  "colab": {
   "provenance": []
  },
  "kernelspec": {
   "display_name": "geo",
   "language": "python",
   "name": "python3"
  },
  "language_info": {
   "codemirror_mode": {
    "name": "ipython",
    "version": 3
   },
   "file_extension": ".py",
   "mimetype": "text/x-python",
   "name": "python",
   "nbconvert_exporter": "python",
   "pygments_lexer": "ipython3",
   "version": "3.13.5"
  }
 },
 "nbformat": 4,
 "nbformat_minor": 0
}
