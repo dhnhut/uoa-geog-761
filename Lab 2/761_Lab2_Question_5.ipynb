{
  "cells": [
    {
      "cell_type": "markdown",
      "metadata": {},
      "source": [
        "# Question 5\n",
        "\n",
        "(5) Exercise: modify the code so that you feed into your random forest classifier that has been trained on 2020 data, on other years of Sentinel 2 data than 2020. Produce a publication quality figure that presents the following:\n",
        "*   Landcover maps of Wellington for 2018, 2022 and 2024\n",
        "*   The Test accuracy averages of the RF classifier for 2020.\n",
        "*   Include a sentence in your figure caption that explains why you cannot state the accuracy of the classifier for years other than 2020.\n",
        "\n",
        "(15 pts)\n",
        "_______________________________________________________________________________\n"
      ]
    },
    {
      "cell_type": "markdown",
      "metadata": {},
      "source": [
        "### Setup"
      ]
    },
    {
      "cell_type": "code",
      "execution_count": null,
      "metadata": {
        "id": "oTVEkaWvOjHL"
      },
      "outputs": [],
      "source": [
        "if 'google.colab' in str(get_ipython()):\n",
        "    from google.colab import userdata\n",
        "    EE_PROJECT_ID = userdata.get('EE_PROJECT_ID') \n",
        "else:\n",
        "    from dotenv import load_dotenv\n",
        "    import os\n",
        "    load_dotenv()  # take environment variables\n",
        "    EE_PROJECT_ID = os.getenv('EE_PROJECT_ID')\n",
        "\n",
        "# Set up GEE API\n",
        "import ee\n",
        "ee.Authenticate()\n",
        "ee.Initialize(project=EE_PROJECT_ID) #<- Remember to change this to your own project's name!"
      ]
    },
    {
      "cell_type": "code",
      "execution_count": null,
      "metadata": {
        "id": "YIR6jwwAOs_v"
      },
      "outputs": [],
      "source": [
        "import tempfile\n",
        "import urllib.request\n",
        "\n",
        "from IPython.display import Image\n",
        "\n",
        "import geemap\n",
        "import geopandas as gpd\n",
        "import pandas as pd\n",
        "import matplotlib.image as mpimg\n",
        "import matplotlib.pyplot as plt\n",
        "import matplotlib.patches as patches\n",
        "\n",
        "from sklearn.metrics import confusion_matrix, classification_report"
      ]
    },
    {
      "cell_type": "markdown",
      "metadata": {},
      "source": [
        "# A. The model"
      ]
    },
    {
      "cell_type": "markdown",
      "metadata": {},
      "source": [
        "### A.1. Preparation using 2020 data"
      ]
    },
    {
      "cell_type": "code",
      "execution_count": null,
      "metadata": {
        "id": "609ruafINvXo"
      },
      "outputs": [],
      "source": [
        "from sklearn.metrics import confusion_matrix, classification_report\n",
        "import pandas as pd\n",
        "\n",
        "# Define area of interest (e.g., Wellington, NZ)\n",
        "aoi = ee.Geometry.Rectangle([174.6, -41.4, 174.9, -41.2]).buffer(1000).bounds()  # Buffer by 1km\n",
        "\n",
        "# Set up your filter Sentinel-2 imagery\n",
        "# A function that masks clouds in your S2 images via QA band\n",
        "def mask_s2_clouds(image):\n",
        "    qa = image.select('QA60')\n",
        "    cloudBitMask = 1 << 10\n",
        "    cirrusBitMask = 1 << 11\n",
        "    mask = qa.bitwiseAnd(cloudBitMask).eq(0).And(\n",
        "           qa.bitwiseAnd(cirrusBitMask).eq(0))\n",
        "    return image.updateMask(mask).divide(10000).select(['B2', 'B3', 'B4', 'B8'])\n",
        "\n",
        "s2 = (ee.ImageCollection('COPERNICUS/S2_SR_HARMONIZED')\n",
        "      .filterBounds(aoi)\n",
        "      .filter(ee.Filter.lt('CLOUDY_PIXEL_PERCENTAGE', 10)))\n",
        "      \n",
        "\n",
        "# Now build the clean collection with selected bands\n",
        "s2_2020 = s2.filterDate('2020-01-01', '2020-12-31').map(mask_s2_clouds).median().clip(aoi)\n",
        "\n",
        "# Define valid WorldCover classes (10 to 100, spaced by 10)\n",
        "valid_classes = ee.List.sequence(10, 100, 10) # 100 is included\n",
        "# list(range(10, 100, 10)) # 100 in not included\n",
        "\n",
        "# Need to change this to sequential list to avoid the algs thinking there are 99 classes rather than 9\n",
        "remap_to = ee.List.sequence(1, 10)\n",
        "\n",
        "# Load and mask WorldCover map to valid classes only\n",
        "landcover = ee.Image('ESA/WorldCover/v100/2020').select('Map').clip(aoi)\n",
        "landcover_masked = landcover.updateMask(\n",
        "    landcover.remap(valid_classes, ee.List.repeat(1, 10)))\n",
        "\n",
        "# Remap labels: create a new band with remapped values (10 → 1, ..., 100 → 10)\n",
        "landcover_remapped = landcover.remap(valid_classes, remap_to).rename('Map_remapped')\n",
        "\n",
        "# Add landcover original and remapped as bands to Sentinel-2 image\n",
        "training_data = s2_2020.addBands(landcover_remapped)\n",
        "\n",
        "# Sample the image\n",
        "bands = ['B2', 'B3', 'B4', 'B8']\n",
        "sample = training_data.select(bands + ['Map_remapped']).sample(\n",
        "    region=aoi,\n",
        "    scale=10,\n",
        "    numPixels=5000,\n",
        "    seed=2,\n",
        "    geometries=True)\n",
        "\n"
      ]
    },
    {
      "cell_type": "markdown",
      "metadata": {},
      "source": [
        "### A.2 Train the model"
      ]
    },
    {
      "cell_type": "code",
      "execution_count": null,
      "metadata": {},
      "outputs": [],
      "source": [
        "# Add random column\n",
        "sample = sample.randomColumn('random')\n",
        "\n",
        "# Split\n",
        "train = sample.filter(ee.Filter.lt('random', 0.7))\n",
        "valid = sample.filter(ee.Filter.And(ee.Filter.gte('random', 0.7), ee.Filter.lt('random', 0.9)))\n",
        "test = sample.filter(ee.Filter.gte('random', 0.9))\n",
        "\n",
        "# Train the RF model\n",
        "classifier = ee.Classifier.smileRandomForest(numberOfTrees=100).train(\n",
        "    features=train,\n",
        "    classProperty='Map_remapped',\n",
        "    inputProperties=bands)"
      ]
    },
    {
      "cell_type": "markdown",
      "metadata": {},
      "source": [
        "# B. Classify\n",
        "\n",
        "### B.1. Classify images from 2018, 2022, and 2024"
      ]
    },
    {
      "cell_type": "code",
      "execution_count": null,
      "metadata": {},
      "outputs": [],
      "source": [
        "years = [2018, 2022, 2024]\n",
        "years_images = []\n",
        "years_classified = []\n",
        "years_urls = []\n",
        "\n",
        "# ESA_classes = landcover.get('Map_class_names').getInfo()\n",
        "# ESA_palette = landcover.get('Map_class_palette').getInfo()\n",
        "ESA_classes = [\n",
        "    'Tree cover',\n",
        "    'Shrubland',\n",
        "    'Grassland',\n",
        "    'Cropland',\n",
        "    'Built-up',\n",
        "    'Bare / sparse vegetation',\n",
        "    'Snow and ice',\n",
        "    'Permanent water bodies',\n",
        "    'Herbaceous wetland',\n",
        "    # 'Mangroves',\n",
        "    'Moss and lichen'\n",
        "]\n",
        "\n",
        "# BASED IMAGE\n",
        "ESA_palette = [\n",
        "    '006400',\n",
        "    'ffbb22',\n",
        "    'ffff4c',\n",
        "    'f096ff',\n",
        "    'fa0000',\n",
        "    'b4b4b4',\n",
        "    'f0f0f0',\n",
        "    '0064c8',\n",
        "    '0096a0',\n",
        "    # '00cf75',\n",
        "    'fae6a0',\n",
        "]\n",
        "\n",
        "vis_params = {\n",
        "    'min': 1,\n",
        "    'max': 10,\n",
        "    'palette': ESA_palette\n",
        "}\n",
        "\n",
        "thumb_params = {\n",
        "    'dimensions': 512,\n",
        "    'region': aoi,\n",
        "    'format': 'png',\n",
        "}\n",
        "\n",
        "for idx, year in enumerate(years):\n",
        "    # Load and preprocess Sentinel-2 imagery for the given year\n",
        "    image = s2.filterDate(f'{year}-01-01', f'{year}-12-31').map(mask_s2_clouds).median().clip(aoi)\n",
        "    years_images.append(image)\n",
        "    \n",
        "    classified = image.select(bands).classify(classifier)\n",
        "    \n",
        "    # Classify the image using the trained classifier\n",
        "    # years_classified.append(classified)\n",
        "\n",
        "    classified_rgb = classified.visualize(**vis_params)\n",
        "    years_classified.append(classified_rgb)\n",
        "    \n",
        "    # Generate URL for the classified image\n",
        "    url = years_classified[idx].getThumbURL(thumb_params)\n",
        "    years_urls.append(url)"
      ]
    },
    {
      "cell_type": "markdown",
      "metadata": {},
      "source": [
        "### B.2. Show the images and map"
      ]
    },
    {
      "cell_type": "code",
      "execution_count": null,
      "metadata": {},
      "outputs": [],
      "source": [
        "display(Image(url=years_urls[0]))"
      ]
    },
    {
      "cell_type": "code",
      "execution_count": null,
      "metadata": {},
      "outputs": [],
      "source": [
        "vis_classified_params = {\n",
        "    'min': 1,\n",
        "    'max': 10,\n",
        "    'palette': ESA_palette\n",
        "}\n",
        "\n",
        "vis_rgb_params = vis_classified_params | { 'palette': ['B4', 'B3', 'B2'] }\n",
        "\n",
        "# Get coordinates of regions\n",
        "coords = aoi.coordinates().getInfo()[0]\n",
        "lons = [pt[0] for pt in coords]\n",
        "lats = [pt[1] for pt in coords]\n",
        "xmin, xmax, ymin, ymax = min(lons), max(lons), min(lats), max(lats)"
      ]
    },
    {
      "cell_type": "markdown",
      "metadata": {},
      "source": [
        "# C. Validation"
      ]
    },
    {
      "cell_type": "code",
      "execution_count": null,
      "metadata": {},
      "outputs": [],
      "source": [
        "# Classify image\n",
        "classified = s2_2020.select(bands).classify(classifier)\n",
        "\n",
        "# Validate\n",
        "validated = valid.classify(classifier, 'predicted')\n",
        "\n",
        "# Function to export data for confusion matrix\n",
        "# fc = featurecollection\n",
        "def fc_to_lists(fc, classProp, predProp):\n",
        "    values = fc.aggregate_array(classProp).getInfo()\n",
        "    preds = fc.aggregate_array(predProp).getInfo()\n",
        "    return values, preds\n",
        "\n",
        "# Get predicted vs actual from validation set\n",
        "y_true, y_pred = fc_to_lists(validated, 'Map_remapped', 'predicted')\n",
        "\n",
        "# Labels for original classes\n",
        "label_map = {i + 1: valid_classes.get(i).getInfo() for i in range(10)}\n",
        "label_names = [label_map[i + 1] for i in range(10)]\n",
        "\n",
        "# Confusion matrix\n",
        "# cm = confusion_matrix(y_true, y_pred, labels=list(range(1, 11)))\n",
        "report = classification_report(y_true, y_pred, labels=list(range(1, 11)), target_names=[str(l) for l in label_names], output_dict=True)\n",
        "\n",
        "# # Pretty-print\n",
        "# print(\"Confusion Matrix:\")\n",
        "# print(pd.DataFrame(cm, index=[f\"Actual {l}\" for l in label_names],\n",
        "#                        columns=[f\"Pred {l}\" for l in label_names]))\n",
        "print(\"\\nClassification Report:\")\n",
        "print(report)"
      ]
    },
    {
      "cell_type": "markdown",
      "metadata": {},
      "source": [
        "# D. Figure"
      ]
    },
    {
      "cell_type": "code",
      "execution_count": null,
      "metadata": {},
      "outputs": [],
      "source": [
        "# !pip install rasterio"
      ]
    },
    {
      "cell_type": "markdown",
      "metadata": {},
      "source": [
        "### D.1. Prepare all images"
      ]
    },
    {
      "cell_type": "code",
      "execution_count": null,
      "metadata": {},
      "outputs": [],
      "source": [
        "import rasterio\n",
        "import zipfile\n",
        "import requests\n",
        "import io\n",
        "download_url = landcover.getDownloadURL({\n",
        "    'scale': 10,  # 10-meter resolution\n",
        "    'region': aoi\n",
        "})\n",
        "\n",
        "classified_imgs = []\n",
        "\n",
        "for idx, year in enumerate(years):\n",
        "    # Download the image for the year\n",
        "    url = years_urls[idx]\n",
        "    with tempfile.NamedTemporaryFile(suffix=\".png\") as f:\n",
        "        urllib.request.urlretrieve(url, f.name)\n",
        "        img = mpimg.imread(f.name)\n",
        "        classified_imgs.append(img)\n",
        "\n",
        "# BASED IMAGE\n",
        "res = requests.get(download_url, stream=True)\n",
        "# Read the GeoTIFF data from memory using rasterio\n",
        "with zipfile.ZipFile(io.BytesIO(res.content)) as zip_file:\n",
        "    file_list = [f for f in zip_file.namelist() if f.endswith('.tif')]\n",
        "    if not file_list:\n",
        "        raise ValueError(\"No GeoTIFF file found in the downloaded zip archive.\")\n",
        "    geotiff_data = zip_file.read(file_list[0])\n",
        "    with rasterio.open(io.BytesIO(geotiff_data)) as src:\n",
        "        raster_array = src.read(1)\n",
        "        # Get the extent for the plot\n",
        "        extent = [src.bounds.left, src.bounds.right, src.bounds.bottom, src.bounds.top]"
      ]
    },
    {
      "cell_type": "markdown",
      "metadata": {},
      "source": [
        "### D.2. Prepare Validation data"
      ]
    },
    {
      "cell_type": "code",
      "execution_count": null,
      "metadata": {},
      "outputs": [],
      "source": [
        "rows = ['accuracy', 'macro avg', 'weighted avg']\n",
        "cols = ['precision', 'recall', 'f1-score']\n",
        "df_report = pd.DataFrame(report)[rows]\n",
        "\n",
        "df_plot = df_report.transpose()[cols]\n",
        "df_plot"
      ]
    },
    {
      "cell_type": "code",
      "execution_count": null,
      "metadata": {},
      "outputs": [],
      "source": [
        "\n",
        "import matplotlib.colors as mcolors\n",
        "\n",
        "layout = [['A', 'A', 'D', 'D'],\n",
        "          ['B', 'B', 'E', 'E'],\n",
        "          ['C', 'C', 'F', 'F']]\n",
        "\n",
        "fig, axes = plt.subplot_mosaic(layout, figsize=(12, 12), height_ratios=[1,1,1])\n",
        "\n",
        "class_axe = [axes['A'], axes['D'], axes['B']]\n",
        "based_axe = axes['E']\n",
        "ledgend_axe = axes['F']\n",
        "report_axe = axes['C']\n",
        "\n",
        "colors = ['#' + v for v in ESA_palette]\n",
        "# Create the custom colormap\n",
        "cmap = mcolors.ListedColormap(colors)\n",
        "\n",
        "for idx, axe in enumerate(class_axe):\n",
        "    axe.set_title(f'Classified image of {years[idx]}')\n",
        "    axe.imshow(classified_imgs[idx], extent=[xmin, xmax, ymin, ymax], cmap=cmap, vmin=1, vmax=10)\n",
        "    axe.axis('off')  # Hide the axes\n",
        "\n",
        "# LEDGEND\n",
        "# Loop through the labels and colors to create squares and text\n",
        "for i, (color, class_name) in enumerate(zip(ESA_palette, ESA_classes)):\n",
        "    spacing = 0.14\n",
        "    # Create a colored square patch\n",
        "    y_position = (10 - i) * spacing\n",
        "    rect = patches.Rectangle((0.1, y_position), 0.07, 0.1, facecolor=f'#{color}', edgecolor='none')\n",
        "    ledgend_axe.add_patch(rect)\n",
        "\n",
        "    # Add the text label beside the square\n",
        "    # The y-coordinate is also based on y_position\n",
        "    ledgend_axe.text(0.2, y_position + 0.05, class_name, va='center', ha='left', fontsize=9)\n",
        "\n",
        "    ledgend_axe.set_xlim(0, 1)\n",
        "    ledgend_axe.set_ylim(0, 1.5)\n",
        "    ledgend_axe.axis('off')\n",
        "ledgend_axe.set_title('Classes Colors')\n",
        "    \n",
        "# Based image\n",
        "based_axe.imshow(raster_array, extent=extent, cmap=cmap, vmin=10, vmax=100)\n",
        "based_axe.set_title('ESA WorldCover 10m v100 (2020)')\n",
        "based_axe.axis('off')  # Hide the axes\n",
        "\n",
        "# REPORT TABLE\n",
        "report_axe.axis('off') # Hide the axes\n",
        "report_axe.set_title('The accuracy averages of the classifier.')\n",
        "explain = '''\n",
        "Must use 2020 dataset, same year with the training data.\n",
        "Otherwise the results is not reflect the ground truth which lead to inaccuracy.\n",
        "For example, an area in 2020 is forest, but in 2022 is grassland.\n",
        "'''\n",
        "report_axe.text(0.5, 0.5, explain, ha='center', va='center', fontsize=10)\n",
        "\n",
        "# formant float values in the table\n",
        "df_plot = df_plot.applymap(lambda x: f'{x:.4f}' if isinstance(x, (int, float)) else x)\n",
        "\n",
        "# Create the table\n",
        "table = report_axe.table(\n",
        "    cellText=df_plot.values,\n",
        "    colLabels=df_plot.columns.str.capitalize(),\n",
        "    rowLabels=df_plot.index.str.capitalize(),\n",
        "    loc='best',\n",
        "    cellLoc='center'\n",
        ")\n",
        "\n",
        "table.scale(0.8, 0.8)  # Adjust table size\n",
        "\n",
        "# Make headers bold\n",
        "for (i, j), cell in table.get_celld().items():\n",
        "    if i == 0 or j == -1: # Row 0 is the header, column -1 is the index\n",
        "        cell.set_text_props(weight='bold', color='w')\n",
        "        cell.set_facecolor('teal') # Header color\n",
        "\n",
        "caption = '''\n",
        "Figure x: Wellington Image Classification in year 2018, 2022, and 2024\n",
        "Using a Random Forest model training on 2020 Sentinel-2 data and ESA WorldCover (2020).\n",
        "'''\n",
        "plt.figtext(0.5, -0.03, caption, wrap=True, horizontalalignment='center', fontsize=12)\n",
        "\n",
        "plt.tight_layout()\n",
        "plt.show() "
      ]
    }
  ],
  "metadata": {
    "colab": {
      "provenance": []
    },
    "kernelspec": {
      "display_name": "geo",
      "language": "python",
      "name": "python3"
    },
    "language_info": {
      "codemirror_mode": {
        "name": "ipython",
        "version": 3
      },
      "file_extension": ".py",
      "mimetype": "text/x-python",
      "name": "python",
      "nbconvert_exporter": "python",
      "pygments_lexer": "ipython3",
      "version": "3.13.5"
    }
  },
  "nbformat": 4,
  "nbformat_minor": 0
}
