{
  "cells": [
    {
      "cell_type": "markdown",
      "metadata": {
        "id": "AbZaU_XVH7Zc"
      },
      "source": [
        "# Introduction\n",
        "Welcome to Lab 2, in this lab we will take our first steps into applying ML to satellite data, using landcover analysis as our primary goal.\n",
        "\n",
        "As covered in Lecture 2, landcover classification is the quintessential remote sensing task in the civil sector. The LandSat programme was originally developed in large part to enable the USA to monitor landcover more easily for a range of agricultral, govermental and finacial problemsets. It remains a primary task for governments and companies around the world.\n",
        "\n",
        "This is a pixel-wise ML task. We will apply two methods, both of which are available in GEE as ready-to-go algorithms. In this instance we are happy to go with built-in as it allows us to become familiar with an end-to-end GEE ML workflow without getting bogged down in technical detail. No need to re-invent the wheel unless you are going to the [moon](https://www.nasa.gov/feature/ames/artemis-moon-rover-s-wheels-are-ready-to-roll/).\n",
        "\n",
        "Remember that this is a set of exercises and tutorials that escalate in difficulty. Always show your working and do not neccesarily expect to get full marks on everything.\n",
        "\n",
        "Use the resources available to you outside of this material. I expect you to search for concepts or terms you do not understand and to look at the documentation of the code packages that we are using in the first instance of getting stuck.\n",
        "_______________________________________________________________________________"
      ]
    },
    {
      "cell_type": "markdown",
      "metadata": {
        "id": "7LjIQAw2OM6N"
      },
      "source": [
        "# Set up"
      ]
    },
    {
      "cell_type": "code",
      "execution_count": 19,
      "metadata": {
        "id": "VJI6OPweHOLP"
      },
      "outputs": [
        {
          "data": {
            "text/html": [
              "\n",
              "            <style>\n",
              "                .geemap-dark {\n",
              "                    --jp-widgets-color: white;\n",
              "                    --jp-widgets-label-color: white;\n",
              "                    --jp-ui-font-color1: white;\n",
              "                    --jp-layout-color2: #454545;\n",
              "                    background-color: #383838;\n",
              "                }\n",
              "\n",
              "                .geemap-dark .jupyter-button {\n",
              "                    --jp-layout-color3: #383838;\n",
              "                }\n",
              "\n",
              "                .geemap-colab {\n",
              "                    background-color: var(--colab-primary-surface-color, white);\n",
              "                }\n",
              "\n",
              "                .geemap-colab .jupyter-button {\n",
              "                    --jp-layout-color3: var(--colab-primary-surface-color, white);\n",
              "                }\n",
              "            </style>\n",
              "            "
            ],
            "text/plain": [
              "<IPython.core.display.HTML object>"
            ]
          },
          "metadata": {},
          "output_type": "display_data"
        }
      ],
      "source": [
        "# Install libs if needed, note the --quiet option means a lot less annoying info than as Lab 1 when we did the same!\n",
        "# !pip install geemap --quiet\n",
        "# !pip install geopandas --quiet\n",
        "!pip install scikit-learn --quiet"
      ]
    },
    {
      "cell_type": "code",
      "execution_count": 5,
      "metadata": {
        "id": "oTVEkaWvOjHL"
      },
      "outputs": [
        {
          "data": {
            "text/html": [
              "\n",
              "            <style>\n",
              "                .geemap-dark {\n",
              "                    --jp-widgets-color: white;\n",
              "                    --jp-widgets-label-color: white;\n",
              "                    --jp-ui-font-color1: white;\n",
              "                    --jp-layout-color2: #454545;\n",
              "                    background-color: #383838;\n",
              "                }\n",
              "\n",
              "                .geemap-dark .jupyter-button {\n",
              "                    --jp-layout-color3: #383838;\n",
              "                }\n",
              "\n",
              "                .geemap-colab {\n",
              "                    background-color: var(--colab-primary-surface-color, white);\n",
              "                }\n",
              "\n",
              "                .geemap-colab .jupyter-button {\n",
              "                    --jp-layout-color3: var(--colab-primary-surface-color, white);\n",
              "                }\n",
              "            </style>\n",
              "            "
            ],
            "text/plain": [
              "<IPython.core.display.HTML object>"
            ]
          },
          "metadata": {},
          "output_type": "display_data"
        }
      ],
      "source": [
        "if 'google.colab' in str(get_ipython()):\n",
        "    from google.colab import userdata\n",
        "    EE_PROJECT_ID = userdata.get('EE_PROJECT_ID') \n",
        "else:\n",
        "    from dotenv import load_dotenv\n",
        "    import os\n",
        "    load_dotenv()  # take environment variables\n",
        "    EE_PROJECT_ID = os.getenv('EE_PROJECT_ID')\n",
        "\n",
        "# Set up GEE API\n",
        "import ee\n",
        "ee.Authenticate()\n",
        "ee.Initialize(project=EE_PROJECT_ID) #<- Remember to change this to your own project's name!"
      ]
    },
    {
      "cell_type": "code",
      "execution_count": 6,
      "metadata": {
        "id": "YIR6jwwAOs_v"
      },
      "outputs": [
        {
          "data": {
            "text/html": [
              "\n",
              "            <style>\n",
              "                .geemap-dark {\n",
              "                    --jp-widgets-color: white;\n",
              "                    --jp-widgets-label-color: white;\n",
              "                    --jp-ui-font-color1: white;\n",
              "                    --jp-layout-color2: #454545;\n",
              "                    background-color: #383838;\n",
              "                }\n",
              "\n",
              "                .geemap-dark .jupyter-button {\n",
              "                    --jp-layout-color3: #383838;\n",
              "                }\n",
              "\n",
              "                .geemap-colab {\n",
              "                    background-color: var(--colab-primary-surface-color, white);\n",
              "                }\n",
              "\n",
              "                .geemap-colab .jupyter-button {\n",
              "                    --jp-layout-color3: var(--colab-primary-surface-color, white);\n",
              "                }\n",
              "            </style>\n",
              "            "
            ],
            "text/plain": [
              "<IPython.core.display.HTML object>"
            ]
          },
          "metadata": {},
          "output_type": "display_data"
        }
      ],
      "source": [
        "# Import other libs\n",
        "import geemap\n",
        "import geopandas as gpd\n",
        "import pandas as pd"
      ]
    },
    {
      "cell_type": "markdown",
      "metadata": {
        "id": "OxOt8gypOypv"
      },
      "source": [
        "# Define Area of Interest (AOI)"
      ]
    },
    {
      "cell_type": "code",
      "execution_count": 7,
      "metadata": {
        "id": "609ruafINvXo"
      },
      "outputs": [
        {
          "data": {
            "text/html": [
              "\n",
              "            <style>\n",
              "                .geemap-dark {\n",
              "                    --jp-widgets-color: white;\n",
              "                    --jp-widgets-label-color: white;\n",
              "                    --jp-ui-font-color1: white;\n",
              "                    --jp-layout-color2: #454545;\n",
              "                    background-color: #383838;\n",
              "                }\n",
              "\n",
              "                .geemap-dark .jupyter-button {\n",
              "                    --jp-layout-color3: #383838;\n",
              "                }\n",
              "\n",
              "                .geemap-colab {\n",
              "                    background-color: var(--colab-primary-surface-color, white);\n",
              "                }\n",
              "\n",
              "                .geemap-colab .jupyter-button {\n",
              "                    --jp-layout-color3: var(--colab-primary-surface-color, white);\n",
              "                }\n",
              "            </style>\n",
              "            "
            ],
            "text/plain": [
              "<IPython.core.display.HTML object>"
            ]
          },
          "metadata": {},
          "output_type": "display_data"
        },
        {
          "data": {
            "application/vnd.jupyter.widget-view+json": {
              "model_id": "8fb065884b984e69812c484923eb6423",
              "version_major": 2,
              "version_minor": 0
            },
            "text/plain": [
              "Map(center=[-41.3, 174.75], controls=(WidgetControl(options=['position', 'transparent_bg'], position='topright…"
            ]
          },
          "execution_count": 7,
          "metadata": {},
          "output_type": "execute_result"
        }
      ],
      "source": [
        "# Define area of interest (e.g., Wellington, NZ)\n",
        "aoi = ee.Geometry.Rectangle([174.6, -41.4, 174.9, -41.2])\n",
        "Map = geemap.Map(center=[-41.3, 174.75], zoom=10)\n",
        "Map.addLayer(aoi, {}, 'AOI')\n",
        "\n",
        "# Visualize on the map to check got it right... (always a good idea)\n",
        "Map"
      ]
    },
    {
      "cell_type": "markdown",
      "metadata": {
        "id": "HEV99nmEPUbQ"
      },
      "source": [
        "# Load and Cloud Mask Imagery from Earth Engine"
      ]
    },
    {
      "cell_type": "code",
      "execution_count": 8,
      "metadata": {
        "id": "mkYl36KRNyRd"
      },
      "outputs": [
        {
          "data": {
            "text/html": [
              "\n",
              "            <style>\n",
              "                .geemap-dark {\n",
              "                    --jp-widgets-color: white;\n",
              "                    --jp-widgets-label-color: white;\n",
              "                    --jp-ui-font-color1: white;\n",
              "                    --jp-layout-color2: #454545;\n",
              "                    background-color: #383838;\n",
              "                }\n",
              "\n",
              "                .geemap-dark .jupyter-button {\n",
              "                    --jp-layout-color3: #383838;\n",
              "                }\n",
              "\n",
              "                .geemap-colab {\n",
              "                    background-color: var(--colab-primary-surface-color, white);\n",
              "                }\n",
              "\n",
              "                .geemap-colab .jupyter-button {\n",
              "                    --jp-layout-color3: var(--colab-primary-surface-color, white);\n",
              "                }\n",
              "            </style>\n",
              "            "
            ],
            "text/plain": [
              "<IPython.core.display.HTML object>"
            ]
          },
          "metadata": {},
          "output_type": "display_data"
        }
      ],
      "source": [
        "# Set up your filter Sentinel-2 imagery\n",
        "# A function that masks clouds in your S2 images via QA band\n",
        "def mask_s2_clouds(image):\n",
        "    qa = image.select('QA60')\n",
        "    cloudBitMask = 1 << 10\n",
        "    cirrusBitMask = 1 << 11\n",
        "    mask = qa.bitwiseAnd(cloudBitMask).eq(0).And(\n",
        "           qa.bitwiseAnd(cirrusBitMask).eq(0))\n",
        "    return image.updateMask(mask).divide(10000).select(['B2', 'B3', 'B4', 'B8'])\n",
        "\n",
        "# Now build the clean collection with selected bands\n",
        "s2 = (ee.ImageCollection('COPERNICUS/S2_SR_HARMONIZED')\n",
        "      .filterBounds(aoi)\n",
        "      .filterDate('2021-01-01', '2021-12-31')\n",
        "      .filter(ee.Filter.lt('CLOUDY_PIXEL_PERCENTAGE', 10))\n",
        "      .map(mask_s2_clouds)\n",
        "      .median() #<- think about this step and what it is doing to your image when you build your single composite from the image collection\n",
        "      .clip(aoi))"
      ]
    },
    {
      "cell_type": "markdown",
      "metadata": {
        "id": "koEefrEza8t3"
      },
      "source": [
        "(1) What other mathematical [compositing](https://developers.google.com/earth-engine/guides/ic_composite_mosaic) approaches could you take when building your single image from the filtered image collection you create in the cell above? Hint: you currently are doing a 'median-composite'. (3 pts)"
      ]
    },
    {
      "cell_type": "code",
      "execution_count": 9,
      "metadata": {
        "id": "UZ1hfnD3PZSX"
      },
      "outputs": [
        {
          "data": {
            "text/html": [
              "\n",
              "            <style>\n",
              "                .geemap-dark {\n",
              "                    --jp-widgets-color: white;\n",
              "                    --jp-widgets-label-color: white;\n",
              "                    --jp-ui-font-color1: white;\n",
              "                    --jp-layout-color2: #454545;\n",
              "                    background-color: #383838;\n",
              "                }\n",
              "\n",
              "                .geemap-dark .jupyter-button {\n",
              "                    --jp-layout-color3: #383838;\n",
              "                }\n",
              "\n",
              "                .geemap-colab {\n",
              "                    background-color: var(--colab-primary-surface-color, white);\n",
              "                }\n",
              "\n",
              "                .geemap-colab .jupyter-button {\n",
              "                    --jp-layout-color3: var(--colab-primary-surface-color, white);\n",
              "                }\n",
              "            </style>\n",
              "            "
            ],
            "text/plain": [
              "<IPython.core.display.HTML object>"
            ]
          },
          "metadata": {},
          "output_type": "display_data"
        },
        {
          "data": {
            "application/vnd.jupyter.widget-view+json": {
              "model_id": "6f67d1448d154626b47d49ba0c82de76",
              "version_major": 2,
              "version_minor": 0
            },
            "text/plain": [
              "Map(center=[-41.3, 174.75], controls=(WidgetControl(options=['position', 'transparent_bg'], position='topright…"
            ]
          },
          "execution_count": 9,
          "metadata": {},
          "output_type": "execute_result"
        }
      ],
      "source": [
        "# Set up the visualisation and then once again check it has worked, stacking layers in a sensible order\n",
        "Map = geemap.Map(center=[-41.3, 174.75], zoom=11) #<- reset the map object to clear out other layers from earlier cells\n",
        "Map.addLayer(s2, {'bands': ['B4', 'B3', 'B2'], 'min': 0, 'max': 0.3}, 'S2 RGB')\n",
        "Map.addLayer(aoi, {'color': 'red'}, 'AOI')\n",
        "Map"
      ]
    },
    {
      "cell_type": "markdown",
      "metadata": {
        "id": "FEDOPqbwiPmp"
      },
      "source": [
        "________________________________________________________________________________"
      ]
    },
    {
      "cell_type": "markdown",
      "metadata": {
        "id": "eFV2IN6WVD-3"
      },
      "source": [
        "# Training data\n",
        "\n",
        "We are going to train our data using the European Space Agency (ESA) world landcover map. Given that this is derived from satellite data our logic is at risk of becoming a little circular here. But as a training exercise it is a good way to have easy to access training data of the right size and type to apply to our image.\n",
        "\n",
        "There are a wide range of landcover datasets in the GEE catalogue that you can use for this purpose:\n",
        "*   https://developers.google.com/earth-engine/datasets/tags/landuse-landcover\n",
        "\n",
        "First, we will load in the landcover map we will use to create our training dataset (https://developers.google.com/earth-engine/datasets/catalog/ESA_WorldCover_v100):\n",
        "\n"
      ]
    },
    {
      "cell_type": "markdown",
      "metadata": {
        "id": "PC49HraHWOih"
      },
      "source": [
        "Next we need to use our landcover map to [sample](https://developers.google.com/earth-engine/apidocs/ee-image-sample) the Sentinel 2 image, associating each pixel of a given landcover with the spectral band values 'beneath' it."
      ]
    },
    {
      "cell_type": "code",
      "execution_count": 10,
      "metadata": {
        "id": "Qxq3kumyWG0U"
      },
      "outputs": [
        {
          "data": {
            "text/html": [
              "\n",
              "            <style>\n",
              "                .geemap-dark {\n",
              "                    --jp-widgets-color: white;\n",
              "                    --jp-widgets-label-color: white;\n",
              "                    --jp-ui-font-color1: white;\n",
              "                    --jp-layout-color2: #454545;\n",
              "                    background-color: #383838;\n",
              "                }\n",
              "\n",
              "                .geemap-dark .jupyter-button {\n",
              "                    --jp-layout-color3: #383838;\n",
              "                }\n",
              "\n",
              "                .geemap-colab {\n",
              "                    background-color: var(--colab-primary-surface-color, white);\n",
              "                }\n",
              "\n",
              "                .geemap-colab .jupyter-button {\n",
              "                    --jp-layout-color3: var(--colab-primary-surface-color, white);\n",
              "                }\n",
              "            </style>\n",
              "            "
            ],
            "text/plain": [
              "<IPython.core.display.HTML object>"
            ]
          },
          "metadata": {},
          "output_type": "display_data"
        }
      ],
      "source": [
        "# Define valid WorldCover classes (10 to 100, spaced by 10)\n",
        "valid_classes = ee.List.sequence(10, 100, 10)\n",
        "\n",
        "# Need to change this to sequential list to avoid the algs thiniing there are 99 classes rather than 9\n",
        "remap_to = ee.List.sequence(1, 10)\n",
        "\n",
        "# Load and mask WorldCover map to valid classes only\n",
        "landcover = ee.Image('ESA/WorldCover/v100/2020').select('Map').clip(aoi)\n",
        "landcover_masked = landcover.updateMask(\n",
        "    landcover.remap(valid_classes, ee.List.repeat(1, 10)))\n",
        "\n",
        "# Remap labels: create a new band with remapped values (10 → 1, ..., 100 → 10)\n",
        "landcover_remapped = landcover.remap(valid_classes, remap_to).rename('Map_remapped')"
      ]
    },
    {
      "cell_type": "markdown",
      "metadata": {
        "id": "7v770SAWbsBg"
      },
      "source": [
        "(2) What year of data was this landcover map (accessed in the cell above) created on? (1 pt)"
      ]
    },
    {
      "cell_type": "code",
      "execution_count": 11,
      "metadata": {
        "id": "5dulg_UTkpkR"
      },
      "outputs": [
        {
          "data": {
            "text/html": [
              "\n",
              "            <style>\n",
              "                .geemap-dark {\n",
              "                    --jp-widgets-color: white;\n",
              "                    --jp-widgets-label-color: white;\n",
              "                    --jp-ui-font-color1: white;\n",
              "                    --jp-layout-color2: #454545;\n",
              "                    background-color: #383838;\n",
              "                }\n",
              "\n",
              "                .geemap-dark .jupyter-button {\n",
              "                    --jp-layout-color3: #383838;\n",
              "                }\n",
              "\n",
              "                .geemap-colab {\n",
              "                    background-color: var(--colab-primary-surface-color, white);\n",
              "                }\n",
              "\n",
              "                .geemap-colab .jupyter-button {\n",
              "                    --jp-layout-color3: var(--colab-primary-surface-color, white);\n",
              "                }\n",
              "            </style>\n",
              "            "
            ],
            "text/plain": [
              "<IPython.core.display.HTML object>"
            ]
          },
          "metadata": {},
          "output_type": "display_data"
        }
      ],
      "source": [
        "# Add landcover original and remapped as bands to Sentinel-2 image\n",
        "training_data = s2.addBands(landcover_masked.rename('Map')).addBands(landcover_remapped)"
      ]
    },
    {
      "cell_type": "markdown",
      "metadata": {
        "id": "n8vEEI8cYfAI"
      },
      "source": [
        "Let's inspect the resulting training dataset and make sure that you understand what you have built here.\n",
        "\n",
        "We are going to:\n",
        "- Print the first few rows (client-side).\n",
        "- Check the number of samples per class (server-side with reduceColumns).\n",
        "\n",
        "This may take a little time to run as we request data both client and server side."
      ]
    },
    {
      "cell_type": "code",
      "execution_count": 12,
      "metadata": {
        "id": "9N4ONGxYX077"
      },
      "outputs": [
        {
          "data": {
            "text/html": [
              "\n",
              "            <style>\n",
              "                .geemap-dark {\n",
              "                    --jp-widgets-color: white;\n",
              "                    --jp-widgets-label-color: white;\n",
              "                    --jp-ui-font-color1: white;\n",
              "                    --jp-layout-color2: #454545;\n",
              "                    background-color: #383838;\n",
              "                }\n",
              "\n",
              "                .geemap-dark .jupyter-button {\n",
              "                    --jp-layout-color3: #383838;\n",
              "                }\n",
              "\n",
              "                .geemap-colab {\n",
              "                    background-color: var(--colab-primary-surface-color, white);\n",
              "                }\n",
              "\n",
              "                .geemap-colab .jupyter-button {\n",
              "                    --jp-layout-color3: var(--colab-primary-surface-color, white);\n",
              "                }\n",
              "            </style>\n",
              "            "
            ],
            "text/plain": [
              "<IPython.core.display.HTML object>"
            ]
          },
          "metadata": {},
          "output_type": "display_data"
        },
        {
          "name": "stdout",
          "output_type": "stream",
          "text": [
            "\n",
            "First 10 training samples:\n",
            "Sample 1: Class=8, B2=0.03869999945163727, B3=0.026639999821782112, B4=0.0066999997943639755, B8=0.003700000001117587\n",
            "Sample 2: Class=1, B2=0.018300000578165054, B3=0.028699999675154686, B4=0.019099999219179153, B8=0.188400000333786\n",
            "Sample 3: Class=1, B2=0.01489999983459711, B3=0.049400001764297485, B4=0.019200000911951065, B8=0.3569999933242798\n",
            "Sample 4: Class=8, B2=0.021449999883770943, B3=0.026249999180436134, B4=0.008249999955296516, B8=0.0026499999221414328\n",
            "Sample 5: Class=8, B2=0.028750000521540642, B3=0.028349999338388443, B4=0.006550000049173832, B8=0.002899999963119626\n",
            "Sample 6: Class=3, B2=0.02288571372628212, B3=0.05414000153541565, B4=0.03181666508316994, B8=0.34104999899864197\n",
            "Sample 7: Class=3, B2=0.048225000500679016, B3=0.08736667037010193, B4=0.06499999761581421, B8=0.45969998836517334\n",
            "Sample 8: Class=8, B2=0.022749999538064003, B3=0.025800000876188278, B4=0.007849999703466892, B8=0.00215000007301569\n",
            "Sample 9: Class=1, B2=0.03929999843239784, B3=0.07169999927282333, B4=0.06260000169277191, B8=0.3077999949455261\n",
            "Sample 10: Class=3, B2=0.09465000033378601, B3=0.10920000076293945, B4=0.09934999793767929, B8=0.25450000166893005\n",
            "\n",
            "Class distribution in sample:\n",
            "{'histogram': {'1.0': 1308, '2.0': 7, '3.0': 880, '4.0': 4, '5.0': 238, '6.0': 25, '8.0': 2524, '9.0': 14}}\n"
          ]
        }
      ],
      "source": [
        "# Sample the image\n",
        "bands = ['B2', 'B3', 'B4', 'B8']\n",
        "sample = training_data.select(bands + ['Map_remapped']).sample(\n",
        "    region=aoi,\n",
        "    scale=10,\n",
        "    numPixels=5000,\n",
        "    seed=2,\n",
        "    geometries=True)\n",
        "\n",
        "# Print first 10 sample points (client-side)\n",
        "first_10 = sample.limit(10).getInfo()\n",
        "\n",
        "print('\\nFirst 10 training samples:')\n",
        "for i, feature in enumerate(first_10['features']):\n",
        "    props = feature['properties']\n",
        "    print(f\"Sample {i+1}: Class={props['Map_remapped']}, B2={props['B2']}, B3={props['B3']}, B4={props['B4']}, B8={props['B8']}\")\n",
        "\n",
        "# Count number of samples per class (server-side)\n",
        "class_counts = sample.reduceColumns(\n",
        "    reducer=ee.Reducer.frequencyHistogram(),\n",
        "    selectors=['Map_remapped'])\n",
        "\n",
        "print('\\nClass distribution in sample:')\n",
        "print(class_counts.getInfo())\n"
      ]
    },
    {
      "cell_type": "markdown",
      "metadata": {
        "id": "B1gJiAKVcvIN"
      },
      "source": [
        "(3) What type of landcover is being sampled in sample number 2 of the dataset? Make sure your random seed is set to 2 in the sampling code so that you get the same answer as me. (1 pt)"
      ]
    },
    {
      "cell_type": "markdown",
      "metadata": {
        "id": "QiJOePZ3XKeI"
      },
      "source": [
        "We are now ready to start machine learning on classifying the landcover of Wellington!\n",
        "________________________________________________________________________________"
      ]
    },
    {
      "cell_type": "markdown",
      "metadata": {
        "id": "rartTYCVSQvv"
      },
      "source": [
        "# Random Forest Classification for Landcover\n",
        "Let us do machine learning properly and first apply a 70/20/10 split that allows us to produce some accuracy statistics."
      ]
    },
    {
      "cell_type": "code",
      "execution_count": 13,
      "metadata": {
        "id": "okP_9BkwSZF_"
      },
      "outputs": [
        {
          "data": {
            "text/html": [
              "\n",
              "            <style>\n",
              "                .geemap-dark {\n",
              "                    --jp-widgets-color: white;\n",
              "                    --jp-widgets-label-color: white;\n",
              "                    --jp-ui-font-color1: white;\n",
              "                    --jp-layout-color2: #454545;\n",
              "                    background-color: #383838;\n",
              "                }\n",
              "\n",
              "                .geemap-dark .jupyter-button {\n",
              "                    --jp-layout-color3: #383838;\n",
              "                }\n",
              "\n",
              "                .geemap-colab {\n",
              "                    background-color: var(--colab-primary-surface-color, white);\n",
              "                }\n",
              "\n",
              "                .geemap-colab .jupyter-button {\n",
              "                    --jp-layout-color3: var(--colab-primary-surface-color, white);\n",
              "                }\n",
              "            </style>\n",
              "            "
            ],
            "text/plain": [
              "<IPython.core.display.HTML object>"
            ]
          },
          "metadata": {},
          "output_type": "display_data"
        }
      ],
      "source": [
        "# Add random column\n",
        "sample = sample.randomColumn('random')\n",
        "\n",
        "# Split\n",
        "train = sample.filter(ee.Filter.lt('random', 0.7))\n",
        "valid = sample.filter(ee.Filter.And(ee.Filter.gte('random', 0.7), ee.Filter.lt('random', 0.9)))\n",
        "test = sample.filter(ee.Filter.gte('random', 0.9))"
      ]
    },
    {
      "cell_type": "markdown",
      "metadata": {
        "id": "GXatbmouXTcF"
      },
      "source": [
        "Our next task is to set up a classifier object, followed by applying it to the image using the .classify operator. This operator hides a LOT of behind the scenes plumbing from Google.\n",
        "\n",
        "We use the [GEE Random Forest](https://developers.google.com/earth-engine/apidocs/ee-classifier-smilerandomforest) model that they have pre-built for us. Specifying the number of trees to use is the only variable we must set. Othe variables are available, read the docs!"
      ]
    },
    {
      "cell_type": "code",
      "execution_count": 14,
      "metadata": {
        "id": "xCL4Cw7ON30v"
      },
      "outputs": [
        {
          "data": {
            "text/html": [
              "\n",
              "            <style>\n",
              "                .geemap-dark {\n",
              "                    --jp-widgets-color: white;\n",
              "                    --jp-widgets-label-color: white;\n",
              "                    --jp-ui-font-color1: white;\n",
              "                    --jp-layout-color2: #454545;\n",
              "                    background-color: #383838;\n",
              "                }\n",
              "\n",
              "                .geemap-dark .jupyter-button {\n",
              "                    --jp-layout-color3: #383838;\n",
              "                }\n",
              "\n",
              "                .geemap-colab {\n",
              "                    background-color: var(--colab-primary-surface-color, white);\n",
              "                }\n",
              "\n",
              "                .geemap-colab .jupyter-button {\n",
              "                    --jp-layout-color3: var(--colab-primary-surface-color, white);\n",
              "                }\n",
              "            </style>\n",
              "            "
            ],
            "text/plain": [
              "<IPython.core.display.HTML object>"
            ]
          },
          "metadata": {},
          "output_type": "display_data"
        }
      ],
      "source": [
        "# Train the RF model\n",
        "classifier = ee.Classifier.smileRandomForest(numberOfTrees=100).train(\n",
        "    features=train,\n",
        "    classProperty='Map_remapped',\n",
        "    inputProperties=bands)"
      ]
    },
    {
      "cell_type": "markdown",
      "metadata": {
        "id": "foNf7Wg6Zx0k"
      },
      "source": [
        "With the model trained, we just apply it simply using the '.classify' operator."
      ]
    },
    {
      "cell_type": "code",
      "execution_count": 15,
      "metadata": {
        "id": "Xcb1MkUiZuhU"
      },
      "outputs": [
        {
          "data": {
            "text/html": [
              "\n",
              "            <style>\n",
              "                .geemap-dark {\n",
              "                    --jp-widgets-color: white;\n",
              "                    --jp-widgets-label-color: white;\n",
              "                    --jp-ui-font-color1: white;\n",
              "                    --jp-layout-color2: #454545;\n",
              "                    background-color: #383838;\n",
              "                }\n",
              "\n",
              "                .geemap-dark .jupyter-button {\n",
              "                    --jp-layout-color3: #383838;\n",
              "                }\n",
              "\n",
              "                .geemap-colab {\n",
              "                    background-color: var(--colab-primary-surface-color, white);\n",
              "                }\n",
              "\n",
              "                .geemap-colab .jupyter-button {\n",
              "                    --jp-layout-color3: var(--colab-primary-surface-color, white);\n",
              "                }\n",
              "            </style>\n",
              "            "
            ],
            "text/plain": [
              "<IPython.core.display.HTML object>"
            ]
          },
          "metadata": {},
          "output_type": "display_data"
        }
      ],
      "source": [
        "# Classify image\n",
        "classified = s2.select(bands).classify(classifier)"
      ]
    },
    {
      "cell_type": "markdown",
      "metadata": {
        "id": "68RI1Y8dSr7s"
      },
      "source": [
        "Let's visualize what we have just made!"
      ]
    },
    {
      "cell_type": "code",
      "execution_count": 16,
      "metadata": {
        "id": "3MrnPtEMStuT"
      },
      "outputs": [
        {
          "data": {
            "text/html": [
              "\n",
              "            <style>\n",
              "                .geemap-dark {\n",
              "                    --jp-widgets-color: white;\n",
              "                    --jp-widgets-label-color: white;\n",
              "                    --jp-ui-font-color1: white;\n",
              "                    --jp-layout-color2: #454545;\n",
              "                    background-color: #383838;\n",
              "                }\n",
              "\n",
              "                .geemap-dark .jupyter-button {\n",
              "                    --jp-layout-color3: #383838;\n",
              "                }\n",
              "\n",
              "                .geemap-colab {\n",
              "                    background-color: var(--colab-primary-surface-color, white);\n",
              "                }\n",
              "\n",
              "                .geemap-colab .jupyter-button {\n",
              "                    --jp-layout-color3: var(--colab-primary-surface-color, white);\n",
              "                }\n",
              "            </style>\n",
              "            "
            ],
            "text/plain": [
              "<IPython.core.display.HTML object>"
            ]
          },
          "metadata": {},
          "output_type": "display_data"
        },
        {
          "data": {
            "application/vnd.jupyter.widget-view+json": {
              "model_id": "5d8e706ce7f740b59df498c98ec14ab7",
              "version_major": 2,
              "version_minor": 0
            },
            "text/plain": [
              "Map(center=[-41.300046246343555, 174.75000000000097], controls=(WidgetControl(options=['position', 'transparen…"
            ]
          },
          "execution_count": 16,
          "metadata": {},
          "output_type": "execute_result"
        }
      ],
      "source": [
        "# Classified image viz, fresh set up again to make sure we have exactly what we want displayed.\n",
        "Map = geemap.Map()\n",
        "Map.centerObject(aoi, 10)\n",
        "Map.addLayer(classified.randomVisualizer(), {}, 'Classified')\n",
        "Map.addLayer(landcover_remapped.randomVisualizer(), {} ,'ESA Landcover')\n",
        "Map"
      ]
    },
    {
      "cell_type": "markdown",
      "metadata": {
        "id": "iPXMRuwAdjT0"
      },
      "source": [
        "(4) Look at the ESA landcover map and our resulting random forest classified Sentinel 2 image map. How are they different and what might be some causes of this difference? (5 pts)"
      ]
    },
    {
      "cell_type": "markdown",
      "metadata": {
        "id": "2m1V4yX2UKrz"
      },
      "source": [
        "Finally, we will apply our test data split and produce the summary statistics that we need to make smart choices about our training approach."
      ]
    },
    {
      "cell_type": "code",
      "execution_count": 20,
      "metadata": {
        "id": "Zsjs-kDeeRMz"
      },
      "outputs": [
        {
          "data": {
            "text/html": [
              "\n",
              "            <style>\n",
              "                .geemap-dark {\n",
              "                    --jp-widgets-color: white;\n",
              "                    --jp-widgets-label-color: white;\n",
              "                    --jp-ui-font-color1: white;\n",
              "                    --jp-layout-color2: #454545;\n",
              "                    background-color: #383838;\n",
              "                }\n",
              "\n",
              "                .geemap-dark .jupyter-button {\n",
              "                    --jp-layout-color3: #383838;\n",
              "                }\n",
              "\n",
              "                .geemap-colab {\n",
              "                    background-color: var(--colab-primary-surface-color, white);\n",
              "                }\n",
              "\n",
              "                .geemap-colab .jupyter-button {\n",
              "                    --jp-layout-color3: var(--colab-primary-surface-color, white);\n",
              "                }\n",
              "            </style>\n",
              "            "
            ],
            "text/plain": [
              "<IPython.core.display.HTML object>"
            ]
          },
          "metadata": {},
          "output_type": "display_data"
        },
        {
          "name": "stdout",
          "output_type": "stream",
          "text": [
            "Confusion Matrix:\n",
            "            Pred 10  Pred 20  Pred 30  Pred 40  Pred 50  Pred 60  Pred 70  \\\n",
            "Actual 10       212        0       30        0        5        0        0   \n",
            "Actual 20         3        0        0        0        0        0        0   \n",
            "Actual 30        33        0      120        0        3        1        0   \n",
            "Actual 40         0        0        0        0        0        0        0   \n",
            "Actual 50         4        0        8        0       31        0        0   \n",
            "Actual 60         0        0        0        0        7        0        0   \n",
            "Actual 70         0        0        0        0        0        0        0   \n",
            "Actual 80         0        0        1        0        2        0        0   \n",
            "Actual 90         1        0        1        0        1        0        0   \n",
            "Actual 100        0        0        0        0        0        0        0   \n",
            "\n",
            "            Pred 80  Pred 90  Pred 100  \n",
            "Actual 10         0        0         0  \n",
            "Actual 20         0        0         0  \n",
            "Actual 30         0        0         0  \n",
            "Actual 40         0        0         0  \n",
            "Actual 50         0        0         0  \n",
            "Actual 60         0        0         0  \n",
            "Actual 70         0        0         0  \n",
            "Actual 80       506        0         0  \n",
            "Actual 90         0        0         0  \n",
            "Actual 100        0        0         0  \n",
            "\n",
            "Classification Report:\n",
            "              precision    recall  f1-score   support\n",
            "\n",
            "          10       0.84      0.86      0.85       247\n",
            "          20       0.00      0.00      0.00         3\n",
            "          30       0.75      0.76      0.76       157\n",
            "          40       0.00      0.00      0.00         0\n",
            "          50       0.63      0.72      0.67        43\n",
            "          60       0.00      0.00      0.00         7\n",
            "          70       0.00      0.00      0.00         0\n",
            "          80       1.00      0.99      1.00       509\n",
            "          90       0.00      0.00      0.00         3\n",
            "         100       0.00      0.00      0.00         0\n",
            "\n",
            "    accuracy                           0.90       969\n",
            "   macro avg       0.32      0.33      0.33       969\n",
            "weighted avg       0.89      0.90      0.89       969\n",
            "\n"
          ]
        }
      ],
      "source": [
        "from sklearn.metrics import confusion_matrix, classification_report\n",
        "import pandas as pd\n",
        "\n",
        "\n",
        "# Validate\n",
        "validated = valid.classify(classifier, 'predicted')\n",
        "\n",
        "# Function to export data for confusion matrix\n",
        "def fc_to_lists(fc, classProp, predProp):\n",
        "    values = fc.aggregate_array(classProp).getInfo()\n",
        "    preds = fc.aggregate_array(predProp).getInfo()\n",
        "    return values, preds\n",
        "\n",
        "# Get predicted vs actual from validation set\n",
        "y_true, y_pred = fc_to_lists(validated, 'Map_remapped', 'predicted')\n",
        "\n",
        "# Labels for original classes\n",
        "label_map = {i + 1: valid_classes.get(i).getInfo() for i in range(10)}\n",
        "label_names = [label_map[i + 1] for i in range(10)]\n",
        "\n",
        "# Confusion matrix\n",
        "cm = confusion_matrix(y_true, y_pred, labels=list(range(1, 11)))\n",
        "report = classification_report(y_true, y_pred, labels=list(range(1, 11)), target_names=[str(l) for l in label_names])\n",
        "\n",
        "# Pretty-print\n",
        "print(\"Confusion Matrix:\")\n",
        "print(pd.DataFrame(cm, index=[f\"Actual {l}\" for l in label_names],\n",
        "                       columns=[f\"Pred {l}\" for l in label_names]))\n",
        "print(\"\\nClassification Report:\")\n",
        "print(report)"
      ]
    },
    {
      "cell_type": "markdown",
      "metadata": {
        "id": "bF4ehsu6eiOg"
      },
      "source": [
        "(5) Exercise: modify the code so that you feed into your random forest classifier that has been trained on 2020 data, on other years of Sentinel 2 data than 2020. Produce a publication quality figure that presents the following:\n",
        "*   Landcover maps of Wellington for 2018, 2022 and 2024\n",
        "*   The Test accuracy averages of the RF classifier for each iteration in terms of precision, recall and f1-score.\n",
        "(15 pts)\n",
        "_______________________________________________________________________________\n"
      ]
    },
    {
      "cell_type": "markdown",
      "metadata": {
        "id": "c0yjMM0QVEE1"
      },
      "source": [
        "# SVMs Applied to Satellite Data"
      ]
    },
    {
      "cell_type": "code",
      "execution_count": 21,
      "metadata": {
        "id": "nBAPJkRbV0Y9"
      },
      "outputs": [
        {
          "data": {
            "text/html": [
              "\n",
              "            <style>\n",
              "                .geemap-dark {\n",
              "                    --jp-widgets-color: white;\n",
              "                    --jp-widgets-label-color: white;\n",
              "                    --jp-ui-font-color1: white;\n",
              "                    --jp-layout-color2: #454545;\n",
              "                    background-color: #383838;\n",
              "                }\n",
              "\n",
              "                .geemap-dark .jupyter-button {\n",
              "                    --jp-layout-color3: #383838;\n",
              "                }\n",
              "\n",
              "                .geemap-colab {\n",
              "                    background-color: var(--colab-primary-surface-color, white);\n",
              "                }\n",
              "\n",
              "                .geemap-colab .jupyter-button {\n",
              "                    --jp-layout-color3: var(--colab-primary-surface-color, white);\n",
              "                }\n",
              "            </style>\n",
              "            "
            ],
            "text/plain": [
              "<IPython.core.display.HTML object>"
            ]
          },
          "metadata": {},
          "output_type": "display_data"
        },
        {
          "name": "stdout",
          "output_type": "stream",
          "text": [
            "Confusion Matrix:\n",
            "            Pred 10  Pred 20  Pred 30  Pred 40  Pred 50  Pred 60  Pred 70  \\\n",
            "Actual 10       212        0       30        0        5        0        0   \n",
            "Actual 20         3        0        0        0        0        0        0   \n",
            "Actual 30        33        0      120        0        3        1        0   \n",
            "Actual 40         0        0        0        0        0        0        0   \n",
            "Actual 50         4        0        8        0       31        0        0   \n",
            "Actual 60         0        0        0        0        7        0        0   \n",
            "Actual 70         0        0        0        0        0        0        0   \n",
            "Actual 80         0        0        1        0        2        0        0   \n",
            "Actual 90         1        0        1        0        1        0        0   \n",
            "Actual 100        0        0        0        0        0        0        0   \n",
            "\n",
            "            Pred 80  Pred 90  Pred 100  \n",
            "Actual 10         0        0         0  \n",
            "Actual 20         0        0         0  \n",
            "Actual 30         0        0         0  \n",
            "Actual 40         0        0         0  \n",
            "Actual 50         0        0         0  \n",
            "Actual 60         0        0         0  \n",
            "Actual 70         0        0         0  \n",
            "Actual 80       506        0         0  \n",
            "Actual 90         0        0         0  \n",
            "Actual 100        0        0         0  \n",
            "\n",
            "Classification Report:\n",
            "              precision    recall  f1-score   support\n",
            "\n",
            "          10       0.84      0.86      0.85       247\n",
            "          20       0.00      0.00      0.00         3\n",
            "          30       0.75      0.76      0.76       157\n",
            "          40       0.00      0.00      0.00         0\n",
            "          50       0.63      0.72      0.67        43\n",
            "          60       0.00      0.00      0.00         7\n",
            "          70       0.00      0.00      0.00         0\n",
            "          80       1.00      0.99      1.00       509\n",
            "          90       0.00      0.00      0.00         3\n",
            "         100       0.00      0.00      0.00         0\n",
            "\n",
            "    accuracy                           0.90       969\n",
            "   macro avg       0.32      0.33      0.33       969\n",
            "weighted avg       0.89      0.90      0.89       969\n",
            "\n"
          ]
        }
      ],
      "source": [
        "# Define and train the SVM classifier\n",
        "class_property = 'Map_remapped'\n",
        "svm = ee.Classifier.libsvm(kernelType='RBF', gamma=0.5, cost=10).train(\n",
        "    features=train,\n",
        "    classProperty=class_property,\n",
        "    inputProperties=bands\n",
        ")\n",
        "\n",
        "# Classify validation and test sets\n",
        "val_classified = valid.classify(svm)\n",
        "test_classified = test.classify(svm)\n",
        "\n",
        "# Evaluate test performance\n",
        "test_matrix = test_classified.errorMatrix(class_property, 'classification')\n",
        "print(\"Confusion Matrix:\")\n",
        "print(pd.DataFrame(cm, index=[f\"Actual {l}\" for l in label_names],\n",
        "                       columns=[f\"Pred {l}\" for l in label_names]))\n",
        "print(\"\\nClassification Report:\")\n",
        "print(report)"
      ]
    },
    {
      "cell_type": "markdown",
      "metadata": {
        "id": "MnE3-ryXw891"
      },
      "source": [
        "(6) Exercise: using an SVM model and the Landcare NZ 2024 landcover database, produce a landcover map of Great Barrier (Aotea) Island for 2025 (based off the Austral summer of 24/25).\n",
        "\n",
        "Your map should be presented at a publication quality level with all the usual map components (scale, legend, north arrow, data attribution).\n",
        "\n",
        "You will need to provide performance statistics of the model within your figure.\n",
        "\n",
        "*   Here you can access the landcover database: https://lris.scinfo.org.nz/layer/104400-lcdb-v50-land-cover-database-version-50-mainland-new-zealand/. You will need to explore for yourself how to extract this data and then upload it to colab, then how to plug it into the SVM algorithim. I have provided some starter code below.\n",
        "\n",
        "An intial workflow to get the data into the state you need it in to then use it as training data might look like:\n",
        "- Download the ZIP manually from their browser, having set your area of interest and used the 'Export' tool top right.\n",
        "- Upload it to Colab.\n",
        "- Unzip it and load with GeoPandas.\n",
        "(25 pts)\n",
        "\n"
      ]
    },
    {
      "cell_type": "code",
      "execution_count": 25,
      "metadata": {
        "id": "GJnG3aWQ0J90"
      },
      "outputs": [
        {
          "data": {
            "text/html": [
              "\n",
              "            <style>\n",
              "                .geemap-dark {\n",
              "                    --jp-widgets-color: white;\n",
              "                    --jp-widgets-label-color: white;\n",
              "                    --jp-ui-font-color1: white;\n",
              "                    --jp-layout-color2: #454545;\n",
              "                    background-color: #383838;\n",
              "                }\n",
              "\n",
              "                .geemap-dark .jupyter-button {\n",
              "                    --jp-layout-color3: #383838;\n",
              "                }\n",
              "\n",
              "                .geemap-colab {\n",
              "                    background-color: var(--colab-primary-surface-color, white);\n",
              "                }\n",
              "\n",
              "                .geemap-colab .jupyter-button {\n",
              "                    --jp-layout-color3: var(--colab-primary-surface-color, white);\n",
              "                }\n",
              "            </style>\n",
              "            "
            ],
            "text/plain": [
              "<IPython.core.display.HTML object>"
            ]
          },
          "metadata": {},
          "output_type": "display_data"
        },
        {
          "name": "stdout",
          "output_type": "stream",
          "text": [
            "                                            geometry\n",
            "0  POLYGON ((1339167.745 5005724.309, 1339080.897...\n",
            "1  POLYGON ((1333203.873 5130136.165, 1333144.138...\n",
            "2  POLYGON ((1722346.367 6070406.526, 1722327.668...\n",
            "3  POLYGON ((1598734.363 5150414.855, 1598728.79 ...\n",
            "4  POLYGON ((1321551.343 4987360.624, 1321542.884...\n"
          ]
        }
      ],
      "source": [
        "# Code to get you started\n",
        "import zipfile\n",
        "import geopandas as gpd\n",
        "\n",
        "# # Upload the ZIP manually using the Colab UI\n",
        "# from google.colab import files\n",
        "# uploaded = files.upload()  # <- Expects a ZIP\n",
        "\n",
        "# # Unzip\n",
        "# with zipfile.ZipFile(\"LCDB_v5.zip\", 'r') as zip_ref: #<- Check file names\n",
        "#     zip_ref.extractall(\"lcdb\")\n",
        "\n",
        "# Read shapefile\n",
        "gdf = gpd.read_file(\"lcdb-v50-land-cover-database-version-50-mainland-new-zealand.shp\") #<- Check file names\n",
        "print(gdf.head())\n"
      ]
    },
    {
      "cell_type": "code",
      "execution_count": 26,
      "metadata": {},
      "outputs": [
        {
          "data": {
            "text/html": [
              "\n",
              "            <style>\n",
              "                .geemap-dark {\n",
              "                    --jp-widgets-color: white;\n",
              "                    --jp-widgets-label-color: white;\n",
              "                    --jp-ui-font-color1: white;\n",
              "                    --jp-layout-color2: #454545;\n",
              "                    background-color: #383838;\n",
              "                }\n",
              "\n",
              "                .geemap-dark .jupyter-button {\n",
              "                    --jp-layout-color3: #383838;\n",
              "                }\n",
              "\n",
              "                .geemap-colab {\n",
              "                    background-color: var(--colab-primary-surface-color, white);\n",
              "                }\n",
              "\n",
              "                .geemap-colab .jupyter-button {\n",
              "                    --jp-layout-color3: var(--colab-primary-surface-color, white);\n",
              "                }\n",
              "            </style>\n",
              "            "
            ],
            "text/plain": [
              "<IPython.core.display.HTML object>"
            ]
          },
          "metadata": {},
          "output_type": "display_data"
        },
        {
          "data": {
            "text/plain": [
              "511104"
            ]
          },
          "execution_count": 26,
          "metadata": {},
          "output_type": "execute_result"
        }
      ],
      "source": [
        "len(gdf)"
      ]
    }
  ],
  "metadata": {
    "colab": {
      "provenance": []
    },
    "kernelspec": {
      "display_name": "geo",
      "language": "python",
      "name": "python3"
    },
    "language_info": {
      "codemirror_mode": {
        "name": "ipython",
        "version": 3
      },
      "file_extension": ".py",
      "mimetype": "text/x-python",
      "name": "python",
      "nbconvert_exporter": "python",
      "pygments_lexer": "ipython3",
      "version": "3.13.5"
    }
  },
  "nbformat": 4,
  "nbformat_minor": 0
}
