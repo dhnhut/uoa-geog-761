{
  "cells": [
    {
      "cell_type": "markdown",
      "metadata": {
        "id": "AbZaU_XVH7Zc"
      },
      "source": [
        "# Introduction\n",
        "Welcome to Lab 2, in this lab we will take our first steps into applying ML to satellite data, using landcover analysis as our primary goal.\n",
        "\n",
        "As covered in Lecture 2, landcover classification is the quintessential remote sensing task in the civil sector. The LandSat programme was originally developed in large part to enable the USA to monitor landcover more easily for a range of agricultral, govermental and finacial problemsets. It remains a primary task for governments and companies around the world.\n",
        "\n",
        "This is a pixel-wise ML task. We will apply two methods, both of which are available in GEE as ready-to-go algorithms. In this instance we are happy to go with built-in as it allows us to become familiar with an end-to-end GEE ML workflow without getting bogged down in technical detail. No need to re-invent the wheel unless you are going to the [moon](https://www.nasa.gov/feature/ames/artemis-moon-rover-s-wheels-are-ready-to-roll/).\n",
        "\n",
        "Remember that this is a set of exercises and tutorials that escalate in difficulty. Always show your working and do not neccesarily expect to get full marks on everything.\n",
        "\n",
        "Use the resources available to you outside of this material. I expect you to search for concepts or terms you do not understand and to look at the documentation of the code packages that we are using in the first instance of getting stuck.\n",
        "_______________________________________________________________________________"
      ]
    },
    {
      "cell_type": "markdown",
      "metadata": {
        "id": "7LjIQAw2OM6N"
      },
      "source": [
        "# Set up"
      ]
    },
    {
      "cell_type": "code",
      "execution_count": 1,
      "metadata": {
        "id": "VJI6OPweHOLP"
      },
      "outputs": [],
      "source": [
        "# Install libs if needed, note the --quiet option means a lot less annoying info than as Lab 1 when we did the same!\n",
        "# !pip install geemap --quiet\n",
        "# !pip install geopandas --quiet\n",
        "# !pip install scikit-learn --quiet"
      ]
    },
    {
      "cell_type": "code",
      "execution_count": 2,
      "metadata": {
        "id": "oTVEkaWvOjHL"
      },
      "outputs": [],
      "source": [
        "if 'google.colab' in str(get_ipython()):\n",
        "    from google.colab import userdata\n",
        "    EE_PROJECT_ID = userdata.get('EE_PROJECT_ID') \n",
        "else:\n",
        "    from dotenv import load_dotenv\n",
        "    import os\n",
        "    load_dotenv()  # take environment variables\n",
        "    EE_PROJECT_ID = os.getenv('EE_PROJECT_ID')\n",
        "\n",
        "# Set up GEE API\n",
        "import ee\n",
        "ee.Authenticate()\n",
        "ee.Initialize(project=EE_PROJECT_ID) #<- Remember to change this to your own project's name!"
      ]
    },
    {
      "cell_type": "code",
      "execution_count": 3,
      "metadata": {
        "id": "YIR6jwwAOs_v"
      },
      "outputs": [],
      "source": [
        "# Import other libs\n",
        "import geemap\n",
        "import geopandas as gpd\n",
        "import pandas as pd\n",
        "\n",
        "from sklearn.metrics import confusion_matrix, classification_report\n",
        "import pandas as pd"
      ]
    },
    {
      "cell_type": "markdown",
      "metadata": {
        "id": "OxOt8gypOypv"
      },
      "source": [
        "# Define Area of Interest (AOI)"
      ]
    },
    {
      "cell_type": "code",
      "execution_count": 4,
      "metadata": {
        "id": "609ruafINvXo"
      },
      "outputs": [
        {
          "data": {
            "text/html": [
              "\n",
              "            <style>\n",
              "                .geemap-dark {\n",
              "                    --jp-widgets-color: white;\n",
              "                    --jp-widgets-label-color: white;\n",
              "                    --jp-ui-font-color1: white;\n",
              "                    --jp-layout-color2: #454545;\n",
              "                    background-color: #383838;\n",
              "                }\n",
              "\n",
              "                .geemap-dark .jupyter-button {\n",
              "                    --jp-layout-color3: #383838;\n",
              "                }\n",
              "\n",
              "                .geemap-colab {\n",
              "                    background-color: var(--colab-primary-surface-color, white);\n",
              "                }\n",
              "\n",
              "                .geemap-colab .jupyter-button {\n",
              "                    --jp-layout-color3: var(--colab-primary-surface-color, white);\n",
              "                }\n",
              "            </style>\n",
              "            "
            ],
            "text/plain": [
              "<IPython.core.display.HTML object>"
            ]
          },
          "metadata": {},
          "output_type": "display_data"
        },
        {
          "data": {
            "application/vnd.jupyter.widget-view+json": {
              "model_id": "321000e5be38498bb812f3660996e831",
              "version_major": 2,
              "version_minor": 0
            },
            "text/plain": [
              "Map(center=[-41.3, 174.75], controls=(WidgetControl(options=['position', 'transparent_bg'], position='topright…"
            ]
          },
          "execution_count": 4,
          "metadata": {},
          "output_type": "execute_result"
        }
      ],
      "source": [
        "# Define area of interest (e.g., Wellington, NZ)\n",
        "aoi = ee.Geometry.Rectangle([174.6, -41.4, 174.9, -41.2])\n",
        "Map = geemap.Map(center=[-41.3, 174.75], zoom=10)\n",
        "Map.addLayer(aoi, {}, 'AOI')\n",
        "\n",
        "# Visualize on the map to check got it right... (always a good idea)\n",
        "Map"
      ]
    },
    {
      "cell_type": "markdown",
      "metadata": {
        "id": "HEV99nmEPUbQ"
      },
      "source": [
        "# Load and Cloud Mask Imagery from Earth Engine"
      ]
    },
    {
      "cell_type": "code",
      "execution_count": 5,
      "metadata": {
        "id": "mkYl36KRNyRd"
      },
      "outputs": [
        {
          "data": {
            "text/html": [
              "\n",
              "            <style>\n",
              "                .geemap-dark {\n",
              "                    --jp-widgets-color: white;\n",
              "                    --jp-widgets-label-color: white;\n",
              "                    --jp-ui-font-color1: white;\n",
              "                    --jp-layout-color2: #454545;\n",
              "                    background-color: #383838;\n",
              "                }\n",
              "\n",
              "                .geemap-dark .jupyter-button {\n",
              "                    --jp-layout-color3: #383838;\n",
              "                }\n",
              "\n",
              "                .geemap-colab {\n",
              "                    background-color: var(--colab-primary-surface-color, white);\n",
              "                }\n",
              "\n",
              "                .geemap-colab .jupyter-button {\n",
              "                    --jp-layout-color3: var(--colab-primary-surface-color, white);\n",
              "                }\n",
              "            </style>\n",
              "            "
            ],
            "text/plain": [
              "<IPython.core.display.HTML object>"
            ]
          },
          "metadata": {},
          "output_type": "display_data"
        }
      ],
      "source": [
        "# Set up your filter Sentinel-2 imagery\n",
        "# A function that masks clouds in your S2 images via QA band\n",
        "def mask_s2_clouds(image):\n",
        "    qa = image.select('QA60')\n",
        "    cloudBitMask = 1 << 10\n",
        "    cirrusBitMask = 1 << 11\n",
        "    mask = qa.bitwiseAnd(cloudBitMask).eq(0).And(\n",
        "           qa.bitwiseAnd(cirrusBitMask).eq(0))\n",
        "    return image.updateMask(mask).divide(10000).select(['B2', 'B3', 'B4', 'B8'])\n",
        "\n",
        "# Now build the clean collection with selected bands\n",
        "s2 = (ee.ImageCollection('COPERNICUS/S2_SR_HARMONIZED')\n",
        "      .filterBounds(aoi)\n",
        "      .filterDate('2021-01-01', '2021-12-31')\n",
        "      .filter(ee.Filter.lt('CLOUDY_PIXEL_PERCENTAGE', 10))\n",
        "      .map(mask_s2_clouds)\n",
        "      .median() #<- think about this step and what it is doing to your image when you build your single composite from the image collection\n",
        "      .clip(aoi))"
      ]
    },
    {
      "cell_type": "markdown",
      "metadata": {
        "id": "koEefrEza8t3"
      },
      "source": [
        "(1) What other mathematical [compositing](https://developers.google.com/earth-engine/guides/ic_composite_mosaic) approaches could you take when building your single image from the filtered image collection you create in the cell above? Hint: you currently are doing a 'median-composite'. (3 pts)"
      ]
    },
    {
      "cell_type": "code",
      "execution_count": 6,
      "metadata": {
        "id": "UZ1hfnD3PZSX"
      },
      "outputs": [
        {
          "data": {
            "text/html": [
              "\n",
              "            <style>\n",
              "                .geemap-dark {\n",
              "                    --jp-widgets-color: white;\n",
              "                    --jp-widgets-label-color: white;\n",
              "                    --jp-ui-font-color1: white;\n",
              "                    --jp-layout-color2: #454545;\n",
              "                    background-color: #383838;\n",
              "                }\n",
              "\n",
              "                .geemap-dark .jupyter-button {\n",
              "                    --jp-layout-color3: #383838;\n",
              "                }\n",
              "\n",
              "                .geemap-colab {\n",
              "                    background-color: var(--colab-primary-surface-color, white);\n",
              "                }\n",
              "\n",
              "                .geemap-colab .jupyter-button {\n",
              "                    --jp-layout-color3: var(--colab-primary-surface-color, white);\n",
              "                }\n",
              "            </style>\n",
              "            "
            ],
            "text/plain": [
              "<IPython.core.display.HTML object>"
            ]
          },
          "metadata": {},
          "output_type": "display_data"
        },
        {
          "data": {
            "application/vnd.jupyter.widget-view+json": {
              "model_id": "09b1825e2d36485b8b099672dec6328d",
              "version_major": 2,
              "version_minor": 0
            },
            "text/plain": [
              "Map(center=[-41.3, 174.75], controls=(WidgetControl(options=['position', 'transparent_bg'], position='topright…"
            ]
          },
          "execution_count": 6,
          "metadata": {},
          "output_type": "execute_result"
        }
      ],
      "source": [
        "# Set up the visualisation and then once again check it has worked, stacking layers in a sensible order\n",
        "Map = geemap.Map(center=[-41.3, 174.75], zoom=11) #<- reset the map object to clear out other layers from earlier cells\n",
        "Map.addLayer(s2, {'bands': ['B4', 'B3', 'B2'], 'min': 0, 'max': 0.3}, 'S2 RGB')\n",
        "Map.addLayer(aoi, {'color': 'red'}, 'AOI')\n",
        "Map"
      ]
    },
    {
      "cell_type": "markdown",
      "metadata": {
        "id": "FEDOPqbwiPmp"
      },
      "source": [
        "________________________________________________________________________________"
      ]
    },
    {
      "cell_type": "markdown",
      "metadata": {
        "id": "eFV2IN6WVD-3"
      },
      "source": [
        "# Training data\n",
        "\n",
        "We are going to train our data using the European Space Agency (ESA) world landcover map. Given that this is derived from satellite data our logic is at risk of becoming a little circular here. But as a training exercise it is a good way to have easy to access training data of the right size and type to apply to our image.\n",
        "\n",
        "There are a wide range of landcover datasets in the GEE catalogue that you can use for this purpose:\n",
        "*   https://developers.google.com/earth-engine/datasets/tags/landuse-landcover\n",
        "\n",
        "First, we will load in the landcover map we will use to create our training dataset (https://developers.google.com/earth-engine/datasets/catalog/ESA_WorldCover_v100):\n",
        "\n"
      ]
    },
    {
      "cell_type": "markdown",
      "metadata": {
        "id": "PC49HraHWOih"
      },
      "source": [
        "Next we need to use our landcover map to [sample](https://developers.google.com/earth-engine/apidocs/ee-image-sample) the Sentinel 2 image, associating each pixel of a given landcover with the spectral band values 'beneath' it."
      ]
    },
    {
      "cell_type": "code",
      "execution_count": 7,
      "metadata": {
        "id": "Qxq3kumyWG0U"
      },
      "outputs": [
        {
          "data": {
            "text/html": [
              "\n",
              "            <style>\n",
              "                .geemap-dark {\n",
              "                    --jp-widgets-color: white;\n",
              "                    --jp-widgets-label-color: white;\n",
              "                    --jp-ui-font-color1: white;\n",
              "                    --jp-layout-color2: #454545;\n",
              "                    background-color: #383838;\n",
              "                }\n",
              "\n",
              "                .geemap-dark .jupyter-button {\n",
              "                    --jp-layout-color3: #383838;\n",
              "                }\n",
              "\n",
              "                .geemap-colab {\n",
              "                    background-color: var(--colab-primary-surface-color, white);\n",
              "                }\n",
              "\n",
              "                .geemap-colab .jupyter-button {\n",
              "                    --jp-layout-color3: var(--colab-primary-surface-color, white);\n",
              "                }\n",
              "            </style>\n",
              "            "
            ],
            "text/plain": [
              "<IPython.core.display.HTML object>"
            ]
          },
          "metadata": {},
          "output_type": "display_data"
        }
      ],
      "source": [
        "# Define valid WorldCover classes (10 to 100, spaced by 10)\n",
        "valid_classes = ee.List.sequence(10, 100, 10) # 100 is included\n",
        "# list(range(10, 100, 10)) # 100 in not included\n",
        "\n",
        "# Need to change this to sequential list to avoid the algs thinking there are 99 classes rather than 9\n",
        "remap_to = ee.List.sequence(1, 10)\n",
        "\n",
        "# Load and mask WorldCover map to valid classes only\n",
        "landcover = ee.Image('ESA/WorldCover/v100/2020').select('Map').clip(aoi)\n",
        "landcover_masked = landcover.updateMask(\n",
        "    landcover.remap(valid_classes, ee.List.repeat(1, 10)))\n",
        "\n",
        "# Remap labels: create a new band with remapped values (10 → 1, ..., 100 → 10)\n",
        "landcover_remapped = landcover.remap(valid_classes, remap_to).rename('Map_remapped')"
      ]
    },
    {
      "cell_type": "markdown",
      "metadata": {
        "id": "7v770SAWbsBg"
      },
      "source": [
        "(2) What year of data was this landcover map (accessed in the cell above) created on? (1 pt)\n",
        "\n",
        "2020"
      ]
    },
    {
      "cell_type": "code",
      "execution_count": 8,
      "metadata": {},
      "outputs": [
        {
          "data": {
            "text/html": [
              "\n",
              "            <style>\n",
              "                .geemap-dark {\n",
              "                    --jp-widgets-color: white;\n",
              "                    --jp-widgets-label-color: white;\n",
              "                    --jp-ui-font-color1: white;\n",
              "                    --jp-layout-color2: #454545;\n",
              "                    background-color: #383838;\n",
              "                }\n",
              "\n",
              "                .geemap-dark .jupyter-button {\n",
              "                    --jp-layout-color3: #383838;\n",
              "                }\n",
              "\n",
              "                .geemap-colab {\n",
              "                    background-color: var(--colab-primary-surface-color, white);\n",
              "                }\n",
              "\n",
              "                .geemap-colab .jupyter-button {\n",
              "                    --jp-layout-color3: var(--colab-primary-surface-color, white);\n",
              "                }\n",
              "            </style>\n",
              "            "
            ],
            "text/plain": [
              "<IPython.core.display.HTML object>"
            ]
          },
          "metadata": {},
          "output_type": "display_data"
        },
        {
          "data": {
            "text/plain": [
              "'Version:'"
            ]
          },
          "metadata": {},
          "output_type": "display_data"
        },
        {
          "data": {
            "text/html": [
              "<div><style>:root {\n",
              "  --font-color-primary: var(--jp-content-font-color0, rgba(0, 0, 0, 1));\n",
              "  --font-color-secondary: var(--jp-content-font-color2, rgba(0, 0, 0, 0.7));\n",
              "  --font-color-accent: rgba(123, 31, 162, 1);\n",
              "  --border-color: var(--jp-border-color2, #e0e0e0);\n",
              "  --background-color: var(--jp-layout-color0, white);\n",
              "  --background-color-row-even: var(--jp-layout-color1, white);\n",
              "  --background-color-row-odd: var(--jp-layout-color2, #eeeeee);\n",
              "}\n",
              "\n",
              "html[theme=\"dark\"],\n",
              "body[data-theme=\"dark\"],\n",
              "body.vscode-dark {\n",
              "  --font-color-primary: rgba(255, 255, 255, 1);\n",
              "  --font-color-secondary: rgba(255, 255, 255, 0.7);\n",
              "  --font-color-accent: rgb(173, 132, 190);\n",
              "  --border-color: #2e2e2e;\n",
              "  --background-color: #111111;\n",
              "  --background-color-row-even: #111111;\n",
              "  --background-color-row-odd: #313131;\n",
              "}\n",
              "\n",
              ".eerepr {\n",
              "  padding: 1em;\n",
              "  line-height: 1.5em;\n",
              "  min-width: 300px;\n",
              "  max-width: 1200px;\n",
              "  overflow-y: scroll;\n",
              "  max-height: 600px;\n",
              "  border: 1px solid var(--border-color);\n",
              "  font-family: monospace;\n",
              "  font-size: 14px;\n",
              "}\n",
              "\n",
              ".eerepr li {\n",
              "  list-style-type: none;\n",
              "  margin: 0;\n",
              "}\n",
              "\n",
              ".eerepr ul {\n",
              "  padding-left: 1.5em !important;\n",
              "  margin: 0;\n",
              "}\n",
              "\n",
              ".eerepr > ul {\n",
              "  padding-left: 0 !important;\n",
              "}\n",
              "\n",
              ".eerepr summary {\n",
              "  color: var(--font-color-secondary);\n",
              "  cursor: pointer;\n",
              "  margin: 0;\n",
              "}\n",
              "\n",
              ".eerepr summary:hover {\n",
              "  color: var(--font-color-primary);\n",
              "  background-color: var(--background-color-row-odd)\n",
              "}\n",
              "\n",
              ".ee-k {\n",
              "  color: var(--font-color-accent);\n",
              "  margin-right: 6px;\n",
              "}\n",
              "\n",
              ".ee-v {\n",
              "  color: var(--font-color-primary);\n",
              "}\n",
              "\n",
              ".eerepr details > summary::before {\n",
              "  content: '▼';\n",
              "  display: inline-block;\n",
              "  margin-right: 6px;\n",
              "  transition: transform 0.2s;\n",
              "  transform: rotate(-90deg);\n",
              "}\n",
              "\n",
              ".eerepr details[open] > summary::before {\n",
              "  transform: rotate(0deg);\n",
              "}\n",
              "\n",
              ".eerepr details summary::-webkit-details-marker {\n",
              "  display:none;\n",
              "}\n",
              "\n",
              ".eerepr details summary {\n",
              "  list-style-type: none;\n",
              "}\n",
              "</style><div class='eerepr'><ul><li><span class='ee-v'>1685065671563344</span></li></ul></div></div>"
            ],
            "text/plain": [
              "<ee.computedobject.ComputedObject at 0x160dda150>"
            ]
          },
          "metadata": {},
          "output_type": "display_data"
        },
        {
          "data": {
            "text/plain": [
              "'Version (as ingestion date):'"
            ]
          },
          "metadata": {},
          "output_type": "display_data"
        },
        {
          "data": {
            "text/html": [
              "<div><style>:root {\n",
              "  --font-color-primary: var(--jp-content-font-color0, rgba(0, 0, 0, 1));\n",
              "  --font-color-secondary: var(--jp-content-font-color2, rgba(0, 0, 0, 0.7));\n",
              "  --font-color-accent: rgba(123, 31, 162, 1);\n",
              "  --border-color: var(--jp-border-color2, #e0e0e0);\n",
              "  --background-color: var(--jp-layout-color0, white);\n",
              "  --background-color-row-even: var(--jp-layout-color1, white);\n",
              "  --background-color-row-odd: var(--jp-layout-color2, #eeeeee);\n",
              "}\n",
              "\n",
              "html[theme=\"dark\"],\n",
              "body[data-theme=\"dark\"],\n",
              "body.vscode-dark {\n",
              "  --font-color-primary: rgba(255, 255, 255, 1);\n",
              "  --font-color-secondary: rgba(255, 255, 255, 0.7);\n",
              "  --font-color-accent: rgb(173, 132, 190);\n",
              "  --border-color: #2e2e2e;\n",
              "  --background-color: #111111;\n",
              "  --background-color-row-even: #111111;\n",
              "  --background-color-row-odd: #313131;\n",
              "}\n",
              "\n",
              ".eerepr {\n",
              "  padding: 1em;\n",
              "  line-height: 1.5em;\n",
              "  min-width: 300px;\n",
              "  max-width: 1200px;\n",
              "  overflow-y: scroll;\n",
              "  max-height: 600px;\n",
              "  border: 1px solid var(--border-color);\n",
              "  font-family: monospace;\n",
              "  font-size: 14px;\n",
              "}\n",
              "\n",
              ".eerepr li {\n",
              "  list-style-type: none;\n",
              "  margin: 0;\n",
              "}\n",
              "\n",
              ".eerepr ul {\n",
              "  padding-left: 1.5em !important;\n",
              "  margin: 0;\n",
              "}\n",
              "\n",
              ".eerepr > ul {\n",
              "  padding-left: 0 !important;\n",
              "}\n",
              "\n",
              ".eerepr summary {\n",
              "  color: var(--font-color-secondary);\n",
              "  cursor: pointer;\n",
              "  margin: 0;\n",
              "}\n",
              "\n",
              ".eerepr summary:hover {\n",
              "  color: var(--font-color-primary);\n",
              "  background-color: var(--background-color-row-odd)\n",
              "}\n",
              "\n",
              ".ee-k {\n",
              "  color: var(--font-color-accent);\n",
              "  margin-right: 6px;\n",
              "}\n",
              "\n",
              ".ee-v {\n",
              "  color: var(--font-color-primary);\n",
              "}\n",
              "\n",
              ".eerepr details > summary::before {\n",
              "  content: '▼';\n",
              "  display: inline-block;\n",
              "  margin-right: 6px;\n",
              "  transition: transform 0.2s;\n",
              "  transform: rotate(-90deg);\n",
              "}\n",
              "\n",
              ".eerepr details[open] > summary::before {\n",
              "  transform: rotate(0deg);\n",
              "}\n",
              "\n",
              ".eerepr details summary::-webkit-details-marker {\n",
              "  display:none;\n",
              "}\n",
              "\n",
              ".eerepr details summary {\n",
              "  list-style-type: none;\n",
              "}\n",
              "</style><div class='eerepr'><ul><li><span class='ee-v'>2023-05-26T01:47:51</span></li></ul></div></div>"
            ],
            "text/plain": [
              "<ee.ee_string.String at 0x160533f20>"
            ]
          },
          "metadata": {},
          "output_type": "display_data"
        },
        {
          "data": {
            "text/plain": [
              "'Timestamp:'"
            ]
          },
          "metadata": {},
          "output_type": "display_data"
        },
        {
          "data": {
            "text/html": [
              "<div><style>:root {\n",
              "  --font-color-primary: var(--jp-content-font-color0, rgba(0, 0, 0, 1));\n",
              "  --font-color-secondary: var(--jp-content-font-color2, rgba(0, 0, 0, 0.7));\n",
              "  --font-color-accent: rgba(123, 31, 162, 1);\n",
              "  --border-color: var(--jp-border-color2, #e0e0e0);\n",
              "  --background-color: var(--jp-layout-color0, white);\n",
              "  --background-color-row-even: var(--jp-layout-color1, white);\n",
              "  --background-color-row-odd: var(--jp-layout-color2, #eeeeee);\n",
              "}\n",
              "\n",
              "html[theme=\"dark\"],\n",
              "body[data-theme=\"dark\"],\n",
              "body.vscode-dark {\n",
              "  --font-color-primary: rgba(255, 255, 255, 1);\n",
              "  --font-color-secondary: rgba(255, 255, 255, 0.7);\n",
              "  --font-color-accent: rgb(173, 132, 190);\n",
              "  --border-color: #2e2e2e;\n",
              "  --background-color: #111111;\n",
              "  --background-color-row-even: #111111;\n",
              "  --background-color-row-odd: #313131;\n",
              "}\n",
              "\n",
              ".eerepr {\n",
              "  padding: 1em;\n",
              "  line-height: 1.5em;\n",
              "  min-width: 300px;\n",
              "  max-width: 1200px;\n",
              "  overflow-y: scroll;\n",
              "  max-height: 600px;\n",
              "  border: 1px solid var(--border-color);\n",
              "  font-family: monospace;\n",
              "  font-size: 14px;\n",
              "}\n",
              "\n",
              ".eerepr li {\n",
              "  list-style-type: none;\n",
              "  margin: 0;\n",
              "}\n",
              "\n",
              ".eerepr ul {\n",
              "  padding-left: 1.5em !important;\n",
              "  margin: 0;\n",
              "}\n",
              "\n",
              ".eerepr > ul {\n",
              "  padding-left: 0 !important;\n",
              "}\n",
              "\n",
              ".eerepr summary {\n",
              "  color: var(--font-color-secondary);\n",
              "  cursor: pointer;\n",
              "  margin: 0;\n",
              "}\n",
              "\n",
              ".eerepr summary:hover {\n",
              "  color: var(--font-color-primary);\n",
              "  background-color: var(--background-color-row-odd)\n",
              "}\n",
              "\n",
              ".ee-k {\n",
              "  color: var(--font-color-accent);\n",
              "  margin-right: 6px;\n",
              "}\n",
              "\n",
              ".ee-v {\n",
              "  color: var(--font-color-primary);\n",
              "}\n",
              "\n",
              ".eerepr details > summary::before {\n",
              "  content: '▼';\n",
              "  display: inline-block;\n",
              "  margin-right: 6px;\n",
              "  transition: transform 0.2s;\n",
              "  transform: rotate(-90deg);\n",
              "}\n",
              "\n",
              ".eerepr details[open] > summary::before {\n",
              "  transform: rotate(0deg);\n",
              "}\n",
              "\n",
              ".eerepr details summary::-webkit-details-marker {\n",
              "  display:none;\n",
              "}\n",
              "\n",
              ".eerepr details summary {\n",
              "  list-style-type: none;\n",
              "}\n",
              "</style><div class='eerepr'><ul><li><details><summary>Date (2020-01-01 00:00:00)</summary><ul><li><span class='ee-k'>type:</span><span class='ee-v'>Date</span></li><li><span class='ee-k'>value:</span><span class='ee-v'>1577836800000</span></li></ul></details></li></ul></div></div>"
            ],
            "text/plain": [
              "<ee.ee_date.Date at 0x160e19950>"
            ]
          },
          "metadata": {},
          "output_type": "display_data"
        }
      ],
      "source": [
        "landcover.getInfo()  # Get info about the landcover image\n",
        "\n",
        "# Get version number (ingestion timestamp as microseconds since Unix epoch).\n",
        "version = landcover.get('system:version')\n",
        "display('Version:', version)  # ee.Number\n",
        "display(\n",
        "    'Version (as ingestion date):',\n",
        "    ee.Date(ee.Number(version).divide(1000)).format(),\n",
        ")\n",
        "\n",
        "# Get the timestamp.\n",
        "display('Timestamp:', ee.Date(landcover.get('system:time_start')))"
      ]
    },
    {
      "cell_type": "code",
      "execution_count": 9,
      "metadata": {
        "id": "5dulg_UTkpkR"
      },
      "outputs": [
        {
          "data": {
            "text/html": [
              "\n",
              "            <style>\n",
              "                .geemap-dark {\n",
              "                    --jp-widgets-color: white;\n",
              "                    --jp-widgets-label-color: white;\n",
              "                    --jp-ui-font-color1: white;\n",
              "                    --jp-layout-color2: #454545;\n",
              "                    background-color: #383838;\n",
              "                }\n",
              "\n",
              "                .geemap-dark .jupyter-button {\n",
              "                    --jp-layout-color3: #383838;\n",
              "                }\n",
              "\n",
              "                .geemap-colab {\n",
              "                    background-color: var(--colab-primary-surface-color, white);\n",
              "                }\n",
              "\n",
              "                .geemap-colab .jupyter-button {\n",
              "                    --jp-layout-color3: var(--colab-primary-surface-color, white);\n",
              "                }\n",
              "            </style>\n",
              "            "
            ],
            "text/plain": [
              "<IPython.core.display.HTML object>"
            ]
          },
          "metadata": {},
          "output_type": "display_data"
        }
      ],
      "source": [
        "# Add landcover original and remapped as bands to Sentinel-2 image\n",
        "training_data = s2.addBands(landcover_masked.rename('Map')).addBands(landcover_remapped)"
      ]
    },
    {
      "cell_type": "markdown",
      "metadata": {
        "id": "n8vEEI8cYfAI"
      },
      "source": [
        "Let's inspect the resulting training dataset and make sure that you understand what you have built here.\n",
        "\n",
        "We are going to:\n",
        "- Print the first few rows (client-side).\n",
        "- Check the number of samples per class (server-side with reduceColumns).\n",
        "\n",
        "This may take a little time to run as we request data both client and server side."
      ]
    },
    {
      "cell_type": "code",
      "execution_count": 10,
      "metadata": {
        "id": "9N4ONGxYX077"
      },
      "outputs": [
        {
          "data": {
            "text/html": [
              "\n",
              "            <style>\n",
              "                .geemap-dark {\n",
              "                    --jp-widgets-color: white;\n",
              "                    --jp-widgets-label-color: white;\n",
              "                    --jp-ui-font-color1: white;\n",
              "                    --jp-layout-color2: #454545;\n",
              "                    background-color: #383838;\n",
              "                }\n",
              "\n",
              "                .geemap-dark .jupyter-button {\n",
              "                    --jp-layout-color3: #383838;\n",
              "                }\n",
              "\n",
              "                .geemap-colab {\n",
              "                    background-color: var(--colab-primary-surface-color, white);\n",
              "                }\n",
              "\n",
              "                .geemap-colab .jupyter-button {\n",
              "                    --jp-layout-color3: var(--colab-primary-surface-color, white);\n",
              "                }\n",
              "            </style>\n",
              "            "
            ],
            "text/plain": [
              "<IPython.core.display.HTML object>"
            ]
          },
          "metadata": {},
          "output_type": "display_data"
        },
        {
          "name": "stdout",
          "output_type": "stream",
          "text": [
            "\n",
            "First 10 training samples:\n",
            "Sample 1: Class=8, B2=0.03869999945163727, B3=0.026639999821782112, B4=0.0066999997943639755, B8=0.003700000001117587\n",
            "Sample 2: Class=1, B2=0.018300000578165054, B3=0.028699999675154686, B4=0.019099999219179153, B8=0.188400000333786\n",
            "Sample 3: Class=1, B2=0.01489999983459711, B3=0.049400001764297485, B4=0.019200000911951065, B8=0.3569999933242798\n",
            "Sample 4: Class=8, B2=0.021449999883770943, B3=0.026249999180436134, B4=0.008249999955296516, B8=0.0026499999221414328\n",
            "Sample 5: Class=8, B2=0.028750000521540642, B3=0.028349999338388443, B4=0.006550000049173832, B8=0.002899999963119626\n",
            "Sample 6: Class=3, B2=0.02288571372628212, B3=0.05414000153541565, B4=0.03181666508316994, B8=0.34104999899864197\n",
            "Sample 7: Class=3, B2=0.048225000500679016, B3=0.08736667037010193, B4=0.06499999761581421, B8=0.45969998836517334\n",
            "Sample 8: Class=8, B2=0.022749999538064003, B3=0.025800000876188278, B4=0.007849999703466892, B8=0.00215000007301569\n",
            "Sample 9: Class=1, B2=0.03929999843239784, B3=0.07169999927282333, B4=0.06260000169277191, B8=0.3077999949455261\n",
            "Sample 10: Class=3, B2=0.09465000033378601, B3=0.10920000076293945, B4=0.09934999793767929, B8=0.25450000166893005\n",
            "\n",
            "Class distribution in sample:\n",
            "{'histogram': {'1.0': 1308, '2.0': 7, '3.0': 880, '4.0': 4, '5.0': 238, '6.0': 25, '8.0': 2524, '9.0': 14}}\n"
          ]
        }
      ],
      "source": [
        "# Sample the image\n",
        "bands = ['B2', 'B3', 'B4', 'B8']\n",
        "sample = training_data.select(bands + ['Map_remapped']).sample(\n",
        "    region=aoi,\n",
        "    scale=10,\n",
        "    numPixels=5000,\n",
        "    seed=2,\n",
        "    geometries=True)\n",
        "\n",
        "# Print first 10 sample points (client-side)\n",
        "first_10 = sample.limit(10).getInfo()\n",
        "\n",
        "print('\\nFirst 10 training samples:')\n",
        "for i, feature in enumerate(first_10['features']):\n",
        "    props = feature['properties']\n",
        "    print(f\"Sample {i+1}: Class={props['Map_remapped']}, B2={props['B2']}, B3={props['B3']}, B4={props['B4']}, B8={props['B8']}\")\n",
        "\n",
        "# Count number of samples per class (server-side)\n",
        "class_counts = sample.reduceColumns(\n",
        "    reducer=ee.Reducer.frequencyHistogram(),\n",
        "    selectors=['Map_remapped'])\n",
        "\n",
        "print('\\nClass distribution in sample:')\n",
        "print(class_counts.getInfo())\n"
      ]
    },
    {
      "cell_type": "markdown",
      "metadata": {
        "id": "B1gJiAKVcvIN"
      },
      "source": [
        "(3) What type of landcover is being sampled in sample number 2 of the dataset? Make sure your random seed is set to 2 in the sampling code so that you get the same answer as me. (1 pt)\n",
        "\n",
        "Sample number 2 is `Class 1` => `Tree cover`\n",
        "\n",
        "https://developers.google.com/earth-engine/datasets/catalog/ESA_WorldCover_v100#bands"
      ]
    },
    {
      "cell_type": "markdown",
      "metadata": {
        "id": "QiJOePZ3XKeI"
      },
      "source": [
        "We are now ready to start machine learning on classifying the landcover of Wellington!\n",
        "________________________________________________________________________________"
      ]
    },
    {
      "cell_type": "markdown",
      "metadata": {
        "id": "rartTYCVSQvv"
      },
      "source": [
        "# Random Forest Classification for Landcover\n",
        "Let us do machine learning properly and first apply a 70/20/10 split that allows us to produce some accuracy statistics."
      ]
    },
    {
      "cell_type": "code",
      "execution_count": 11,
      "metadata": {
        "id": "okP_9BkwSZF_"
      },
      "outputs": [
        {
          "data": {
            "text/html": [
              "\n",
              "            <style>\n",
              "                .geemap-dark {\n",
              "                    --jp-widgets-color: white;\n",
              "                    --jp-widgets-label-color: white;\n",
              "                    --jp-ui-font-color1: white;\n",
              "                    --jp-layout-color2: #454545;\n",
              "                    background-color: #383838;\n",
              "                }\n",
              "\n",
              "                .geemap-dark .jupyter-button {\n",
              "                    --jp-layout-color3: #383838;\n",
              "                }\n",
              "\n",
              "                .geemap-colab {\n",
              "                    background-color: var(--colab-primary-surface-color, white);\n",
              "                }\n",
              "\n",
              "                .geemap-colab .jupyter-button {\n",
              "                    --jp-layout-color3: var(--colab-primary-surface-color, white);\n",
              "                }\n",
              "            </style>\n",
              "            "
            ],
            "text/plain": [
              "<IPython.core.display.HTML object>"
            ]
          },
          "metadata": {},
          "output_type": "display_data"
        }
      ],
      "source": [
        "# Add random column\n",
        "sample = sample.randomColumn('random')\n",
        "\n",
        "# Split\n",
        "train = sample.filter(ee.Filter.lt('random', 0.7))\n",
        "valid = sample.filter(ee.Filter.And(ee.Filter.gte('random', 0.7), ee.Filter.lt('random', 0.9)))\n",
        "test = sample.filter(ee.Filter.gte('random', 0.9))"
      ]
    },
    {
      "cell_type": "markdown",
      "metadata": {
        "id": "GXatbmouXTcF"
      },
      "source": [
        "Our next task is to set up a classifier object, followed by applying it to the image using the .classify operator. This operator hides a LOT of behind the scenes plumbing from Google.\n",
        "\n",
        "We use the [GEE Random Forest](https://developers.google.com/earth-engine/apidocs/ee-classifier-smilerandomforest) model that they have pre-built for us. Specifying the number of trees to use is the only variable we must set. Othe variables are available, read the docs!"
      ]
    },
    {
      "cell_type": "code",
      "execution_count": 12,
      "metadata": {
        "id": "xCL4Cw7ON30v"
      },
      "outputs": [
        {
          "data": {
            "text/html": [
              "\n",
              "            <style>\n",
              "                .geemap-dark {\n",
              "                    --jp-widgets-color: white;\n",
              "                    --jp-widgets-label-color: white;\n",
              "                    --jp-ui-font-color1: white;\n",
              "                    --jp-layout-color2: #454545;\n",
              "                    background-color: #383838;\n",
              "                }\n",
              "\n",
              "                .geemap-dark .jupyter-button {\n",
              "                    --jp-layout-color3: #383838;\n",
              "                }\n",
              "\n",
              "                .geemap-colab {\n",
              "                    background-color: var(--colab-primary-surface-color, white);\n",
              "                }\n",
              "\n",
              "                .geemap-colab .jupyter-button {\n",
              "                    --jp-layout-color3: var(--colab-primary-surface-color, white);\n",
              "                }\n",
              "            </style>\n",
              "            "
            ],
            "text/plain": [
              "<IPython.core.display.HTML object>"
            ]
          },
          "metadata": {},
          "output_type": "display_data"
        }
      ],
      "source": [
        "# Train the RF model\n",
        "classifier = ee.Classifier.smileRandomForest(numberOfTrees=100).train(\n",
        "    features=train,\n",
        "    classProperty='Map_remapped',\n",
        "    inputProperties=bands)"
      ]
    },
    {
      "cell_type": "markdown",
      "metadata": {
        "id": "foNf7Wg6Zx0k"
      },
      "source": [
        "With the model trained, we just apply it simply using the '.classify' operator."
      ]
    },
    {
      "cell_type": "code",
      "execution_count": 13,
      "metadata": {
        "id": "Xcb1MkUiZuhU"
      },
      "outputs": [
        {
          "data": {
            "text/html": [
              "\n",
              "            <style>\n",
              "                .geemap-dark {\n",
              "                    --jp-widgets-color: white;\n",
              "                    --jp-widgets-label-color: white;\n",
              "                    --jp-ui-font-color1: white;\n",
              "                    --jp-layout-color2: #454545;\n",
              "                    background-color: #383838;\n",
              "                }\n",
              "\n",
              "                .geemap-dark .jupyter-button {\n",
              "                    --jp-layout-color3: #383838;\n",
              "                }\n",
              "\n",
              "                .geemap-colab {\n",
              "                    background-color: var(--colab-primary-surface-color, white);\n",
              "                }\n",
              "\n",
              "                .geemap-colab .jupyter-button {\n",
              "                    --jp-layout-color3: var(--colab-primary-surface-color, white);\n",
              "                }\n",
              "            </style>\n",
              "            "
            ],
            "text/plain": [
              "<IPython.core.display.HTML object>"
            ]
          },
          "metadata": {},
          "output_type": "display_data"
        }
      ],
      "source": [
        "# Classify image\n",
        "classified = s2.select(bands).classify(classifier)"
      ]
    },
    {
      "cell_type": "code",
      "execution_count": 14,
      "metadata": {},
      "outputs": [
        {
          "data": {
            "text/html": [
              "\n",
              "            <style>\n",
              "                .geemap-dark {\n",
              "                    --jp-widgets-color: white;\n",
              "                    --jp-widgets-label-color: white;\n",
              "                    --jp-ui-font-color1: white;\n",
              "                    --jp-layout-color2: #454545;\n",
              "                    background-color: #383838;\n",
              "                }\n",
              "\n",
              "                .geemap-dark .jupyter-button {\n",
              "                    --jp-layout-color3: #383838;\n",
              "                }\n",
              "\n",
              "                .geemap-colab {\n",
              "                    background-color: var(--colab-primary-surface-color, white);\n",
              "                }\n",
              "\n",
              "                .geemap-colab .jupyter-button {\n",
              "                    --jp-layout-color3: var(--colab-primary-surface-color, white);\n",
              "                }\n",
              "            </style>\n",
              "            "
            ],
            "text/plain": [
              "<IPython.core.display.HTML object>"
            ]
          },
          "metadata": {},
          "output_type": "display_data"
        },
        {
          "data": {
            "text/html": [
              "<div><style>:root {\n",
              "  --font-color-primary: var(--jp-content-font-color0, rgba(0, 0, 0, 1));\n",
              "  --font-color-secondary: var(--jp-content-font-color2, rgba(0, 0, 0, 0.7));\n",
              "  --font-color-accent: rgba(123, 31, 162, 1);\n",
              "  --border-color: var(--jp-border-color2, #e0e0e0);\n",
              "  --background-color: var(--jp-layout-color0, white);\n",
              "  --background-color-row-even: var(--jp-layout-color1, white);\n",
              "  --background-color-row-odd: var(--jp-layout-color2, #eeeeee);\n",
              "}\n",
              "\n",
              "html[theme=\"dark\"],\n",
              "body[data-theme=\"dark\"],\n",
              "body.vscode-dark {\n",
              "  --font-color-primary: rgba(255, 255, 255, 1);\n",
              "  --font-color-secondary: rgba(255, 255, 255, 0.7);\n",
              "  --font-color-accent: rgb(173, 132, 190);\n",
              "  --border-color: #2e2e2e;\n",
              "  --background-color: #111111;\n",
              "  --background-color-row-even: #111111;\n",
              "  --background-color-row-odd: #313131;\n",
              "}\n",
              "\n",
              ".eerepr {\n",
              "  padding: 1em;\n",
              "  line-height: 1.5em;\n",
              "  min-width: 300px;\n",
              "  max-width: 1200px;\n",
              "  overflow-y: scroll;\n",
              "  max-height: 600px;\n",
              "  border: 1px solid var(--border-color);\n",
              "  font-family: monospace;\n",
              "  font-size: 14px;\n",
              "}\n",
              "\n",
              ".eerepr li {\n",
              "  list-style-type: none;\n",
              "  margin: 0;\n",
              "}\n",
              "\n",
              ".eerepr ul {\n",
              "  padding-left: 1.5em !important;\n",
              "  margin: 0;\n",
              "}\n",
              "\n",
              ".eerepr > ul {\n",
              "  padding-left: 0 !important;\n",
              "}\n",
              "\n",
              ".eerepr summary {\n",
              "  color: var(--font-color-secondary);\n",
              "  cursor: pointer;\n",
              "  margin: 0;\n",
              "}\n",
              "\n",
              ".eerepr summary:hover {\n",
              "  color: var(--font-color-primary);\n",
              "  background-color: var(--background-color-row-odd)\n",
              "}\n",
              "\n",
              ".ee-k {\n",
              "  color: var(--font-color-accent);\n",
              "  margin-right: 6px;\n",
              "}\n",
              "\n",
              ".ee-v {\n",
              "  color: var(--font-color-primary);\n",
              "}\n",
              "\n",
              ".eerepr details > summary::before {\n",
              "  content: '▼';\n",
              "  display: inline-block;\n",
              "  margin-right: 6px;\n",
              "  transition: transform 0.2s;\n",
              "  transform: rotate(-90deg);\n",
              "}\n",
              "\n",
              ".eerepr details[open] > summary::before {\n",
              "  transform: rotate(0deg);\n",
              "}\n",
              "\n",
              ".eerepr details summary::-webkit-details-marker {\n",
              "  display:none;\n",
              "}\n",
              "\n",
              ".eerepr details summary {\n",
              "  list-style-type: none;\n",
              "}\n",
              "</style><div class='eerepr'><ul><li><details><summary>Image (1 band)</summary><ul><li><span class='ee-k'>type:</span><span class='ee-v'>Image</span></li><li><details><summary>bands: List (1 element)</summary><ul><li><details><summary>0: \"classification\", signed int32, EPSG:4326, 2x2 px</summary><ul><li><span class='ee-k'>id:</span><span class='ee-v'>classification</span></li><li><span class='ee-k'>crs:</span><span class='ee-v'>EPSG:4326</span></li><li><details><summary>crs_transform: [1, 0, 0, 0, 1, 0]</summary><ul><li><span class='ee-k'>0:</span><span class='ee-v'>1</span></li><li><span class='ee-k'>1:</span><span class='ee-v'>0</span></li><li><span class='ee-k'>2:</span><span class='ee-v'>0</span></li><li><span class='ee-k'>3:</span><span class='ee-v'>0</span></li><li><span class='ee-k'>4:</span><span class='ee-v'>1</span></li><li><span class='ee-k'>5:</span><span class='ee-v'>0</span></li></ul></details></li><li><details><summary>data_type: signed int32</summary><ul><li><span class='ee-k'>type:</span><span class='ee-v'>PixelType</span></li><li><span class='ee-k'>max:</span><span class='ee-v'>2147483647</span></li><li><span class='ee-k'>min:</span><span class='ee-v'>-2147483648</span></li><li><span class='ee-k'>precision:</span><span class='ee-v'>int</span></li></ul></details></li><li><details><summary>dimensions: [2, 2]</summary><ul><li><span class='ee-k'>0:</span><span class='ee-v'>2</span></li><li><span class='ee-k'>1:</span><span class='ee-v'>2</span></li></ul></details></li><li><details><summary>origin: [174, -42]</summary><ul><li><span class='ee-k'>0:</span><span class='ee-v'>174</span></li><li><span class='ee-k'>1:</span><span class='ee-v'>-42</span></li></ul></details></li></ul></details></li></ul></details></li><li><details><summary>properties: Object (1 property)</summary><ul><li><details><summary>system:footprint: Polygon (5 vertices)</summary><ul><li><span class='ee-k'>type:</span><span class='ee-v'>Polygon</span></li><li><details><summary>coordinates: List (1 element)</summary><ul><li><details><summary>0: List (5 elements)</summary><ul><li><details><summary>0: [174.6, -41.4]</summary><ul><li><span class='ee-k'>0:</span><span class='ee-v'>174.6</span></li><li><span class='ee-k'>1:</span><span class='ee-v'>-41.4</span></li></ul></details></li><li><details><summary>1: [174.9, -41.4]</summary><ul><li><span class='ee-k'>0:</span><span class='ee-v'>174.9</span></li><li><span class='ee-k'>1:</span><span class='ee-v'>-41.4</span></li></ul></details></li><li><details><summary>2: [174.9, -41.2]</summary><ul><li><span class='ee-k'>0:</span><span class='ee-v'>174.9</span></li><li><span class='ee-k'>1:</span><span class='ee-v'>-41.2</span></li></ul></details></li><li><details><summary>3: [174.6, -41.2]</summary><ul><li><span class='ee-k'>0:</span><span class='ee-v'>174.6</span></li><li><span class='ee-k'>1:</span><span class='ee-v'>-41.2</span></li></ul></details></li><li><details><summary>4: [174.6, -41.4]</summary><ul><li><span class='ee-k'>0:</span><span class='ee-v'>174.6</span></li><li><span class='ee-k'>1:</span><span class='ee-v'>-41.4</span></li></ul></details></li></ul></details></li></ul></details></li></ul></details></li></ul></details></li></ul></details></li></ul></div></div>"
            ],
            "text/plain": [
              "<ee.image.Image at 0x160dd9610>"
            ]
          },
          "execution_count": 14,
          "metadata": {},
          "output_type": "execute_result"
        }
      ],
      "source": [
        "classified"
      ]
    },
    {
      "cell_type": "markdown",
      "metadata": {
        "id": "68RI1Y8dSr7s"
      },
      "source": [
        "Let's visualize what we have just made!"
      ]
    },
    {
      "cell_type": "code",
      "execution_count": 15,
      "metadata": {
        "id": "3MrnPtEMStuT"
      },
      "outputs": [
        {
          "data": {
            "text/html": [
              "\n",
              "            <style>\n",
              "                .geemap-dark {\n",
              "                    --jp-widgets-color: white;\n",
              "                    --jp-widgets-label-color: white;\n",
              "                    --jp-ui-font-color1: white;\n",
              "                    --jp-layout-color2: #454545;\n",
              "                    background-color: #383838;\n",
              "                }\n",
              "\n",
              "                .geemap-dark .jupyter-button {\n",
              "                    --jp-layout-color3: #383838;\n",
              "                }\n",
              "\n",
              "                .geemap-colab {\n",
              "                    background-color: var(--colab-primary-surface-color, white);\n",
              "                }\n",
              "\n",
              "                .geemap-colab .jupyter-button {\n",
              "                    --jp-layout-color3: var(--colab-primary-surface-color, white);\n",
              "                }\n",
              "            </style>\n",
              "            "
            ],
            "text/plain": [
              "<IPython.core.display.HTML object>"
            ]
          },
          "metadata": {},
          "output_type": "display_data"
        },
        {
          "data": {
            "application/vnd.jupyter.widget-view+json": {
              "model_id": "61adeabcd88f4b20ac2a307b2a64deac",
              "version_major": 2,
              "version_minor": 0
            },
            "text/plain": [
              "Map(center=[-41.300046246343555, 174.75000000000097], controls=(WidgetControl(options=['position', 'transparen…"
            ]
          },
          "execution_count": 15,
          "metadata": {},
          "output_type": "execute_result"
        }
      ],
      "source": [
        "# Classified image viz, fresh set up again to make sure we have exactly what we want displayed.\n",
        "Map = geemap.Map()\n",
        "Map.centerObject(aoi, 10)\n",
        "Map.addLayer(classified.randomVisualizer(), {}, 'Classified')\n",
        "Map.addLayer(landcover_remapped.randomVisualizer(), {} ,'ESA Landcover')\n",
        "Map"
      ]
    },
    {
      "cell_type": "markdown",
      "metadata": {
        "id": "iPXMRuwAdjT0"
      },
      "source": [
        "(4) Look at the ESA landcover map and our resulting random forest classified Sentinel 2 image map. How are they different and what might be some causes of this difference? (5 pts)\n",
        "\n",
        "=> Model cannot do 100% accuracy"
      ]
    },
    {
      "cell_type": "markdown",
      "metadata": {
        "id": "2m1V4yX2UKrz"
      },
      "source": [
        "Finally, we will apply our test data split and produce the summary statistics that we need to make smart choices about our training approach."
      ]
    },
    {
      "cell_type": "code",
      "execution_count": 16,
      "metadata": {
        "id": "Zsjs-kDeeRMz"
      },
      "outputs": [
        {
          "data": {
            "text/html": [
              "\n",
              "            <style>\n",
              "                .geemap-dark {\n",
              "                    --jp-widgets-color: white;\n",
              "                    --jp-widgets-label-color: white;\n",
              "                    --jp-ui-font-color1: white;\n",
              "                    --jp-layout-color2: #454545;\n",
              "                    background-color: #383838;\n",
              "                }\n",
              "\n",
              "                .geemap-dark .jupyter-button {\n",
              "                    --jp-layout-color3: #383838;\n",
              "                }\n",
              "\n",
              "                .geemap-colab {\n",
              "                    background-color: var(--colab-primary-surface-color, white);\n",
              "                }\n",
              "\n",
              "                .geemap-colab .jupyter-button {\n",
              "                    --jp-layout-color3: var(--colab-primary-surface-color, white);\n",
              "                }\n",
              "            </style>\n",
              "            "
            ],
            "text/plain": [
              "<IPython.core.display.HTML object>"
            ]
          },
          "metadata": {},
          "output_type": "display_data"
        },
        {
          "name": "stdout",
          "output_type": "stream",
          "text": [
            "Confusion Matrix:\n",
            "            Pred 10  Pred 20  Pred 30  Pred 40  Pred 50  Pred 60  Pred 70  \\\n",
            "Actual 10       212        0       30        0        5        0        0   \n",
            "Actual 20         3        0        0        0        0        0        0   \n",
            "Actual 30        33        0      120        0        3        1        0   \n",
            "Actual 40         0        0        0        0        0        0        0   \n",
            "Actual 50         4        0        8        0       31        0        0   \n",
            "Actual 60         0        0        0        0        7        0        0   \n",
            "Actual 70         0        0        0        0        0        0        0   \n",
            "Actual 80         0        0        1        0        2        0        0   \n",
            "Actual 90         1        0        1        0        1        0        0   \n",
            "Actual 100        0        0        0        0        0        0        0   \n",
            "\n",
            "            Pred 80  Pred 90  Pred 100  \n",
            "Actual 10         0        0         0  \n",
            "Actual 20         0        0         0  \n",
            "Actual 30         0        0         0  \n",
            "Actual 40         0        0         0  \n",
            "Actual 50         0        0         0  \n",
            "Actual 60         0        0         0  \n",
            "Actual 70         0        0         0  \n",
            "Actual 80       506        0         0  \n",
            "Actual 90         0        0         0  \n",
            "Actual 100        0        0         0  \n",
            "\n",
            "Classification Report:\n",
            "              precision    recall  f1-score   support\n",
            "\n",
            "          10       0.84      0.86      0.85       247\n",
            "          20       0.00      0.00      0.00         3\n",
            "          30       0.75      0.76      0.76       157\n",
            "          40       0.00      0.00      0.00         0\n",
            "          50       0.63      0.72      0.67        43\n",
            "          60       0.00      0.00      0.00         7\n",
            "          70       0.00      0.00      0.00         0\n",
            "          80       1.00      0.99      1.00       509\n",
            "          90       0.00      0.00      0.00         3\n",
            "         100       0.00      0.00      0.00         0\n",
            "\n",
            "    accuracy                           0.90       969\n",
            "   macro avg       0.32      0.33      0.33       969\n",
            "weighted avg       0.89      0.90      0.89       969\n",
            "\n"
          ]
        }
      ],
      "source": [
        "from sklearn.metrics import confusion_matrix, classification_report\n",
        "import pandas as pd\n",
        "\n",
        "\n",
        "# Validate\n",
        "validated = valid.classify(classifier, 'predicted')\n",
        "\n",
        "# Function to export data for confusion matrix\n",
        "def fc_to_lists(fc, classProp, predProp):\n",
        "    values = fc.aggregate_array(classProp).getInfo()\n",
        "    preds = fc.aggregate_array(predProp).getInfo()\n",
        "    return values, preds\n",
        "\n",
        "# Get predicted vs actual from validation set\n",
        "y_true, y_pred = fc_to_lists(validated, 'Map_remapped', 'predicted')\n",
        "\n",
        "# Labels for original classes\n",
        "label_map = {i + 1: valid_classes.get(i).getInfo() for i in range(10)}\n",
        "label_names = [label_map[i + 1] for i in range(10)]\n",
        "\n",
        "# Confusion matrix\n",
        "cm = confusion_matrix(y_true, y_pred, labels=list(range(1, 11)))\n",
        "report = classification_report(y_true, y_pred, labels=list(range(1, 11)), target_names=[str(l) for l in label_names])\n",
        "\n",
        "# Pretty-print\n",
        "print(\"Confusion Matrix:\")\n",
        "print(pd.DataFrame(cm, index=[f\"Actual {l}\" for l in label_names],\n",
        "                       columns=[f\"Pred {l}\" for l in label_names]))\n",
        "print(\"\\nClassification Report:\")\n",
        "print(report)"
      ]
    },
    {
      "cell_type": "markdown",
      "metadata": {
        "id": "bF4ehsu6eiOg"
      },
      "source": [
        "(5) Exercise: modify the code so that you feed into your random forest classifier that has been trained on 2020 data, on other years of Sentinel 2 data than 2020. Produce a publication quality figure that presents the following:\n",
        "*   Landcover maps of Wellington for 2018, 2022 and 2024\n",
        "*   The Test accuracy averages of the RF classifier for each iteration in terms of precision, recall and f1-score.\n",
        "(15 pts)\n",
        "_______________________________________________________________________________\n"
      ]
    },
    {
      "cell_type": "code",
      "execution_count": 22,
      "metadata": {},
      "outputs": [
        {
          "data": {
            "text/html": [
              "\n",
              "            <style>\n",
              "                .geemap-dark {\n",
              "                    --jp-widgets-color: white;\n",
              "                    --jp-widgets-label-color: white;\n",
              "                    --jp-ui-font-color1: white;\n",
              "                    --jp-layout-color2: #454545;\n",
              "                    background-color: #383838;\n",
              "                }\n",
              "\n",
              "                .geemap-dark .jupyter-button {\n",
              "                    --jp-layout-color3: #383838;\n",
              "                }\n",
              "\n",
              "                .geemap-colab {\n",
              "                    background-color: var(--colab-primary-surface-color, white);\n",
              "                }\n",
              "\n",
              "                .geemap-colab .jupyter-button {\n",
              "                    --jp-layout-color3: var(--colab-primary-surface-color, white);\n",
              "                }\n",
              "            </style>\n",
              "            "
            ],
            "text/plain": [
              "<IPython.core.display.HTML object>"
            ]
          },
          "metadata": {},
          "output_type": "display_data"
        }
      ],
      "source": [
        "####### Step 0: Define Variales\n",
        "years = [2018, 2022, 2024]\n",
        "cms = []\n",
        "reports = []\n",
        "\n",
        "# QUESTION: DOES THE REQUIREMENT ASK TO USE 2021 DATA???\n",
        "# Prepare Ground Truth Data for model performance validation\n",
        "# Load the available ESA WorldCover maps, only available for 2020 and 2021\n",
        "worldcover_2020 = landcover_remapped\n",
        "worldcover_2021 = ee.Image('ESA/WorldCover/v200/2021').select('Map').clip(aoi)\n",
        "\n",
        "# Remap labels: create a new band with remapped values (10 → 1, ..., 100 → 10)\n",
        "truth_2020_remapped = landcover_remapped\n",
        "truth_2021_remapped = worldcover_2021.remap(valid_classes, remap_to).rename('Map_remapped')\n",
        "\n",
        "# Create a mapping of years to truth maps, get the most recent one for each year\n",
        "truth_maps = {\n",
        "    2018: truth_2020_remapped,\n",
        "    2022: truth_2021_remapped,\n",
        "    2024: truth_2021_remapped\n",
        "}\n",
        "\n",
        "welly_images = []\n",
        "welly_classified_list = []\n",
        "\n",
        "for i, year in enumerate(years):\n",
        "    ####### Step 1: get mask clouds in Sentinel-2 images of the year\n",
        "    image = (ee.ImageCollection('COPERNICUS/S2_SR_HARMONIZED')\n",
        "        .filterBounds(aoi)\n",
        "        .filterDate(f'{year}-01-01', f'{year}-12-31')\n",
        "        .filter(ee.Filter.lt('CLOUDY_PIXEL_PERCENTAGE', 10))\n",
        "        .map(mask_s2_clouds)\n",
        "        .median()\n",
        "        .clip(aoi))\n",
        "    \n",
        "    ####### Step 2: Apply classification to the year's image\n",
        "    classified_image = image.select(bands).classify(classifier)\n",
        "\n",
        "    ####### Step 3: Loop Through Each Year to Calculate and Print Accuracy Metrics\n",
        "    \n",
        "    # Combine the classified map and the ground truth map into a single image\n",
        "    # We need to sample both at the same time for comparison\n",
        "    validation_bands = classified_image.rename('classification').addBands(\n",
        "        truth_maps[year].rename('ground_truth')\n",
        "    )\n",
        "    \n",
        "    # Generate a new set of random points for validation\n",
        "    # We use a large number of points to get a stable estimate of accuracy\n",
        "    validation_sample = validation_bands.sample(\n",
        "        region=aoi,\n",
        "        scale=10,\n",
        "        numPixels=10000,\n",
        "        seed=42 # Use a seed for reproducibility\n",
        "    )\n",
        "    \n",
        "    ####### Step 4: Pull data to client and run scikit-learn validation\n",
        "    \n",
        "    # Get predicted vs actual from validation set\n",
        "    y_true, y_pred = fc_to_lists(validation_sample, 'ground_truth', 'classification')\n",
        "\n",
        "    # Labels for original classes\n",
        "    label_map = {i + 1: valid_classes.get(i).getInfo() for i in range(10)}\n",
        "    label_names = [label_map[i + 1] for i in range(10)]\n",
        "\n",
        "    # Generate the confusion matrix\n",
        "    cm = confusion_matrix(y_true, y_pred, labels=list(range(1, 11)))\n",
        "    \n",
        "    \n",
        "    # Generate the classification report\n",
        "    report = classification_report(y_true, y_pred, labels=list(range(1, 11)), target_names=[str(l) for l in label_names])\n",
        "\n",
        "    # Pretty-print the results using pandas for the confusion matrix\n",
        "    cm_df = pd.DataFrame(cm, index=[f\"Actual: {l}\" for l in label_names],\n",
        "                             columns=[f\"Pred: {l}\" for l in label_names])\n",
        "    \n",
        "    cms.append(cm_df)\n",
        "    reports.append(report)\n"
      ]
    },
    {
      "cell_type": "code",
      "execution_count": 23,
      "metadata": {},
      "outputs": [
        {
          "data": {
            "text/html": [
              "\n",
              "            <style>\n",
              "                .geemap-dark {\n",
              "                    --jp-widgets-color: white;\n",
              "                    --jp-widgets-label-color: white;\n",
              "                    --jp-ui-font-color1: white;\n",
              "                    --jp-layout-color2: #454545;\n",
              "                    background-color: #383838;\n",
              "                }\n",
              "\n",
              "                .geemap-dark .jupyter-button {\n",
              "                    --jp-layout-color3: #383838;\n",
              "                }\n",
              "\n",
              "                .geemap-colab {\n",
              "                    background-color: var(--colab-primary-surface-color, white);\n",
              "                }\n",
              "\n",
              "                .geemap-colab .jupyter-button {\n",
              "                    --jp-layout-color3: var(--colab-primary-surface-color, white);\n",
              "                }\n",
              "            </style>\n",
              "            "
            ],
            "text/plain": [
              "<IPython.core.display.HTML object>"
            ]
          },
          "metadata": {},
          "output_type": "display_data"
        },
        {
          "name": "stdout",
          "output_type": "stream",
          "text": [
            "\n",
            "--- 2018 ---\n",
            "\n",
            "Confusion Matrix:\n",
            "             Pred: 10  Pred: 20  Pred: 30  Pred: 40  Pred: 50  Pred: 60  \\\n",
            "Actual: 10       1750         0       827         0        55         1   \n",
            "Actual: 20          9         0         7         0         0         0   \n",
            "Actual: 30        311         0      1378         0        63         2   \n",
            "Actual: 40          1         0         2         0         0         0   \n",
            "Actual: 50         58         0        46         0       367         3   \n",
            "Actual: 60          4         0        10         0        55         1   \n",
            "Actual: 70          0         0         0         0         0         0   \n",
            "Actual: 80          5         0         2         0        59         0   \n",
            "Actual: 90          2         0        11         0         4         0   \n",
            "Actual: 100         0         0         0         0         0         0   \n",
            "\n",
            "             Pred: 70  Pred: 80  Pred: 90  Pred: 100  \n",
            "Actual: 10          0         0         0          0  \n",
            "Actual: 20          0         0         0          0  \n",
            "Actual: 30          0         1         0          0  \n",
            "Actual: 40          0         0         0          0  \n",
            "Actual: 50          0         4         0          0  \n",
            "Actual: 60          0         2         0          0  \n",
            "Actual: 70          0         0         0          0  \n",
            "Actual: 80          0      4959         0          0  \n",
            "Actual: 90          0         0         0          0  \n",
            "Actual: 100         0         0         0          0  \n",
            "\n",
            "Classification Report:\n",
            "              precision    recall  f1-score   support\n",
            "\n",
            "          10       0.82      0.66      0.73      2633\n",
            "          20       0.00      0.00      0.00        16\n",
            "          30       0.60      0.79      0.68      1755\n",
            "          40       0.00      0.00      0.00         3\n",
            "          50       0.61      0.77      0.68       478\n",
            "          60       0.14      0.01      0.03        72\n",
            "          70       0.00      0.00      0.00         0\n",
            "          80       1.00      0.99      0.99      5025\n",
            "          90       0.00      0.00      0.00        17\n",
            "         100       0.00      0.00      0.00         0\n",
            "\n",
            "    accuracy                           0.85      9999\n",
            "   macro avg       0.32      0.32      0.31      9999\n",
            "weighted avg       0.85      0.85      0.84      9999\n",
            "\n",
            "\n",
            "--- 2022 ---\n",
            "\n",
            "Confusion Matrix:\n",
            "             Pred: 10  Pred: 20  Pred: 30  Pred: 40  Pred: 50  Pred: 60  \\\n",
            "Actual: 10       2074         0       616         0        57         1   \n",
            "Actual: 20         19         0        42         0         1         0   \n",
            "Actual: 30        170         0      1361         0        36         2   \n",
            "Actual: 40          0         0         3         0         0         0   \n",
            "Actual: 50         82         0        62         0       378         2   \n",
            "Actual: 60          0         0         0         0        46         1   \n",
            "Actual: 70          0         0         0         0         0         0   \n",
            "Actual: 80          6         0         1         0        25         1   \n",
            "Actual: 90          4         0         6         0         1         0   \n",
            "Actual: 100         0         0         0         0         0         0   \n",
            "\n",
            "             Pred: 70  Pred: 80  Pred: 90  Pred: 100  \n",
            "Actual: 10          0         0         0          0  \n",
            "Actual: 20          0         0         0          0  \n",
            "Actual: 30          0         0         0          0  \n",
            "Actual: 40          0         0         0          0  \n",
            "Actual: 50          0         5         0          0  \n",
            "Actual: 60          0         2         0          0  \n",
            "Actual: 70          0         0         0          0  \n",
            "Actual: 80          0      4994         0          0  \n",
            "Actual: 90          0         1         0          0  \n",
            "Actual: 100         0         0         0          0  \n",
            "\n",
            "Classification Report:\n",
            "              precision    recall  f1-score   support\n",
            "\n",
            "          10       0.88      0.75      0.81      2748\n",
            "          20       0.00      0.00      0.00        62\n",
            "          30       0.65      0.87      0.74      1569\n",
            "          40       0.00      0.00      0.00         3\n",
            "          50       0.69      0.71      0.70       529\n",
            "          60       0.14      0.02      0.04        49\n",
            "          70       0.00      0.00      0.00         0\n",
            "          80       1.00      0.99      1.00      5027\n",
            "          90       0.00      0.00      0.00        12\n",
            "         100       0.00      0.00      0.00         0\n",
            "\n",
            "    accuracy                           0.88      9999\n",
            "   macro avg       0.34      0.34      0.33      9999\n",
            "weighted avg       0.88      0.88      0.88      9999\n",
            "\n",
            "\n",
            "--- 2024 ---\n",
            "\n",
            "Confusion Matrix:\n",
            "             Pred: 10  Pred: 20  Pred: 30  Pred: 40  Pred: 50  Pred: 60  \\\n",
            "Actual: 10       2320         0       383         0        40         0   \n",
            "Actual: 20         24         0        38         0         0         0   \n",
            "Actual: 30        292         0      1223         0        50         1   \n",
            "Actual: 40          0         0         3         0         0         0   \n",
            "Actual: 50        100         0        40         0       378         1   \n",
            "Actual: 60          1         0         2         0        44         0   \n",
            "Actual: 70          0         0         0         0         0         0   \n",
            "Actual: 80          1         0         4         0        26         0   \n",
            "Actual: 90          4         0         6         0         1         0   \n",
            "Actual: 100         0         0         0         0         0         0   \n",
            "\n",
            "             Pred: 70  Pred: 80  Pred: 90  Pred: 100  \n",
            "Actual: 10          0         4         1          0  \n",
            "Actual: 20          0         0         0          0  \n",
            "Actual: 30          0         3         0          0  \n",
            "Actual: 40          0         0         0          0  \n",
            "Actual: 50          0        10         0          0  \n",
            "Actual: 60          0         2         0          0  \n",
            "Actual: 70          0         0         0          0  \n",
            "Actual: 80          0      4996         0          0  \n",
            "Actual: 90          0         1         0          0  \n",
            "Actual: 100         0         0         0          0  \n",
            "\n",
            "Classification Report:\n",
            "              precision    recall  f1-score   support\n",
            "\n",
            "          10       0.85      0.84      0.85      2748\n",
            "          20       0.00      0.00      0.00        62\n",
            "          30       0.72      0.78      0.75      1569\n",
            "          40       0.00      0.00      0.00         3\n",
            "          50       0.70      0.71      0.71       529\n",
            "          60       0.00      0.00      0.00        49\n",
            "          70       0.00      0.00      0.00         0\n",
            "          80       1.00      0.99      0.99      5027\n",
            "          90       0.00      0.00      0.00        12\n",
            "         100       0.00      0.00      0.00         0\n",
            "\n",
            "    accuracy                           0.89      9999\n",
            "   macro avg       0.33      0.33      0.33      9999\n",
            "weighted avg       0.88      0.89      0.89      9999\n",
            "\n"
          ]
        }
      ],
      "source": [
        " ####### Step 3: Loop Through Each Year to Calculate and Print Accuracy Metrics\n",
        "for year, cm_df, report in zip(years, cms, reports):\n",
        "    print(f\"\\n--- {year} ---\")\n",
        "    print(\"\\nConfusion Matrix:\")\n",
        "    print(cm_df)\n",
        "    print(\"\\nClassification Report:\")\n",
        "    print(report)"
      ]
    },
    {
      "cell_type": "markdown",
      "metadata": {
        "id": "c0yjMM0QVEE1"
      },
      "source": [
        "# SVMs Applied to Satellite Data"
      ]
    },
    {
      "cell_type": "code",
      "execution_count": 24,
      "metadata": {
        "id": "nBAPJkRbV0Y9"
      },
      "outputs": [
        {
          "data": {
            "text/html": [
              "\n",
              "            <style>\n",
              "                .geemap-dark {\n",
              "                    --jp-widgets-color: white;\n",
              "                    --jp-widgets-label-color: white;\n",
              "                    --jp-ui-font-color1: white;\n",
              "                    --jp-layout-color2: #454545;\n",
              "                    background-color: #383838;\n",
              "                }\n",
              "\n",
              "                .geemap-dark .jupyter-button {\n",
              "                    --jp-layout-color3: #383838;\n",
              "                }\n",
              "\n",
              "                .geemap-colab {\n",
              "                    background-color: var(--colab-primary-surface-color, white);\n",
              "                }\n",
              "\n",
              "                .geemap-colab .jupyter-button {\n",
              "                    --jp-layout-color3: var(--colab-primary-surface-color, white);\n",
              "                }\n",
              "            </style>\n",
              "            "
            ],
            "text/plain": [
              "<IPython.core.display.HTML object>"
            ]
          },
          "metadata": {},
          "output_type": "display_data"
        },
        {
          "name": "stdout",
          "output_type": "stream",
          "text": [
            "Confusion Matrix:\n",
            "            Pred 10  Pred 20  Pred 30  Pred 40  Pred 50  Pred 60  Pred 70  \\\n",
            "Actual 10      2320        0      383        0       40        0        0   \n",
            "Actual 20        24        0       38        0        0        0        0   \n",
            "Actual 30       292        0     1223        0       50        1        0   \n",
            "Actual 40         0        0        3        0        0        0        0   \n",
            "Actual 50       100        0       40        0      378        1        0   \n",
            "Actual 60         1        0        2        0       44        0        0   \n",
            "Actual 70         0        0        0        0        0        0        0   \n",
            "Actual 80         1        0        4        0       26        0        0   \n",
            "Actual 90         4        0        6        0        1        0        0   \n",
            "Actual 100        0        0        0        0        0        0        0   \n",
            "\n",
            "            Pred 80  Pred 90  Pred 100  \n",
            "Actual 10         4        1         0  \n",
            "Actual 20         0        0         0  \n",
            "Actual 30         3        0         0  \n",
            "Actual 40         0        0         0  \n",
            "Actual 50        10        0         0  \n",
            "Actual 60         2        0         0  \n",
            "Actual 70         0        0         0  \n",
            "Actual 80      4996        0         0  \n",
            "Actual 90         1        0         0  \n",
            "Actual 100        0        0         0  \n",
            "\n",
            "Classification Report:\n",
            "              precision    recall  f1-score   support\n",
            "\n",
            "          10       0.85      0.84      0.85      2748\n",
            "          20       0.00      0.00      0.00        62\n",
            "          30       0.72      0.78      0.75      1569\n",
            "          40       0.00      0.00      0.00         3\n",
            "          50       0.70      0.71      0.71       529\n",
            "          60       0.00      0.00      0.00        49\n",
            "          70       0.00      0.00      0.00         0\n",
            "          80       1.00      0.99      0.99      5027\n",
            "          90       0.00      0.00      0.00        12\n",
            "         100       0.00      0.00      0.00         0\n",
            "\n",
            "    accuracy                           0.89      9999\n",
            "   macro avg       0.33      0.33      0.33      9999\n",
            "weighted avg       0.88      0.89      0.89      9999\n",
            "\n"
          ]
        }
      ],
      "source": [
        "# Define and train the SVM classifier\n",
        "class_property = 'Map_remapped'\n",
        "svm = ee.Classifier.libsvm(kernelType='RBF', gamma=0.5, cost=10).train(\n",
        "    features=train,\n",
        "    classProperty=class_property,\n",
        "    inputProperties=bands\n",
        ")\n",
        "\n",
        "# Classify validation and test sets\n",
        "val_classified = valid.classify(svm)\n",
        "test_classified = test.classify(svm)\n",
        "\n",
        "# Evaluate test performance\n",
        "test_matrix = test_classified.errorMatrix(class_property, 'classification')\n",
        "print(\"Confusion Matrix:\")\n",
        "print(pd.DataFrame(cm, index=[f\"Actual {l}\" for l in label_names],\n",
        "                       columns=[f\"Pred {l}\" for l in label_names]))\n",
        "print(\"\\nClassification Report:\")\n",
        "print(report)"
      ]
    },
    {
      "cell_type": "markdown",
      "metadata": {
        "id": "MnE3-ryXw891"
      },
      "source": [
        "(6) Exercise: using an SVM model and the Landcare NZ 2024 landcover database, produce a landcover map of Great Barrier (Aotea) Island for 2025 (based off the Austral summer of 24/25).\n",
        "\n",
        "Your map should be presented at a publication quality level with all the usual map components (scale, legend, north arrow, data attribution).\n",
        "\n",
        "You will need to provide performance statistics of the model within your figure.\n",
        "\n",
        "*   Here you can access the landcover database: https://lris.scinfo.org.nz/layer/104400-lcdb-v50-land-cover-database-version-50-mainland-new-zealand/. You will need to explore for yourself how to extract this data and then upload it to colab, then how to plug it into the SVM algorithim. I have provided some starter code below.\n",
        "\n",
        "An intial workflow to get the data into the state you need it in to then use it as training data might look like:\n",
        "- Download the ZIP manually from their browser, having set your area of interest and used the 'Export' tool top right.\n",
        "- Upload it to Colab.\n",
        "- Unzip it and load with GeoPandas.\n",
        "(25 pts)\n",
        "\n"
      ]
    },
    {
      "cell_type": "code",
      "execution_count": 25,
      "metadata": {
        "id": "GJnG3aWQ0J90"
      },
      "outputs": [
        {
          "data": {
            "text/html": [
              "\n",
              "            <style>\n",
              "                .geemap-dark {\n",
              "                    --jp-widgets-color: white;\n",
              "                    --jp-widgets-label-color: white;\n",
              "                    --jp-ui-font-color1: white;\n",
              "                    --jp-layout-color2: #454545;\n",
              "                    background-color: #383838;\n",
              "                }\n",
              "\n",
              "                .geemap-dark .jupyter-button {\n",
              "                    --jp-layout-color3: #383838;\n",
              "                }\n",
              "\n",
              "                .geemap-colab {\n",
              "                    background-color: var(--colab-primary-surface-color, white);\n",
              "                }\n",
              "\n",
              "                .geemap-colab .jupyter-button {\n",
              "                    --jp-layout-color3: var(--colab-primary-surface-color, white);\n",
              "                }\n",
              "            </style>\n",
              "            "
            ],
            "text/plain": [
              "<IPython.core.display.HTML object>"
            ]
          },
          "metadata": {},
          "output_type": "display_data"
        },
        {
          "name": "stdout",
          "output_type": "stream",
          "text": [
            "           Name_2018          Name_2012          Name_2008          Name_2001  \\\n",
            "0  Indigenous Forest  Indigenous Forest  Indigenous Forest  Indigenous Forest   \n",
            "1     Sand or Gravel     Sand or Gravel     Sand or Gravel     Sand or Gravel   \n",
            "2  Indigenous Forest  Indigenous Forest  Indigenous Forest  Indigenous Forest   \n",
            "3     Sand or Gravel     Sand or Gravel     Sand or Gravel     Sand or Gravel   \n",
            "4  Indigenous Forest  Indigenous Forest  Indigenous Forest  Indigenous Forest   \n",
            "\n",
            "           Name_1996  Class_2018  Class_2012  Class_2008  Class_2001  \\\n",
            "0  Indigenous Forest          69          69          69          69   \n",
            "1     Sand or Gravel          10          10          10          10   \n",
            "2  Indigenous Forest          69          69          69          69   \n",
            "3     Sand or Gravel          10          10          10          10   \n",
            "4  Indigenous Forest          69          69          69          69   \n",
            "\n",
            "   Class_1996  ... Wetland_96 Onshore_18 Onshore_12 Onshore_08 Onshore_01  \\\n",
            "0          69  ...         no        yes        yes        yes        yes   \n",
            "1          10  ...         no        yes        yes        yes        yes   \n",
            "2          69  ...         no        yes        yes        yes        yes   \n",
            "3          10  ...         no        yes        yes        yes        yes   \n",
            "4          69  ...         no        yes        yes        yes        yes   \n",
            "\n",
            "  Onshore_96 EditAuthor   EditDate        LCDB_UID  \\\n",
            "0        yes  Terralink 2004-06-30  lcdb1000168553   \n",
            "1        yes  Terralink 2004-06-30  lcdb1000009545   \n",
            "2        yes  Terralink 2004-06-30  lcdb1000168544   \n",
            "3        yes  Terralink 2004-06-30  lcdb1000009547   \n",
            "4        yes  Terralink 2004-06-30  lcdb1000168423   \n",
            "\n",
            "                                            geometry  \n",
            "0  POLYGON ((1820024.501 6001139.3, 1820024.88 60...  \n",
            "1  POLYGON ((1820044.213 6001276.335, 1820054.749...  \n",
            "2  POLYGON ((1818865.334 6000862.483, 1818892.667...  \n",
            "3  POLYGON ((1818859.62 6001650.91, 1818879.751 6...  \n",
            "4  POLYGON ((1819208.841 5997374.363, 1819193.973...  \n",
            "\n",
            "[5 rows x 24 columns]\n"
          ]
        }
      ],
      "source": [
        "# Code to get you started\n",
        "import zipfile\n",
        "import geopandas as gpd\n",
        "\n",
        "file_path = '../dataset/lris-lcdb-v50-land-cover-great-barrier-SHP/lcdb-v50-land-cover-database-version-50-mainland-new-zealand.shp'\n",
        "\n",
        "# # Upload the ZIP manually using the Colab UI\n",
        "# from google.colab import files\n",
        "# uploaded = files.upload()  # <- Expects a ZIP\n",
        "\n",
        "# # Unzip\n",
        "# with zipfile.ZipFile(\"LCDB_v5.zip\", 'r') as zip_ref: #<- Check file names\n",
        "#     zip_ref.extractall(\"lcdb\")\n",
        "\n",
        "# Read shapefile\n",
        "gdf = gpd.read_file(file_path)\n",
        "print(gdf.head())\n"
      ]
    },
    {
      "cell_type": "code",
      "execution_count": 26,
      "metadata": {},
      "outputs": [
        {
          "data": {
            "text/html": [
              "\n",
              "            <style>\n",
              "                .geemap-dark {\n",
              "                    --jp-widgets-color: white;\n",
              "                    --jp-widgets-label-color: white;\n",
              "                    --jp-ui-font-color1: white;\n",
              "                    --jp-layout-color2: #454545;\n",
              "                    background-color: #383838;\n",
              "                }\n",
              "\n",
              "                .geemap-dark .jupyter-button {\n",
              "                    --jp-layout-color3: #383838;\n",
              "                }\n",
              "\n",
              "                .geemap-colab {\n",
              "                    background-color: var(--colab-primary-surface-color, white);\n",
              "                }\n",
              "\n",
              "                .geemap-colab .jupyter-button {\n",
              "                    --jp-layout-color3: var(--colab-primary-surface-color, white);\n",
              "                }\n",
              "            </style>\n",
              "            "
            ],
            "text/plain": [
              "<IPython.core.display.HTML object>"
            ]
          },
          "metadata": {},
          "output_type": "display_data"
        },
        {
          "data": {
            "text/plain": [
              "605"
            ]
          },
          "execution_count": 26,
          "metadata": {},
          "output_type": "execute_result"
        }
      ],
      "source": [
        "len(gdf)"
      ]
    }
  ],
  "metadata": {
    "colab": {
      "provenance": []
    },
    "kernelspec": {
      "display_name": "geo",
      "language": "python",
      "name": "python3"
    },
    "language_info": {
      "codemirror_mode": {
        "name": "ipython",
        "version": 3
      },
      "file_extension": ".py",
      "mimetype": "text/x-python",
      "name": "python",
      "nbconvert_exporter": "python",
      "pygments_lexer": "ipython3",
      "version": "3.13.5"
    }
  },
  "nbformat": 4,
  "nbformat_minor": 0
}
