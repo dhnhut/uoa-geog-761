{
  "cells": [
    {
      "cell_type": "markdown",
      "metadata": {
        "id": "AbZaU_XVH7Zc"
      },
      "source": [
        "# Introduction\n",
        "Welcome to Lab 2, in this lab we will take our first steps into applying ML to satellite data, using landcover analysis as our primary goal.\n",
        "\n",
        "As covered in Lecture 2, landcover classification is the quintessential remote sensing task in the civil sector. The LandSat programme was originally developed in large part to enable the USA to monitor landcover more easily for a range of agricultral, govermental and finacial problemsets. It remains a primary task for governments and companies around the world.\n",
        "\n",
        "This is a pixel-wise ML task. We will apply two methods, both of which are available in GEE as ready-to-go algorithms. In this instance we are happy to go with built-in as it allows us to become familiar with an end-to-end GEE ML workflow without getting bogged down in technical detail. No need to re-invent the wheel unless you are going to the [moon](https://www.nasa.gov/feature/ames/artemis-moon-rover-s-wheels-are-ready-to-roll/).\n",
        "\n",
        "Remember that this is a set of exercises and tutorials that escalate in difficulty. Always show your working and do not neccesarily expect to get full marks on everything.\n",
        "\n",
        "Use the resources available to you outside of this material. I expect you to search for concepts or terms you do not understand and to look at the documentation of the code packages that we are using in the first instance of getting stuck.\n",
        "_______________________________________________________________________________"
      ]
    },
    {
      "cell_type": "markdown",
      "metadata": {
        "id": "7LjIQAw2OM6N"
      },
      "source": [
        "# Set up"
      ]
    },
    {
      "cell_type": "code",
      "execution_count": 1,
      "metadata": {
        "id": "VJI6OPweHOLP"
      },
      "outputs": [],
      "source": [
        "# # Install libs if needed, note the --quiet option means a lot less annoying info than as Lab 1 when we did the same!\n",
        "# !pip install geemap --quiet"
      ]
    },
    {
      "cell_type": "code",
      "execution_count": null,
      "metadata": {
        "id": "oTVEkaWvOjHL"
      },
      "outputs": [
        {
          "ename": "EEException",
          "evalue": "Caller does not have required permission to use project earthengine-ml-testing. Grant the caller the roles/serviceusage.serviceUsageConsumer role, or a custom role with the serviceusage.services.use permission, by visiting https://console.developers.google.com/iam-admin/iam/project?project=earthengine-ml-testing and then retry. Propagation of the new permission may take a few minutes.",
          "output_type": "error",
          "traceback": [
            "\u001b[31m---------------------------------------------------------------------------\u001b[39m",
            "\u001b[31mHttpError\u001b[39m                                 Traceback (most recent call last)",
            "\u001b[36mFile \u001b[39m\u001b[32m/opt/homebrew/Caskroom/miniconda/base/envs/geo/lib/python3.13/site-packages/ee/data.py:409\u001b[39m, in \u001b[36m_execute_cloud_call\u001b[39m\u001b[34m(call, num_retries)\u001b[39m\n\u001b[32m    408\u001b[39m \u001b[38;5;28;01mtry\u001b[39;00m:\n\u001b[32m--> \u001b[39m\u001b[32m409\u001b[39m   \u001b[38;5;28;01mreturn\u001b[39;00m \u001b[43mcall\u001b[49m\u001b[43m.\u001b[49m\u001b[43mexecute\u001b[49m\u001b[43m(\u001b[49m\u001b[43mnum_retries\u001b[49m\u001b[43m=\u001b[49m\u001b[43mnum_retries\u001b[49m\u001b[43m)\u001b[49m\n\u001b[32m    410\u001b[39m \u001b[38;5;28;01mexcept\u001b[39;00m googleapiclient.errors.HttpError \u001b[38;5;28;01mas\u001b[39;00m e:\n",
            "\u001b[36mFile \u001b[39m\u001b[32m/opt/homebrew/Caskroom/miniconda/base/envs/geo/lib/python3.13/site-packages/googleapiclient/_helpers.py:130\u001b[39m, in \u001b[36mpositional.<locals>.positional_decorator.<locals>.positional_wrapper\u001b[39m\u001b[34m(*args, **kwargs)\u001b[39m\n\u001b[32m    129\u001b[39m         logger.warning(message)\n\u001b[32m--> \u001b[39m\u001b[32m130\u001b[39m \u001b[38;5;28;01mreturn\u001b[39;00m \u001b[43mwrapped\u001b[49m\u001b[43m(\u001b[49m\u001b[43m*\u001b[49m\u001b[43margs\u001b[49m\u001b[43m,\u001b[49m\u001b[43m \u001b[49m\u001b[43m*\u001b[49m\u001b[43m*\u001b[49m\u001b[43mkwargs\u001b[49m\u001b[43m)\u001b[49m\n",
            "\u001b[36mFile \u001b[39m\u001b[32m/opt/homebrew/Caskroom/miniconda/base/envs/geo/lib/python3.13/site-packages/googleapiclient/http.py:938\u001b[39m, in \u001b[36mHttpRequest.execute\u001b[39m\u001b[34m(self, http, num_retries)\u001b[39m\n\u001b[32m    937\u001b[39m \u001b[38;5;28;01mif\u001b[39;00m resp.status >= \u001b[32m300\u001b[39m:\n\u001b[32m--> \u001b[39m\u001b[32m938\u001b[39m     \u001b[38;5;28;01mraise\u001b[39;00m HttpError(resp, content, uri=\u001b[38;5;28mself\u001b[39m.uri)\n\u001b[32m    939\u001b[39m \u001b[38;5;28;01mreturn\u001b[39;00m \u001b[38;5;28mself\u001b[39m.postproc(resp, content)\n",
            "\u001b[31mHttpError\u001b[39m: <HttpError 403 when requesting https://earthengine.googleapis.com/v1/projects/earthengine-ml-testing/algorithms?prettyPrint=false&alt=json returned \"Caller does not have required permission to use project earthengine-ml-testing. Grant the caller the roles/serviceusage.serviceUsageConsumer role, or a custom role with the serviceusage.services.use permission, by visiting https://console.developers.google.com/iam-admin/iam/project?project=earthengine-ml-testing and then retry. Propagation of the new permission may take a few minutes.\". Details: \"[{'@type': 'type.googleapis.com/google.rpc.ErrorInfo', 'reason': 'USER_PROJECT_DENIED', 'domain': 'googleapis.com', 'metadata': {'containerInfo': 'earthengine-ml-testing', 'service': 'earthengine.googleapis.com', 'consumer': 'projects/earthengine-ml-testing'}}, {'@type': 'type.googleapis.com/google.rpc.LocalizedMessage', 'locale': 'en-US', 'message': 'Caller does not have required permission to use project earthengine-ml-testing. Grant the caller the roles/serviceusage.serviceUsageConsumer role, or a custom role with the serviceusage.services.use permission, by visiting https://console.developers.google.com/iam-admin/iam/project?project=earthengine-ml-testing and then retry. Propagation of the new permission may take a few minutes.'}, {'@type': 'type.googleapis.com/google.rpc.Help', 'links': [{'description': 'Google developer console IAM admin', 'url': 'https://console.developers.google.com/iam-admin/iam/project?project=earthengine-ml-testing'}]}]\">",
            "\nDuring handling of the above exception, another exception occurred:\n",
            "\u001b[31mEEException\u001b[39m                               Traceback (most recent call last)",
            "\u001b[36mCell\u001b[39m\u001b[36m \u001b[39m\u001b[32mIn[2]\u001b[39m\u001b[32m, line 4\u001b[39m\n\u001b[32m      2\u001b[39m \u001b[38;5;28;01mimport\u001b[39;00m\u001b[38;5;250m \u001b[39m\u001b[34;01mee\u001b[39;00m\n\u001b[32m      3\u001b[39m ee.Authenticate()\n\u001b[32m----> \u001b[39m\u001b[32m4\u001b[39m \u001b[43mee\u001b[49m\u001b[43m.\u001b[49m\u001b[43mInitialize\u001b[49m\u001b[43m(\u001b[49m\u001b[43mproject\u001b[49m\u001b[43m=\u001b[49m\u001b[33;43m'\u001b[39;49m\u001b[33;43mearthengine-ml-testing\u001b[39;49m\u001b[33;43m'\u001b[39;49m\u001b[43m)\u001b[49m \u001b[38;5;66;03m#<- Remember to change this to your own project's name!\u001b[39;00m\n",
            "\u001b[36mFile \u001b[39m\u001b[32m/opt/homebrew/Caskroom/miniconda/base/envs/geo/lib/python3.13/site-packages/ee/_utils.py:38\u001b[39m, in \u001b[36maccept_opt_prefix.<locals>.opt_fixed.<locals>.wrapper\u001b[39m\u001b[34m(*args, **kwargs)\u001b[39m\n\u001b[32m     36\u001b[39m     \u001b[38;5;28;01mif\u001b[39;00m new_key \u001b[38;5;129;01mnot\u001b[39;00m \u001b[38;5;129;01min\u001b[39;00m kwargs:\n\u001b[32m     37\u001b[39m       kwargs[new_key] = old_key_val\n\u001b[32m---> \u001b[39m\u001b[32m38\u001b[39m \u001b[38;5;28;01mreturn\u001b[39;00m \u001b[43mfunc\u001b[49m\u001b[43m(\u001b[49m\u001b[43m*\u001b[49m\u001b[43margs\u001b[49m\u001b[43m,\u001b[49m\u001b[43m \u001b[49m\u001b[43m*\u001b[49m\u001b[43m*\u001b[49m\u001b[43mkwargs\u001b[49m\u001b[43m)\u001b[49m\n",
            "\u001b[36mFile \u001b[39m\u001b[32m/opt/homebrew/Caskroom/miniconda/base/envs/geo/lib/python3.13/site-packages/ee/__init__.py:233\u001b[39m, in \u001b[36mInitialize\u001b[39m\u001b[34m(credentials, url, cloud_api_key, http_transport, project)\u001b[39m\n\u001b[32m    227\u001b[39m   \u001b[38;5;28;01mif\u001b[39;00m (\n\u001b[32m    228\u001b[39m       (adc_err \u001b[38;5;129;01min\u001b[39;00m \u001b[38;5;28mstr\u001b[39m(e))\n\u001b[32m    229\u001b[39m       \u001b[38;5;129;01mor\u001b[39;00m (matches \u001b[38;5;129;01mand\u001b[39;00m oauth.is_sdk_project(matches[\u001b[32m1\u001b[39m]))\n\u001b[32m    230\u001b[39m       \u001b[38;5;129;01mor\u001b[39;00m (oauth_project_err \u001b[38;5;129;01min\u001b[39;00m \u001b[38;5;28mstr\u001b[39m(e))\n\u001b[32m    231\u001b[39m   ):\n\u001b[32m    232\u001b[39m     \u001b[38;5;28;01mraise\u001b[39;00m EEException(NO_PROJECT_EXCEPTION) \u001b[38;5;28;01mfrom\u001b[39;00m\u001b[38;5;250m \u001b[39m\u001b[38;5;28;01mNone\u001b[39;00m\n\u001b[32m--> \u001b[39m\u001b[32m233\u001b[39m   \u001b[38;5;28;01mraise\u001b[39;00m e\n\u001b[32m    235\u001b[39m \u001b[38;5;28;01mfor\u001b[39;00m dynamic_class \u001b[38;5;129;01min\u001b[39;00m _DYNAMIC_CLASSES:\n\u001b[32m    236\u001b[39m   dynamic_class.initialize()\n",
            "\u001b[36mFile \u001b[39m\u001b[32m/opt/homebrew/Caskroom/miniconda/base/envs/geo/lib/python3.13/site-packages/ee/__init__.py:215\u001b[39m, in \u001b[36mInitialize\u001b[39m\u001b[34m(credentials, url, cloud_api_key, http_transport, project)\u001b[39m\n\u001b[32m    213\u001b[39m \u001b[38;5;66;03m# Initialize the dynamically loaded functions on the objects that want them.\u001b[39;00m\n\u001b[32m    214\u001b[39m \u001b[38;5;28;01mtry\u001b[39;00m:\n\u001b[32m--> \u001b[39m\u001b[32m215\u001b[39m   \u001b[43mApiFunction\u001b[49m\u001b[43m.\u001b[49m\u001b[43minitialize\u001b[49m\u001b[43m(\u001b[49m\u001b[43m)\u001b[49m\n\u001b[32m    216\u001b[39m \u001b[38;5;28;01mexcept\u001b[39;00m EEException \u001b[38;5;28;01mas\u001b[39;00m e:\n\u001b[32m    217\u001b[39m   \u001b[38;5;66;03m# We tried to detect missing projects before initialization, but some cases\u001b[39;00m\n\u001b[32m    218\u001b[39m   \u001b[38;5;66;03m# like Colab hide the project, so check errors from missing projects too.\u001b[39;00m\n\u001b[32m    219\u001b[39m   adc_err = \u001b[33m'\u001b[39m\u001b[33mauthenticating by using local Application Default Credentials\u001b[39m\u001b[33m'\u001b[39m\n",
            "\u001b[36mFile \u001b[39m\u001b[32m/opt/homebrew/Caskroom/miniconda/base/envs/geo/lib/python3.13/site-packages/ee/apifunction.py:163\u001b[39m, in \u001b[36mApiFunction.initialize\u001b[39m\u001b[34m(cls)\u001b[39m\n\u001b[32m    161\u001b[39m \u001b[38;5;250m\u001b[39m\u001b[33;03m\"\"\"Initializes the list of signatures from the Earth Engine front-end.\"\"\"\u001b[39;00m\n\u001b[32m    162\u001b[39m \u001b[38;5;28;01mif\u001b[39;00m \u001b[38;5;129;01mnot\u001b[39;00m \u001b[38;5;28mcls\u001b[39m._api:\n\u001b[32m--> \u001b[39m\u001b[32m163\u001b[39m   signatures = \u001b[43mdata\u001b[49m\u001b[43m.\u001b[49m\u001b[43mgetAlgorithms\u001b[49m\u001b[43m(\u001b[49m\u001b[43m)\u001b[49m\n\u001b[32m    164\u001b[39m   api = {}\n\u001b[32m    165\u001b[39m   \u001b[38;5;28;01mfor\u001b[39;00m name, sig \u001b[38;5;129;01min\u001b[39;00m signatures.items():\n\u001b[32m    166\u001b[39m     \u001b[38;5;66;03m# Strip type parameters.\u001b[39;00m\n",
            "\u001b[36mFile \u001b[39m\u001b[32m/opt/homebrew/Caskroom/miniconda/base/envs/geo/lib/python3.13/site-packages/ee/data.py:1502\u001b[39m, in \u001b[36mgetAlgorithms\u001b[39m\u001b[34m()\u001b[39m\n\u001b[32m   1497\u001b[39m     \u001b[38;5;28mprint\u001b[39m(\n\u001b[32m   1498\u001b[39m         \u001b[33m'\u001b[39m\u001b[33m*** Earth Engine ***\u001b[39m\u001b[33m'\u001b[39m,\n\u001b[32m   1499\u001b[39m         response[_INIT_MESSAGE_HEADER],\n\u001b[32m   1500\u001b[39m         file=sys.stderr)\n\u001b[32m   1501\u001b[39m call.add_response_callback(inspect)\n\u001b[32m-> \u001b[39m\u001b[32m1502\u001b[39m \u001b[38;5;28;01mreturn\u001b[39;00m _cloud_api_utils.convert_algorithms(\u001b[43m_execute_cloud_call\u001b[49m\u001b[43m(\u001b[49m\u001b[43mcall\u001b[49m\u001b[43m)\u001b[49m)\n",
            "\u001b[36mFile \u001b[39m\u001b[32m/opt/homebrew/Caskroom/miniconda/base/envs/geo/lib/python3.13/site-packages/ee/data.py:411\u001b[39m, in \u001b[36m_execute_cloud_call\u001b[39m\u001b[34m(call, num_retries)\u001b[39m\n\u001b[32m    409\u001b[39m   \u001b[38;5;28;01mreturn\u001b[39;00m call.execute(num_retries=num_retries)\n\u001b[32m    410\u001b[39m \u001b[38;5;28;01mexcept\u001b[39;00m googleapiclient.errors.HttpError \u001b[38;5;28;01mas\u001b[39;00m e:\n\u001b[32m--> \u001b[39m\u001b[32m411\u001b[39m   \u001b[38;5;28;01mraise\u001b[39;00m _translate_cloud_exception(e)\n",
            "\u001b[31mEEException\u001b[39m: Caller does not have required permission to use project earthengine-ml-testing. Grant the caller the roles/serviceusage.serviceUsageConsumer role, or a custom role with the serviceusage.services.use permission, by visiting https://console.developers.google.com/iam-admin/iam/project?project=earthengine-ml-testing and then retry. Propagation of the new permission may take a few minutes."
          ]
        }
      ],
      "source": [
        "# Set up GEE API\n",
        "import ee\n",
        "ee.Authenticate()\n",
        "ee.Initialize(project='earthengine-ml-testing') #<- Remember to change this to your own project's name!"
      ]
    },
    {
      "cell_type": "code",
      "execution_count": null,
      "metadata": {
        "id": "YIR6jwwAOs_v"
      },
      "outputs": [],
      "source": [
        "# Import other libs\n",
        "import geemap\n",
        "import geopandas as gpd\n",
        "import pandas as pd"
      ]
    },
    {
      "cell_type": "markdown",
      "metadata": {
        "id": "OxOt8gypOypv"
      },
      "source": [
        "# Define Area of Interest (AOI)"
      ]
    },
    {
      "cell_type": "code",
      "execution_count": null,
      "metadata": {
        "id": "609ruafINvXo"
      },
      "outputs": [],
      "source": [
        "# Define area of interest (e.g., Wellington, NZ)\n",
        "aoi = ee.Geometry.Rectangle([174.6, -41.4, 174.9, -41.2])\n",
        "Map = geemap.Map(center=[-41.3, 174.75], zoom=10)\n",
        "Map.addLayer(aoi, {}, 'AOI')\n",
        "\n",
        "# Visualize on the map to check got it right... (always a good idea)\n",
        "Map"
      ]
    },
    {
      "cell_type": "markdown",
      "metadata": {
        "id": "HEV99nmEPUbQ"
      },
      "source": [
        "# Load and Cloud Mask Imagery from Earth Engine"
      ]
    },
    {
      "cell_type": "code",
      "execution_count": null,
      "metadata": {
        "id": "mkYl36KRNyRd"
      },
      "outputs": [],
      "source": [
        "# Set up your filter Sentinel-2 imagery\n",
        "# A function that masks clouds in your S2 images via QA band\n",
        "def mask_s2_clouds(image):\n",
        "    qa = image.select('QA60')\n",
        "    cloudBitMask = 1 << 10\n",
        "    cirrusBitMask = 1 << 11\n",
        "    mask = qa.bitwiseAnd(cloudBitMask).eq(0).And(\n",
        "           qa.bitwiseAnd(cirrusBitMask).eq(0))\n",
        "    return image.updateMask(mask).divide(10000).select(['B2', 'B3', 'B4', 'B8'])\n",
        "\n",
        "# Now build the clean collection with selected bands\n",
        "s2 = (ee.ImageCollection('COPERNICUS/S2_SR_HARMONIZED')\n",
        "      .filterBounds(aoi)\n",
        "      .filterDate('2021-01-01', '2021-12-31')\n",
        "      .filter(ee.Filter.lt('CLOUDY_PIXEL_PERCENTAGE', 10))\n",
        "      .map(mask_s2_clouds)\n",
        "      .median() #<- think about this step and what it is doing to your image when you build your single composite from the image collection\n",
        "      .clip(aoi))"
      ]
    },
    {
      "cell_type": "markdown",
      "metadata": {
        "id": "koEefrEza8t3"
      },
      "source": [
        "(1) What other mathematical [compositing](https://developers.google.com/earth-engine/guides/ic_composite_mosaic) approaches could you take when building your single image from the filtered image collection you create in the cell above? Hint: you currently are doing a 'median-composite'. (3 pts)"
      ]
    },
    {
      "cell_type": "code",
      "execution_count": null,
      "metadata": {
        "id": "UZ1hfnD3PZSX"
      },
      "outputs": [],
      "source": [
        "# Set up the visualisation and then once again check it has worked, stacking layers in a sensible order\n",
        "Map = geemap.Map(center=[-41.3, 174.75], zoom=11) #<- reset the map object to clear out other layers from earlier cells\n",
        "Map.addLayer(s2, {'bands': ['B4', 'B3', 'B2'], 'min': 0, 'max': 0.3}, 'S2 RGB')\n",
        "Map.addLayer(aoi, {'color': 'red'}, 'AOI')\n",
        "Map"
      ]
    },
    {
      "cell_type": "markdown",
      "metadata": {
        "id": "FEDOPqbwiPmp"
      },
      "source": [
        "________________________________________________________________________________"
      ]
    },
    {
      "cell_type": "markdown",
      "metadata": {
        "id": "eFV2IN6WVD-3"
      },
      "source": [
        "# Training data\n",
        "\n",
        "We are going to train our data using the European Space Agency (ESA) world landcover map. Given that this is derived from satellite data our logic is at risk of becoming a little circular here. But as a training exercise it is a good way to have easy to access training data of the right size and type to apply to our image.\n",
        "\n",
        "There are a wide range of landcover datasets in the GEE catalogue that you can use for this purpose:\n",
        "*   https://developers.google.com/earth-engine/datasets/tags/landuse-landcover\n",
        "\n",
        "First, we will load in the landcover map we will use to create our training dataset (https://developers.google.com/earth-engine/datasets/catalog/ESA_WorldCover_v100):\n",
        "\n"
      ]
    },
    {
      "cell_type": "markdown",
      "metadata": {
        "id": "PC49HraHWOih"
      },
      "source": [
        "Next we need to use our landcover map to [sample](https://developers.google.com/earth-engine/apidocs/ee-image-sample) the Sentinel 2 image, associating each pixel of a given landcover with the spectral band values 'beneath' it."
      ]
    },
    {
      "cell_type": "code",
      "execution_count": null,
      "metadata": {
        "id": "Qxq3kumyWG0U"
      },
      "outputs": [],
      "source": [
        "# Define valid WorldCover classes (10 to 100, spaced by 10)\n",
        "valid_classes = ee.List.sequence(10, 100, 10)\n",
        "\n",
        "# Need to change this to sequential list to avoid the algs thiniing there are 99 classes rather than 9\n",
        "remap_to = ee.List.sequence(1, 10)\n",
        "\n",
        "# Load landcover map\n",
        "landcover = ee.Image('ESA/WorldCover/v100/2020').select('Map').clip(aoi)\n",
        "\n",
        "# Remap labels: create a new band with remapped values (10 → 1, ..., 100 → 10)\n",
        "landcover_remapped = landcover.remap(valid_classes, remap_to).rename('Map_remapped')"
      ]
    },
    {
      "cell_type": "markdown",
      "metadata": {
        "id": "7v770SAWbsBg"
      },
      "source": [
        "(2) What year of data was this landcover map (accessed in the cell above) created on? (1 pt)"
      ]
    },
    {
      "cell_type": "code",
      "execution_count": null,
      "metadata": {
        "id": "5dulg_UTkpkR"
      },
      "outputs": [],
      "source": [
        "# Add landcover original and remapped as bands to Sentinel-2 image\n",
        "training_data = s2.addBands(landcover_remapped).addBands(landcover_remapped)"
      ]
    },
    {
      "cell_type": "markdown",
      "metadata": {
        "id": "n8vEEI8cYfAI"
      },
      "source": [
        "Let's inspect the resulting training dataset and make sure that you understand what you have built here.\n",
        "\n",
        "We are going to:\n",
        "- Print the first few rows (client-side).\n",
        "- Check the number of samples per class (server-side with reduceColumns).\n",
        "\n",
        "This may take a little time to run as we request data both client and server side."
      ]
    },
    {
      "cell_type": "code",
      "execution_count": null,
      "metadata": {
        "id": "9N4ONGxYX077"
      },
      "outputs": [],
      "source": [
        "# Sample the image\n",
        "bands = ['B2', 'B3', 'B4', 'B8']\n",
        "sample = training_data.select(bands + ['Map_remapped']).sample(\n",
        "    region=aoi,\n",
        "    scale=10,\n",
        "    numPixels=5000,\n",
        "    seed=2,\n",
        "    geometries=True)\n",
        "\n",
        "# Print first 10 sample points (client-side)\n",
        "first_10 = sample.limit(10).getInfo()\n",
        "\n",
        "print('\\nFirst 10 training samples:')\n",
        "for i, feature in enumerate(first_10['features']):\n",
        "    props = feature['properties']\n",
        "    print(f\"Sample {i+1}: Class={props['Map_remapped']}, B2={props['B2']}, B3={props['B3']}, B4={props['B4']}, B8={props['B8']}\")\n",
        "\n",
        "# Count number of samples per class (server-side)\n",
        "class_counts = sample.reduceColumns(\n",
        "    reducer=ee.Reducer.frequencyHistogram(),\n",
        "    selectors=['Map_remapped'])\n",
        "\n",
        "print('\\nClass distribution in sample:')\n",
        "print(class_counts.getInfo())\n"
      ]
    },
    {
      "cell_type": "markdown",
      "metadata": {
        "id": "B1gJiAKVcvIN"
      },
      "source": [
        "(3) What type of landcover is being sampled in sample number 2 of the dataset? Make sure your random seed is set to 2 in the sampling code so that you get the same answer as me. (1 pt)"
      ]
    },
    {
      "cell_type": "markdown",
      "metadata": {
        "id": "QiJOePZ3XKeI"
      },
      "source": [
        "We are now ready to start machine learning on classifying the landcover of Wellington!\n",
        "________________________________________________________________________________"
      ]
    },
    {
      "cell_type": "markdown",
      "metadata": {
        "id": "rartTYCVSQvv"
      },
      "source": [
        "# Random Forest Classification for Landcover\n",
        "Let us do machine learning properly and first apply a 70/20/10 split that allows us to produce some accuracy statistics."
      ]
    },
    {
      "cell_type": "code",
      "execution_count": null,
      "metadata": {
        "id": "okP_9BkwSZF_"
      },
      "outputs": [],
      "source": [
        "# Add random column\n",
        "sample = sample.randomColumn('random')\n",
        "\n",
        "# Split\n",
        "train = sample.filter(ee.Filter.lt('random', 0.7))\n",
        "valid = sample.filter(ee.Filter.And(ee.Filter.gte('random', 0.7), ee.Filter.lt('random', 0.9)))\n",
        "test = sample.filter(ee.Filter.gte('random', 0.9))"
      ]
    },
    {
      "cell_type": "markdown",
      "metadata": {
        "id": "GXatbmouXTcF"
      },
      "source": [
        "Our next task is to set up a classifier object, followed by applying it to the image using the .classify operator. This operator hides a LOT of behind the scenes plumbing from Google.\n",
        "\n",
        "We use the [GEE Random Forest](https://developers.google.com/earth-engine/apidocs/ee-classifier-smilerandomforest) model that they have pre-built for us. Specifying the number of trees to use is the only variable we must set. Othe variables are available, read the docs!"
      ]
    },
    {
      "cell_type": "code",
      "execution_count": null,
      "metadata": {
        "id": "xCL4Cw7ON30v"
      },
      "outputs": [],
      "source": [
        "# Train the RF model\n",
        "classifier = ee.Classifier.smileRandomForest(numberOfTrees=100).train(\n",
        "    features=train,\n",
        "    classProperty='Map_remapped',\n",
        "    inputProperties=bands)"
      ]
    },
    {
      "cell_type": "markdown",
      "metadata": {
        "id": "foNf7Wg6Zx0k"
      },
      "source": [
        "With the model trained, we just apply it simply using the '.classify' operator."
      ]
    },
    {
      "cell_type": "code",
      "execution_count": null,
      "metadata": {
        "id": "Xcb1MkUiZuhU"
      },
      "outputs": [],
      "source": [
        "# Classify image\n",
        "classified = s2.select(bands).classify(classifier)"
      ]
    },
    {
      "cell_type": "markdown",
      "metadata": {
        "id": "68RI1Y8dSr7s"
      },
      "source": [
        "Let's visualize what we have just made!"
      ]
    },
    {
      "cell_type": "code",
      "execution_count": null,
      "metadata": {
        "id": "3MrnPtEMStuT"
      },
      "outputs": [],
      "source": [
        "# Classified image viz, fresh set up again to make sure we have exactly what we want displayed.\n",
        "Map = geemap.Map()\n",
        "Map.centerObject(aoi, 10)\n",
        "Map.addLayer(classified.randomVisualizer(), {}, 'Classified')\n",
        "Map.addLayer(landcover_remapped.randomVisualizer(), {} ,'ESA Landcover')\n",
        "Map"
      ]
    },
    {
      "cell_type": "markdown",
      "metadata": {
        "id": "iPXMRuwAdjT0"
      },
      "source": [
        "(4) Look at the ESA landcover map and our resulting random forest classified Sentinel 2 image map. How are they different and what might be some causes of this difference? (5 pts)"
      ]
    },
    {
      "cell_type": "markdown",
      "metadata": {
        "id": "2m1V4yX2UKrz"
      },
      "source": [
        "Finally, we will apply our test data split and produce the [summary statistics](https://developers.google.com/machine-learning/crash-course/classification/accuracy-precision-recall) that we need to make smart choices about our training approach."
      ]
    },
    {
      "cell_type": "code",
      "execution_count": null,
      "metadata": {
        "id": "Zsjs-kDeeRMz"
      },
      "outputs": [],
      "source": [
        "from sklearn.metrics import confusion_matrix, classification_report\n",
        "import pandas as pd\n",
        "\n",
        "\n",
        "# Validate\n",
        "validated = valid.classify(classifier, 'predicted')\n",
        "\n",
        "# Function to export data for confusion matrix\n",
        "def fc_to_lists(fc, classProp, predProp):\n",
        "    values = fc.aggregate_array(classProp).getInfo()\n",
        "    preds = fc.aggregate_array(predProp).getInfo()\n",
        "    return values, preds\n",
        "\n",
        "# Get predicted vs actual from validation set\n",
        "y_true, y_pred = fc_to_lists(validated, 'Map_remapped', 'predicted')\n",
        "\n",
        "# Labels for original classes\n",
        "label_map = {i + 1: valid_classes.get(i).getInfo() for i in range(10)}\n",
        "label_names = [label_map[i + 1] for i in range(10)]\n",
        "\n",
        "# Confusion matrix\n",
        "cm = confusion_matrix(y_true, y_pred, labels=list(range(1, 11)))\n",
        "report = classification_report(y_true, y_pred, labels=list(range(1, 11)), target_names=[str(l) for l in label_names])\n",
        "\n",
        "# Pretty-print\n",
        "print(\"Confusion Matrix:\")\n",
        "print(pd.DataFrame(cm, index=[f\"Actual {l}\" for l in label_names],\n",
        "                       columns=[f\"Pred {l}\" for l in label_names]))\n",
        "print(\"\\nClassification Report:\")\n",
        "print(report)"
      ]
    },
    {
      "cell_type": "markdown",
      "metadata": {
        "id": "bF4ehsu6eiOg"
      },
      "source": [
        "(5) Exercise: modify the code so that you feed into your random forest classifier that has been trained on 2020 data, on other years of Sentinel 2 data than 2020. Produce a publication quality figure that presents the following:\n",
        "*   Landcover maps of Wellington for 2018, 2022 and 2024\n",
        "*   The Test accuracy averages of the RF classifier for 2020.\n",
        "*   Include a sentence in your figure caption that explains why you cannot state the accuracy of the classifier for years other than 2020.\n",
        "\n",
        "(15 pts)\n",
        "_______________________________________________________________________________\n"
      ]
    },
    {
      "cell_type": "markdown",
      "metadata": {
        "id": "c0yjMM0QVEE1"
      },
      "source": [
        "# SVMs Applied to Satellite Data"
      ]
    },
    {
      "cell_type": "code",
      "execution_count": null,
      "metadata": {
        "id": "nBAPJkRbV0Y9"
      },
      "outputs": [],
      "source": [
        "# Define and train the SVM classifier\n",
        "class_property = 'Map_remapped'\n",
        "svm = ee.Classifier.libsvm(kernelType='RBF', gamma=0.5, cost=10).train(\n",
        "    features=train,\n",
        "    classProperty=class_property,\n",
        "    inputProperties=bands\n",
        ")\n",
        "\n",
        "# Classify validation and test sets\n",
        "val_classified = valid.classify(svm)\n",
        "test_classified = test.classify(svm)\n",
        "\n",
        "# Evaluate test performance\n",
        "test_matrix = test_classified.errorMatrix(class_property, 'classification')\n",
        "print(\"Confusion Matrix:\")\n",
        "print(pd.DataFrame(cm, index=[f\"Actual {l}\" for l in label_names],\n",
        "                       columns=[f\"Pred {l}\" for l in label_names]))\n",
        "print(\"\\nClassification Report:\")\n",
        "print(report)"
      ]
    },
    {
      "cell_type": "markdown",
      "metadata": {
        "id": "MnE3-ryXw891"
      },
      "source": [
        "(6) Exercise: using an SVM model and the Landcare NZ 2024 landcover database, produce a landcover map of Great Barrier (Aotea) Island for 2025 (based off the Austral summer of 24/25).\n",
        "\n",
        "Your map should be presented at a publication quality level with all the usual map components (scale, legend, north arrow, data attribution).\n",
        "\n",
        "You will need to provide performance statistics of the model within your figure.\n",
        "\n",
        "*   Here you can access the landcover database: https://lris.scinfo.org.nz/layer/104400-lcdb-v50-land-cover-database-version-50-mainland-new-zealand/. You will need to explore for yourself how to extract this data and then upload it to colab, then how to plug it into the SVM algorithim. I have provided some starter code below.\n",
        "\n",
        "An intial workflow to get the data into the state you need it in to then use it as training data might look like:\n",
        "- Download the ZIP manually from their browser, having set your area of interest and used the 'Export' tool top right.\n",
        "- Upload it to Colab.\n",
        "- Unzip it and load with GeoPandas.\n",
        "(25 pts)\n",
        "\n"
      ]
    },
    {
      "cell_type": "code",
      "execution_count": null,
      "metadata": {
        "id": "GJnG3aWQ0J90"
      },
      "outputs": [],
      "source": [
        "# Code to get you started\n",
        "import zipfile\n",
        "import geopandas as gpd\n",
        "\n",
        "# Upload the ZIP manually using the Colab UI\n",
        "from google.colab import files\n",
        "uploaded = files.upload()  # <- Expects a ZIP\n",
        "\n",
        "# Unzip\n",
        "with zipfile.ZipFile(\"LCDB_v5.zip\", 'r') as zip_ref: #<- Check file names\n",
        "    zip_ref.extractall(\"lcdb\")\n",
        "\n",
        "# Read shapefile\n",
        "gdf = gpd.read_file(\"lcdb/LCDB_v5.shp\") #<- Check file names\n",
        "print(gdf.head())\n"
      ]
    }
  ],
  "metadata": {
    "colab": {
      "provenance": []
    },
    "kernelspec": {
      "display_name": "geo",
      "language": "python",
      "name": "python3"
    },
    "language_info": {
      "codemirror_mode": {
        "name": "ipython",
        "version": 3
      },
      "file_extension": ".py",
      "mimetype": "text/x-python",
      "name": "python",
      "nbconvert_exporter": "python",
      "pygments_lexer": "ipython3",
      "version": "3.13.5"
    }
  },
  "nbformat": 4,
  "nbformat_minor": 0
}
