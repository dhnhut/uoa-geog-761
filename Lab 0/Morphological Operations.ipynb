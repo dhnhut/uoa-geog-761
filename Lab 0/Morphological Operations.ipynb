{
 "cells": [
  {
   "cell_type": "code",
   "execution_count": null,
   "id": "103ecad6",
   "metadata": {},
   "outputs": [],
   "source": [
    "import geemap\n",
    "import geopandas as gpd\n",
    "import pandas as pd\n",
    "import matplotlib.pyplot as plt\n",
    "import numpy as np\n",
    "import seaborn as sns\n",
    "from sklearn.cluster import KMeans\n",
    "\n",
    "if 'google.colab' in str(get_ipython()):\n",
    "    from google.colab import userdata\n",
    "    EE_PROJECT_ID = userdata.get('EE_PROJECT_ID') \n",
    "else:\n",
    "    from dotenv import load_dotenv\n",
    "    import os\n",
    "    load_dotenv()  # take environment variables\n",
    "    EE_PROJECT_ID = os.getenv('EE_PROJECT_ID')\n",
    "\n",
    "# Set up GEE API\n",
    "import ee\n",
    "ee.Authenticate()\n",
    "ee.Initialize(project=EE_PROJECT_ID) #<- Remember to change this to your own project's name!\n",
    "\n",
    "# A Sentinel-2 surface reflectance image.\n",
    "img = ee.Image('COPERNICUS/S2_SR/20210109T185751_20210109T185931_T10SEG')\n",
    "true_color_viz = {\n",
    "    'bands': ['B4', 'B3', 'B2'],\n",
    "    'min': 0,\n",
    "    'max': 2700,\n",
    "    'gamma': 1.3,\n",
    "}\n",
    "\n",
    "m = geemap.Map()\n",
    "m.set_center(-122.36, 37.47, 10)\n",
    "m.add_layer(img, true_color_viz, 'Sentinel-2 image')\n",
    "\n",
    "# # Create a Boolean land mask from the SWIR1 band water is value 0, land is 1.\n",
    "land_mask = img.select('B11').gt(100)\n",
    "# m.add_layer(land_mask, {'palette': ['blue', 'lightgreen']}, 'Land mask')\n",
    "\n",
    "# Mask the land mask by itself pixel values equal to 0 (water) become invalid.\n",
    "land_mask_masked = land_mask.selfMask()\n",
    "\n",
    "land_mask_interior = img.select('B11').gt(100)\n",
    "land_mask_interior_marked = land_mask_interior.focal_min(20).selfMask()\n",
    "# land_mask_clear_marked = land_mask_interior.focal_max(20).Not().selfMask()\n",
    "land_mask_clear_marked = land_mask_interior.focal_max(20).And(land_mask_interior.Not())\n",
    "\n",
    "\n",
    "m.add_layer(land_mask_interior_marked, {'palette': ['red']}, 'Land mask, interior')\n",
    "m.add_layer(land_mask_clear_marked, {'palette': ['green']}, 'Land mask, clear')\n",
    "m.add_layer(land_mask_masked, {'palette': ['gold']}, 'Land mask, masked')\n",
    "\n",
    "m"
   ]
  }
 ],
 "metadata": {
  "kernelspec": {
   "display_name": "geo",
   "language": "python",
   "name": "python3"
  },
  "language_info": {
   "codemirror_mode": {
    "name": "ipython",
    "version": 3
   },
   "file_extension": ".py",
   "mimetype": "text/x-python",
   "name": "python",
   "nbconvert_exporter": "python",
   "pygments_lexer": "ipython3",
   "version": "3.13.5"
  }
 },
 "nbformat": 4,
 "nbformat_minor": 5
}
