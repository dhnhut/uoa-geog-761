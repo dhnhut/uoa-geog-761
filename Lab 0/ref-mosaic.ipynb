{
 "cells": [
  {
   "cell_type": "markdown",
   "id": "b1c9b2dd",
   "metadata": {},
   "source": [
    "Learn GEE\n",
    "\n",
    "https://developers.google.com/earth-engine/guides/image_visualization"
   ]
  },
  {
   "cell_type": "code",
   "execution_count": 1,
   "id": "ded59e54",
   "metadata": {},
   "outputs": [],
   "source": [
    "if 'google.colab' in str(get_ipython()):\n",
    "    from google.colab import userdata\n",
    "    EE_PROJECT_ID = userdata.get('EE_PROJECT_ID') \n",
    "else:\n",
    "    from dotenv import load_dotenv\n",
    "    import os\n",
    "    load_dotenv()  # take environment variables\n",
    "    EE_PROJECT_ID = os.getenv('EE_PROJECT_ID')\n",
    "    \n",
    "# Set up GEE API\n",
    "import ee\n",
    "ee.Authenticate()\n",
    "ee.Initialize(project=EE_PROJECT_ID)\n",
    "\n",
    "# Import other libs\n",
    "import geemap\n"
   ]
  },
  {
   "cell_type": "markdown",
   "id": "7654b9cb",
   "metadata": {},
   "source": [
    "## Masking"
   ]
  },
  {
   "cell_type": "code",
   "execution_count": 3,
   "id": "7209238a",
   "metadata": {},
   "outputs": [
    {
     "data": {
      "text/html": [
       "\n",
       "            <style>\n",
       "                .geemap-dark {\n",
       "                    --jp-widgets-color: white;\n",
       "                    --jp-widgets-label-color: white;\n",
       "                    --jp-ui-font-color1: white;\n",
       "                    --jp-layout-color2: #454545;\n",
       "                    background-color: #383838;\n",
       "                }\n",
       "\n",
       "                .geemap-dark .jupyter-button {\n",
       "                    --jp-layout-color3: #383838;\n",
       "                }\n",
       "\n",
       "                .geemap-colab {\n",
       "                    background-color: var(--colab-primary-surface-color, white);\n",
       "                }\n",
       "\n",
       "                .geemap-colab .jupyter-button {\n",
       "                    --jp-layout-color3: var(--colab-primary-surface-color, white);\n",
       "                }\n",
       "            </style>\n",
       "            "
      ],
      "text/plain": [
       "<IPython.core.display.HTML object>"
      ]
     },
     "metadata": {},
     "output_type": "display_data"
    },
    {
     "data": {
      "application/vnd.jupyter.widget-view+json": {
       "model_id": "4418ee98d6cb4afa8bcc7209d70e6257",
       "version_major": 2,
       "version_minor": 0
      },
      "text/plain": [
       "Map(center=[37.448, -122.373], controls=(WidgetControl(options=['position', 'transparent_bg'], position='topri…"
      ]
     },
     "execution_count": 3,
     "metadata": {},
     "output_type": "execute_result"
    }
   ],
   "source": [
    "# Sentinel-2 image collection for July 2021 intersecting a point of interest.\n",
    "# Reflectance, cloud probability, and scene classification bands are selected.\n",
    "col = (\n",
    "    ee.ImageCollection('COPERNICUS/S2_SR_HARMONIZED')\n",
    "    .filterDate('2021-07-01', '2021-08-01')\n",
    "    .filterBounds(ee.Geometry.Point(-122.373, 37.448))\n",
    "    .select('B.*|MSK_CLDPRB|SCL')\n",
    ")\n",
    "\n",
    "# Visualization parameters for reflectance RGB.\n",
    "vis_refl = {'bands': ['B11', 'B8', 'B3'], 'min': 0, 'max': 4000}\n",
    "m = geemap.Map()\n",
    "m.set_center(-122.373, 37.448, 9)\n",
    "m.add_layer(col, vis_refl, 'Collection reference', False)\n",
    "\n",
    "# Reduce the collection to a single image using a variety of methods.\n",
    "mean = col.mean()\n",
    "m.add_layer(mean, vis_refl, 'Mean (B11, B8, B3)')\n",
    "\n",
    "median = col.median()\n",
    "m.add_layer(median, vis_refl, 'Median (B11, B8, B3)')\n",
    "\n",
    "min = col.min()\n",
    "m.add_layer(min, vis_refl, 'Min (B11, B8, B3)')\n",
    "\n",
    "max = col.max()\n",
    "m.add_layer(max, vis_refl, 'Max (B11, B8, B3)')\n",
    "\n",
    "sum = col.sum()\n",
    "m.add_layer(\n",
    "    sum, {'bands': ['MSK_CLDPRB'], 'min': 0, 'max': 500}, 'Sum (MSK_CLDPRB)'\n",
    ")\n",
    "\n",
    "product = col.product()\n",
    "m.add_layer(\n",
    "    product,\n",
    "    {'bands': ['MSK_CLDPRB'], 'min': 0, 'max': 1e10},\n",
    "    'Product (MSK_CLDPRB)',\n",
    ")\n",
    "\n",
    "# ee.ImageCollection.mode returns the most common value. If multiple mode\n",
    "# values occur, the minimum mode value is returned.\n",
    "mode = col.mode()\n",
    "m.add_layer(\n",
    "    mode, {'bands': ['SCL'], 'min': 1, 'max': 11}, 'Mode (pixel class)'\n",
    ")\n",
    "\n",
    "# ee.ImageCollection.count returns the frequency of valid observations. Here,\n",
    "# image pixels are masked based on cloud probability to add valid observation\n",
    "# variability to the collection. Note that pixels with no valid observations\n",
    "# are masked out of the returned image.\n",
    "not_cloud_col = col.map(\n",
    "    lambda img: img.updateMask(img.select('MSK_CLDPRB').lte(10))\n",
    ")\n",
    "count = not_cloud_col.count()\n",
    "m.add_layer(count, {'min': 1, 'max': 5}, 'Count (not cloud observations)')\n",
    "\n",
    "# ee.ImageCollection.mosaic composites images according to their position in\n",
    "# the collection (priority is last to first) and pixel mask status, where\n",
    "# invalid (mask value 0) pixels are filled by preceding valid (mask value >0)\n",
    "# pixels.\n",
    "mosaic = not_cloud_col.mosaic()\n",
    "m.add_layer(mosaic, vis_refl, 'Mosaic (B11, B8, B3)')\n",
    "m"
   ]
  },
  {
   "cell_type": "code",
   "execution_count": 6,
   "id": "311f6c18",
   "metadata": {},
   "outputs": [
    {
     "data": {
      "text/html": [
       "\n",
       "            <style>\n",
       "                .geemap-dark {\n",
       "                    --jp-widgets-color: white;\n",
       "                    --jp-widgets-label-color: white;\n",
       "                    --jp-ui-font-color1: white;\n",
       "                    --jp-layout-color2: #454545;\n",
       "                    background-color: #383838;\n",
       "                }\n",
       "\n",
       "                .geemap-dark .jupyter-button {\n",
       "                    --jp-layout-color3: #383838;\n",
       "                }\n",
       "\n",
       "                .geemap-colab {\n",
       "                    background-color: var(--colab-primary-surface-color, white);\n",
       "                }\n",
       "\n",
       "                .geemap-colab .jupyter-button {\n",
       "                    --jp-layout-color3: var(--colab-primary-surface-color, white);\n",
       "                }\n",
       "            </style>\n",
       "            "
      ],
      "text/plain": [
       "<IPython.core.display.HTML object>"
      ]
     },
     "metadata": {},
     "output_type": "display_data"
    },
    {
     "data": {
      "application/vnd.jupyter.widget-view+json": {
       "model_id": "23c2291d5745445fb0407b8f24064202",
       "version_major": 2,
       "version_minor": 0
      },
      "text/plain": [
       "Map(center=[42.3712, -71.12532], controls=(WidgetControl(options=['position', 'transparent_bg'], position='top…"
      ]
     },
     "execution_count": 6,
     "metadata": {},
     "output_type": "execute_result"
    }
   ],
   "source": [
    "# Load three NAIP quarter quads in the same location, different times.\n",
    "naip_2004_2012 = (\n",
    "    ee.ImageCollection('USDA/NAIP/DOQQ')\n",
    "    .filterBounds(ee.Geometry.Point(-71.08841, 42.39823))\n",
    "    .filterDate('2004-07-01', '2012-12-31')\n",
    "    .select(['R', 'G', 'B'])\n",
    ")\n",
    "\n",
    "# Temporally composite the images with a maximum value function.\n",
    "composite = naip_2004_2012.max()\n",
    "\n",
    "m = geemap.Map()\n",
    "m.set_center(-71.12532, 42.3712, 12)\n",
    "m.add_layer(composite, {}, 'max value composite')\n",
    "m"
   ]
  },
  {
   "cell_type": "code",
   "execution_count": null,
   "id": "bbab30fb",
   "metadata": {},
   "outputs": [
    {
     "data": {
      "text/html": [
       "\n",
       "            <style>\n",
       "                .geemap-dark {\n",
       "                    --jp-widgets-color: white;\n",
       "                    --jp-widgets-label-color: white;\n",
       "                    --jp-ui-font-color1: white;\n",
       "                    --jp-layout-color2: #454545;\n",
       "                    background-color: #383838;\n",
       "                }\n",
       "\n",
       "                .geemap-dark .jupyter-button {\n",
       "                    --jp-layout-color3: #383838;\n",
       "                }\n",
       "\n",
       "                .geemap-colab {\n",
       "                    background-color: var(--colab-primary-surface-color, white);\n",
       "                }\n",
       "\n",
       "                .geemap-colab .jupyter-button {\n",
       "                    --jp-layout-color3: var(--colab-primary-surface-color, white);\n",
       "                }\n",
       "            </style>\n",
       "            "
      ],
      "text/plain": [
       "<IPython.core.display.HTML object>"
      ]
     },
     "metadata": {},
     "output_type": "display_data"
    },
    {
     "data": {
      "text/plain": [
       "{'type': 'Image',\n",
       " 'bands': [{'id': 'R',\n",
       "   'data_type': {'type': 'PixelType',\n",
       "    'precision': 'int',\n",
       "    'min': 0,\n",
       "    'max': 4294967295},\n",
       "   'crs': 'EPSG:4326',\n",
       "   'crs_transform': [1, 0, 0, 0, 1, 0]},\n",
       "  {'id': 'G',\n",
       "   'data_type': {'type': 'PixelType',\n",
       "    'precision': 'int',\n",
       "    'min': 0,\n",
       "    'max': 4294967295},\n",
       "   'crs': 'EPSG:4326',\n",
       "   'crs_transform': [1, 0, 0, 0, 1, 0]},\n",
       "  {'id': 'B',\n",
       "   'data_type': {'type': 'PixelType',\n",
       "    'precision': 'int',\n",
       "    'min': 0,\n",
       "    'max': 4294967295},\n",
       "   'crs': 'EPSG:4326',\n",
       "   'crs_transform': [1, 0, 0, 0, 1, 0]},\n",
       "  {'id': 'N',\n",
       "   'data_type': {'type': 'PixelType',\n",
       "    'precision': 'int',\n",
       "    'min': 0,\n",
       "    'max': 4294967295},\n",
       "   'crs': 'EPSG:4326',\n",
       "   'crs_transform': [1, 0, 0, 0, 1, 0]}]}"
      ]
     },
     "metadata": {},
     "output_type": "display_data"
    },
    {
     "data": {
      "application/vnd.jupyter.widget-view+json": {
       "model_id": "8bbe593fd35341ea87736414cda160ba",
       "version_major": 2,
       "version_minor": 0
      },
      "text/plain": [
       "Map(center=[42.3712, -71.12532], controls=(WidgetControl(options=['position', 'transparent_bg'], position='top…"
      ]
     },
     "execution_count": 10,
     "metadata": {},
     "output_type": "execute_result"
    }
   ],
   "source": [
    "# Load four 2012 NAIP quarter quads, different locations.\n",
    "naip_2012 = (\n",
    "    ee.ImageCollection('USDA/NAIP/DOQQ')\n",
    "    .filterBounds(\n",
    "        ee.Geometry.Rectangle(-71.17965, 42.35125, -71.08824, 42.40584)\n",
    "    )\n",
    "    .filterDate('2012-01-01', '2012-12-31')\n",
    ") # 4 images\n",
    "\n",
    "# Spatially mosaic the images in the collection and display.\n",
    "mosaic = naip_2012.mosaic()\n",
    "m = geemap.Map()\n",
    "m.set_center(-71.12532, 42.3712, 12)\n",
    "m.add_layer(mosaic, {}, 'spatial mosaic')\n",
    "m"
   ]
  }
 ],
 "metadata": {
  "kernelspec": {
   "display_name": "geo",
   "language": "python",
   "name": "python3"
  },
  "language_info": {
   "codemirror_mode": {
    "name": "ipython",
    "version": 3
   },
   "file_extension": ".py",
   "mimetype": "text/x-python",
   "name": "python",
   "nbconvert_exporter": "python",
   "pygments_lexer": "ipython3",
   "version": "3.13.5"
  }
 },
 "nbformat": 4,
 "nbformat_minor": 5
}
