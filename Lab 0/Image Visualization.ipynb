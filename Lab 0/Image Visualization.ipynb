{
 "cells": [
  {
   "cell_type": "markdown",
   "id": "b1c9b2dd",
   "metadata": {},
   "source": [
    "Learn GEE\n",
    "\n",
    "https://developers.google.com/earth-engine/guides/image_visualization"
   ]
  },
  {
   "cell_type": "code",
   "execution_count": 10,
   "id": "ded59e54",
   "metadata": {},
   "outputs": [
    {
     "data": {
      "text/html": [
       "\n",
       "            <style>\n",
       "                .geemap-dark {\n",
       "                    --jp-widgets-color: white;\n",
       "                    --jp-widgets-label-color: white;\n",
       "                    --jp-ui-font-color1: white;\n",
       "                    --jp-layout-color2: #454545;\n",
       "                    background-color: #383838;\n",
       "                }\n",
       "\n",
       "                .geemap-dark .jupyter-button {\n",
       "                    --jp-layout-color3: #383838;\n",
       "                }\n",
       "\n",
       "                .geemap-colab {\n",
       "                    background-color: var(--colab-primary-surface-color, white);\n",
       "                }\n",
       "\n",
       "                .geemap-colab .jupyter-button {\n",
       "                    --jp-layout-color3: var(--colab-primary-surface-color, white);\n",
       "                }\n",
       "            </style>\n",
       "            "
      ],
      "text/plain": [
       "<IPython.core.display.HTML object>"
      ]
     },
     "metadata": {},
     "output_type": "display_data"
    }
   ],
   "source": [
    "if 'google.colab' in str(get_ipython()):\n",
    "    from google.colab import userdata\n",
    "    EE_PROJECT_ID = userdata.get('EE_PROJECT_ID') \n",
    "else:\n",
    "    from dotenv import load_dotenv\n",
    "    import os\n",
    "    load_dotenv()  # take environment variables\n",
    "    EE_PROJECT_ID = os.getenv('EE_PROJECT_ID')\n",
    "    \n",
    "# Set up GEE API\n",
    "import ee\n",
    "ee.Authenticate()\n",
    "ee.Initialize(project=EE_PROJECT_ID)\n",
    "\n",
    "# Import other libs\n",
    "import geemap\n"
   ]
  },
  {
   "cell_type": "markdown",
   "id": "7654b9cb",
   "metadata": {},
   "source": [
    "## Masking"
   ]
  },
  {
   "cell_type": "code",
   "execution_count": 11,
   "id": "7209238a",
   "metadata": {},
   "outputs": [
    {
     "data": {
      "text/html": [
       "\n",
       "            <style>\n",
       "                .geemap-dark {\n",
       "                    --jp-widgets-color: white;\n",
       "                    --jp-widgets-label-color: white;\n",
       "                    --jp-ui-font-color1: white;\n",
       "                    --jp-layout-color2: #454545;\n",
       "                    background-color: #383838;\n",
       "                }\n",
       "\n",
       "                .geemap-dark .jupyter-button {\n",
       "                    --jp-layout-color3: #383838;\n",
       "                }\n",
       "\n",
       "                .geemap-colab {\n",
       "                    background-color: var(--colab-primary-surface-color, white);\n",
       "                }\n",
       "\n",
       "                .geemap-colab .jupyter-button {\n",
       "                    --jp-layout-color3: var(--colab-primary-surface-color, white);\n",
       "                }\n",
       "            </style>\n",
       "            "
      ],
      "text/plain": [
       "<IPython.core.display.HTML object>"
      ]
     },
     "metadata": {},
     "output_type": "display_data"
    },
    {
     "data": {
      "application/vnd.jupyter.widget-view+json": {
       "model_id": "214277f5aa6c4f93805760c0435aa301",
       "version_major": 2,
       "version_minor": 0
      },
      "text/plain": [
       "Map(center=[37.501, -122.1899], controls=(WidgetControl(options=['position', 'transparent_bg'], position='topr…"
      ]
     },
     "metadata": {},
     "output_type": "display_data"
    }
   ],
   "source": [
    "image = ee.Image('LANDSAT/LC08/C02/T1_TOA/LC08_044034_20140318')\n",
    "\n",
    "# Create an NDWI image, define visualization parameters and display.\n",
    "ndwi = image.normalizedDifference(['B3', 'B5'])\n",
    "ndwi_viz = {'min': 0.5, 'max': 1, 'palette': ['00FFFF', '0000FF']}\n",
    "\n",
    "# Mask the non-watery parts of the image, where NDWI < 0.4.\n",
    "ndwi_masked = ndwi.updateMask(ndwi.gte(0.4))\n",
    "\n",
    "# Define a map centered on San Francisco Bay.\n",
    "map_ndwi_masked = geemap.Map(center=[37.5010, -122.1899], zoom=10)\n",
    "\n",
    "# Add the image layer to the map and display it.\n",
    "map_ndwi_masked.add_layer(ndwi, ndwi_viz, 'NDWI')\n",
    "map_ndwi_masked.add_layer(ndwi_masked, ndwi_viz, 'NDWI masked')\n",
    "display(map_ndwi_masked)"
   ]
  },
  {
   "cell_type": "markdown",
   "id": "e4fc9601",
   "metadata": {},
   "source": [
    "## Visualization images"
   ]
  },
  {
   "cell_type": "code",
   "execution_count": null,
   "id": "d4962b55",
   "metadata": {},
   "outputs": [],
   "source": [
    "image_rgb = image.visualize(bands=['B5', 'B4', 'B3'], max=0.5)\n",
    "ndwi_rgb = ndwi_masked.visualize(min=0.5, max=1, palette=['00FFFF', '0000FF'])"
   ]
  },
  {
   "cell_type": "markdown",
   "id": "062d9fd1",
   "metadata": {},
   "source": [
    "## Mosaicking"
   ]
  },
  {
   "cell_type": "code",
   "execution_count": 17,
   "id": "9887629d",
   "metadata": {},
   "outputs": [
    {
     "data": {
      "text/html": [
       "\n",
       "            <style>\n",
       "                .geemap-dark {\n",
       "                    --jp-widgets-color: white;\n",
       "                    --jp-widgets-label-color: white;\n",
       "                    --jp-ui-font-color1: white;\n",
       "                    --jp-layout-color2: #454545;\n",
       "                    background-color: #383838;\n",
       "                }\n",
       "\n",
       "                .geemap-dark .jupyter-button {\n",
       "                    --jp-layout-color3: #383838;\n",
       "                }\n",
       "\n",
       "                .geemap-colab {\n",
       "                    background-color: var(--colab-primary-surface-color, white);\n",
       "                }\n",
       "\n",
       "                .geemap-colab .jupyter-button {\n",
       "                    --jp-layout-color3: var(--colab-primary-surface-color, white);\n",
       "                }\n",
       "            </style>\n",
       "            "
      ],
      "text/plain": [
       "<IPython.core.display.HTML object>"
      ]
     },
     "metadata": {},
     "output_type": "display_data"
    },
    {
     "data": {
      "application/vnd.jupyter.widget-view+json": {
       "model_id": "f217236b0c87443bad83716b77265f83",
       "version_major": 2,
       "version_minor": 0
      },
      "text/plain": [
       "Map(center=[37.501, -122.1899], controls=(WidgetControl(options=['position', 'transparent_bg'], position='topr…"
      ]
     },
     "metadata": {},
     "output_type": "display_data"
    }
   ],
   "source": [
    "# Mosaic the visualization layers and display (or export).\n",
    "mosaic = ee.ImageCollection([image_rgb, ndwi_rgb]).mosaic()\n",
    "\n",
    "# Define a map centered on San Francisco Bay.\n",
    "map_mosaic = geemap.Map(center=[37.5010, -122.1899], zoom=10)\n",
    "\n",
    "# Add the image layer to the map and display it.\n",
    "map_mosaic.add_layer(mosaic, None, 'mosaic')\n",
    "display(map_mosaic)"
   ]
  },
  {
   "cell_type": "markdown",
   "id": "cb4ef1f0",
   "metadata": {},
   "source": [
    "## Clipping"
   ]
  },
  {
   "cell_type": "code",
   "execution_count": 16,
   "id": "282c937f",
   "metadata": {},
   "outputs": [
    {
     "data": {
      "text/html": [
       "\n",
       "            <style>\n",
       "                .geemap-dark {\n",
       "                    --jp-widgets-color: white;\n",
       "                    --jp-widgets-label-color: white;\n",
       "                    --jp-ui-font-color1: white;\n",
       "                    --jp-layout-color2: #454545;\n",
       "                    background-color: #383838;\n",
       "                }\n",
       "\n",
       "                .geemap-dark .jupyter-button {\n",
       "                    --jp-layout-color3: #383838;\n",
       "                }\n",
       "\n",
       "                .geemap-colab {\n",
       "                    background-color: var(--colab-primary-surface-color, white);\n",
       "                }\n",
       "\n",
       "                .geemap-colab .jupyter-button {\n",
       "                    --jp-layout-color3: var(--colab-primary-surface-color, white);\n",
       "                }\n",
       "            </style>\n",
       "            "
      ],
      "text/plain": [
       "<IPython.core.display.HTML object>"
      ]
     },
     "metadata": {},
     "output_type": "display_data"
    },
    {
     "data": {
      "application/vnd.jupyter.widget-view+json": {
       "model_id": "dd2c0e2d641c4adf9bc5a2581b04f41b",
       "version_major": 2,
       "version_minor": 0
      },
      "text/plain": [
       "Map(center=[37.7599, -122.4481], controls=(WidgetControl(options=['position', 'transparent_bg'], position='top…"
      ]
     },
     "metadata": {},
     "output_type": "display_data"
    }
   ],
   "source": [
    "# Create a circle by drawing a 20000 meter buffer around a point.\n",
    "roi = ee.Geometry.Point([-122.4481, 37.7599]).buffer(20000)\n",
    "mosaic_clipped = mosaic.clip(roi)\n",
    "\n",
    "# Define a map centered on San Francisco.\n",
    "map_mosaic_clipped = geemap.Map(center=[37.7599, -122.4481], zoom=10)\n",
    "\n",
    "# Add the image layer to the map and display it.\n",
    "map_mosaic_clipped.add_layer(mosaic_clipped, None, 'mosaic clipped')\n",
    "display(map_mosaic_clipped)"
   ]
  },
  {
   "cell_type": "markdown",
   "id": "dc562d76",
   "metadata": {},
   "source": [
    "## Rendering categorical maps"
   ]
  },
  {
   "cell_type": "code",
   "execution_count": 22,
   "id": "a54799df",
   "metadata": {},
   "outputs": [
    {
     "data": {
      "text/html": [
       "\n",
       "            <style>\n",
       "                .geemap-dark {\n",
       "                    --jp-widgets-color: white;\n",
       "                    --jp-widgets-label-color: white;\n",
       "                    --jp-ui-font-color1: white;\n",
       "                    --jp-layout-color2: #454545;\n",
       "                    background-color: #383838;\n",
       "                }\n",
       "\n",
       "                .geemap-dark .jupyter-button {\n",
       "                    --jp-layout-color3: #383838;\n",
       "                }\n",
       "\n",
       "                .geemap-colab {\n",
       "                    background-color: var(--colab-primary-surface-color, white);\n",
       "                }\n",
       "\n",
       "                .geemap-colab .jupyter-button {\n",
       "                    --jp-layout-color3: var(--colab-primary-surface-color, white);\n",
       "                }\n",
       "            </style>\n",
       "            "
      ],
      "text/plain": [
       "<IPython.core.display.HTML object>"
      ]
     },
     "metadata": {},
     "output_type": "display_data"
    },
    {
     "data": {
      "application/vnd.jupyter.widget-view+json": {
       "model_id": "be85e77c12994aa49bfa2252eeeb48bc",
       "version_major": 2,
       "version_minor": 0
      },
      "text/plain": [
       "Map(center=[40.413, -99.229], controls=(WidgetControl(options=['position', 'transparent_bg'], position='toprig…"
      ]
     },
     "metadata": {},
     "output_type": "display_data"
    }
   ],
   "source": [
    "# Load 2012 MODIS land cover and select the IGBP classification.\n",
    "cover = ee.Image('MODIS/051/MCD12Q1/2012_01_01').select('Land_Cover_Type_1')\n",
    "\n",
    "# Define a palette for the 18 distinct land cover classes.\n",
    "igbp_palette = [\n",
    "    'aec3d4',  # water\n",
    "    '152106',\n",
    "    '225129',\n",
    "    '369b47',\n",
    "    '30eb5b',\n",
    "    '387242',  # forest\n",
    "    '6a2325',\n",
    "    'c3aa69',\n",
    "    'b76031',\n",
    "    'd9903d',\n",
    "    '91af40',  # shrub, grass\n",
    "    '111149',  # wetlands\n",
    "    'cdb33b',  # croplands\n",
    "    'cc0013',  # urban\n",
    "    '33280d',  # crop mosaic\n",
    "    'd7cdcc',  # snow and ice\n",
    "    'f7e084',  # barren\n",
    "    '6f6f6f',  # tundra\n",
    "]\n",
    "\n",
    "# Define a map centered on the United States.\n",
    "map_palette = geemap.Map(center=[40.413, -99.229], zoom=5)\n",
    "\n",
    "# Add the image layer to the map and display it. Specify the min and max labels\n",
    "# and the color palette matching the labels.\n",
    "map_palette.add_layer(\n",
    "    cover, {'min': 0, 'max': 17, 'palette': igbp_palette}, 'IGBP classes'\n",
    ")\n",
    "display(map_palette)"
   ]
  },
  {
   "cell_type": "markdown",
   "id": "c35a86f0",
   "metadata": {},
   "source": [
    "## Thumbnail images"
   ]
  },
  {
   "cell_type": "code",
   "execution_count": 31,
   "id": "f609c80b",
   "metadata": {},
   "outputs": [
    {
     "data": {
      "text/html": [
       "\n",
       "            <style>\n",
       "                .geemap-dark {\n",
       "                    --jp-widgets-color: white;\n",
       "                    --jp-widgets-label-color: white;\n",
       "                    --jp-ui-font-color1: white;\n",
       "                    --jp-layout-color2: #454545;\n",
       "                    background-color: #383838;\n",
       "                }\n",
       "\n",
       "                .geemap-dark .jupyter-button {\n",
       "                    --jp-layout-color3: #383838;\n",
       "                }\n",
       "\n",
       "                .geemap-colab {\n",
       "                    background-color: var(--colab-primary-surface-color, white);\n",
       "                }\n",
       "\n",
       "                .geemap-colab .jupyter-button {\n",
       "                    --jp-layout-color3: var(--colab-primary-surface-color, white);\n",
       "                }\n",
       "            </style>\n",
       "            "
      ],
      "text/plain": [
       "<IPython.core.display.HTML object>"
      ]
     },
     "metadata": {},
     "output_type": "display_data"
    },
    {
     "name": "stdout",
     "output_type": "stream",
     "text": [
      "Default extent: https://earthengine.googleapis.com/v1/projects/gen-lang-client-0038628791/thumbnails/3bbe407c4fb4d95e5a03d51383de3238-fc30cc8973d6eeac29ad4012a365f757:getPixels\n",
      "Rectangle region and palette: https://earthengine.googleapis.com/v1/projects/gen-lang-client-0038628791/thumbnails/c422a98c58645c378ee7513b126ef150-43c1ad8b48f3b94e0a2f8e412e32ef90:getPixels\n",
      "Linear ring region and specified crs: https://earthengine.googleapis.com/v1/projects/gen-lang-client-0038628791/thumbnails/05c351b5fe4884b734bd9a27b912a076-a8dcbeb670a038f398502123efc05aff:getPixels\n"
     ]
    },
    {
     "data": {
      "text/html": [
       "<img src=\"https://earthengine.googleapis.com/v1/projects/gen-lang-client-0038628791/thumbnails/3bbe407c4fb4d95e5a03d51383de3238-fc30cc8973d6eeac29ad4012a365f757:getPixels\"/>"
      ],
      "text/plain": [
       "<IPython.core.display.Image object>"
      ]
     },
     "metadata": {},
     "output_type": "display_data"
    },
    {
     "data": {
      "text/html": [
       "<img src=\"https://earthengine.googleapis.com/v1/projects/gen-lang-client-0038628791/thumbnails/c422a98c58645c378ee7513b126ef150-43c1ad8b48f3b94e0a2f8e412e32ef90:getPixels\"/>"
      ],
      "text/plain": [
       "<IPython.core.display.Image object>"
      ]
     },
     "metadata": {},
     "output_type": "display_data"
    },
    {
     "data": {
      "text/html": [
       "<img src=\"https://earthengine.googleapis.com/v1/projects/gen-lang-client-0038628791/thumbnails/05c351b5fe4884b734bd9a27b912a076-a8dcbeb670a038f398502123efc05aff:getPixels\"/>"
      ],
      "text/plain": [
       "<IPython.core.display.Image object>"
      ]
     },
     "metadata": {},
     "output_type": "display_data"
    }
   ],
   "source": [
    "# Fetch a digital elevation model.\n",
    "image = ee.Image('CGIAR/SRTM90_V4')\n",
    "\n",
    "# Request a default thumbnail of the DEM with defined linear stretch.\n",
    "# Set masked pixels (ocean) to 1000 so they map as gray.\n",
    "thumbnail_1 = image.unmask(1000).getThumbURL({\n",
    "    'min': 0,\n",
    "    'max': 3000,\n",
    "    'dimensions': 500,\n",
    "})\n",
    "print('Default extent:', thumbnail_1)\n",
    "\n",
    "# Specify region by rectangle, define palette, set larger aspect dimension size.\n",
    "thumbnail_2 = image.getThumbURL({\n",
    "    'min': 0,\n",
    "    'max': 3000,\n",
    "    'palette': [\n",
    "        '00A600',\n",
    "        '63C600',\n",
    "        'E6E600',\n",
    "        'E9BD3A',\n",
    "        'ECB176',\n",
    "        'EFC2B3',\n",
    "        'F2F2F2',\n",
    "    ],\n",
    "    'dimensions': 500,\n",
    "    'region': ee.Geometry.Rectangle([-84.6, -55.9, -32.9, 15.7]),\n",
    "})\n",
    "print('Rectangle region and palette:', thumbnail_2)\n",
    "\n",
    "# Specify region by a linear ring and set display CRS as Web Mercator.\n",
    "thumbnail_3 = image.getThumbURL({\n",
    "    'min': 0,\n",
    "    'max': 3000,\n",
    "    'palette': [\n",
    "        '00A600',\n",
    "        '63C600',\n",
    "        'E6E600',\n",
    "        'E9BD3A',\n",
    "        'ECB176',\n",
    "        'EFC2B3',\n",
    "        'F2F2F2',\n",
    "    ],\n",
    "    'region': ee.Geometry.LinearRing(\n",
    "        [[-84.6, 15.7], [-84.6, -55.9], [-32.9, -55.9]]\n",
    "    ),\n",
    "    'dimensions': 500,\n",
    "    'crs': 'EPSG:3857',\n",
    "})\n",
    "print('Linear ring region and specified crs:', thumbnail_3)\n",
    "\n",
    "from IPython.display import Image\n",
    "display(Image(url=thumbnail_1))\n",
    "display(Image(url=thumbnail_2))\n",
    "display(Image(url=thumbnail_3))"
   ]
  }
 ],
 "metadata": {
  "kernelspec": {
   "display_name": "geo",
   "language": "python",
   "name": "python3"
  },
  "language_info": {
   "codemirror_mode": {
    "name": "ipython",
    "version": 3
   },
   "file_extension": ".py",
   "mimetype": "text/x-python",
   "name": "python",
   "nbconvert_exporter": "python",
   "pygments_lexer": "ipython3",
   "version": "3.13.5"
  }
 },
 "nbformat": 4,
 "nbformat_minor": 5
}
