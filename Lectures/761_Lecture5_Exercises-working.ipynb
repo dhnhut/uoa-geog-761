{
  "cells": [
    {
      "cell_type": "markdown",
      "metadata": {
        "id": "oYBUSAl4668g"
      },
      "source": [
        "# Introducing Deep Learning on Satellite Data\n",
        "\n",
        "Learning goals:\n",
        "- See how a convolutional neural network (CNN) can be trained on small image patches from Sentinel-2.\n",
        "- Understand the difference between using “tabular pixel samples + Random Forest” (what you’ve done already) versus “image patches + CNN” (deep learning).\n"
      ]
    },
    {
      "cell_type": "markdown",
      "metadata": {
        "id": "BtR1LY1A7czn"
      },
      "source": [
        "________________________________________________________________________________\n",
        "# Exercise: Deep Learning on Satellite Data (Cropland vs Non-Cropland)\n",
        "\n",
        "In order to save time in class I have pre-prepped the patches to train from for you. The code used to do this given at the end of the notebook so that you can use it to generate your own patches in the future.\n",
        "\n",
        "In this exercise, you will use the Sentinel-2 image patches to train a simple deep learning model that can distinguish between cropland and non-cropland.\n",
        "\n",
        "We will go through five stages:\n",
        "\n",
        "      1.) Loading the patch dataset\n",
        "\n",
        "      2.) Preprocessing the data\n",
        "\n",
        "      3.) Building a simple Convolutional Neural Network (CNN)\n",
        "\n",
        "      4.) Training the model\n",
        "\n",
        "      5.) Evaluating the model\n",
        "\n",
        "At the end, you will reflect on what you have learned and think about possible improvements."
      ]
    },
    {
      "cell_type": "code",
      "execution_count": 2,
      "metadata": {
        "id": "VxbaaXiF9VqY"
      },
      "outputs": [
        {
          "name": "stderr",
          "output_type": "stream",
          "text": [
            "/opt/homebrew/Caskroom/miniconda/base/envs/geo/lib/python3.13/site-packages/google/protobuf/runtime_version.py:98: UserWarning: Protobuf gencode version 5.28.3 is exactly one major version older than the runtime version 6.31.1 at tensorflow/core/framework/attr_value.proto. Please update the gencode to avoid compatibility violations in the next runtime release.\n",
            "  warnings.warn(\n",
            "/opt/homebrew/Caskroom/miniconda/base/envs/geo/lib/python3.13/site-packages/google/protobuf/runtime_version.py:98: UserWarning: Protobuf gencode version 5.28.3 is exactly one major version older than the runtime version 6.31.1 at tensorflow/core/framework/tensor.proto. Please update the gencode to avoid compatibility violations in the next runtime release.\n",
            "  warnings.warn(\n",
            "/opt/homebrew/Caskroom/miniconda/base/envs/geo/lib/python3.13/site-packages/google/protobuf/runtime_version.py:98: UserWarning: Protobuf gencode version 5.28.3 is exactly one major version older than the runtime version 6.31.1 at tensorflow/core/framework/resource_handle.proto. Please update the gencode to avoid compatibility violations in the next runtime release.\n",
            "  warnings.warn(\n",
            "/opt/homebrew/Caskroom/miniconda/base/envs/geo/lib/python3.13/site-packages/google/protobuf/runtime_version.py:98: UserWarning: Protobuf gencode version 5.28.3 is exactly one major version older than the runtime version 6.31.1 at tensorflow/core/framework/tensor_shape.proto. Please update the gencode to avoid compatibility violations in the next runtime release.\n",
            "  warnings.warn(\n",
            "/opt/homebrew/Caskroom/miniconda/base/envs/geo/lib/python3.13/site-packages/google/protobuf/runtime_version.py:98: UserWarning: Protobuf gencode version 5.28.3 is exactly one major version older than the runtime version 6.31.1 at tensorflow/core/framework/types.proto. Please update the gencode to avoid compatibility violations in the next runtime release.\n",
            "  warnings.warn(\n",
            "/opt/homebrew/Caskroom/miniconda/base/envs/geo/lib/python3.13/site-packages/google/protobuf/runtime_version.py:98: UserWarning: Protobuf gencode version 5.28.3 is exactly one major version older than the runtime version 6.31.1 at tensorflow/core/framework/full_type.proto. Please update the gencode to avoid compatibility violations in the next runtime release.\n",
            "  warnings.warn(\n",
            "/opt/homebrew/Caskroom/miniconda/base/envs/geo/lib/python3.13/site-packages/google/protobuf/runtime_version.py:98: UserWarning: Protobuf gencode version 5.28.3 is exactly one major version older than the runtime version 6.31.1 at tensorflow/core/framework/function.proto. Please update the gencode to avoid compatibility violations in the next runtime release.\n",
            "  warnings.warn(\n",
            "/opt/homebrew/Caskroom/miniconda/base/envs/geo/lib/python3.13/site-packages/google/protobuf/runtime_version.py:98: UserWarning: Protobuf gencode version 5.28.3 is exactly one major version older than the runtime version 6.31.1 at tensorflow/core/framework/node_def.proto. Please update the gencode to avoid compatibility violations in the next runtime release.\n",
            "  warnings.warn(\n",
            "/opt/homebrew/Caskroom/miniconda/base/envs/geo/lib/python3.13/site-packages/google/protobuf/runtime_version.py:98: UserWarning: Protobuf gencode version 5.28.3 is exactly one major version older than the runtime version 6.31.1 at tensorflow/core/framework/op_def.proto. Please update the gencode to avoid compatibility violations in the next runtime release.\n",
            "  warnings.warn(\n",
            "/opt/homebrew/Caskroom/miniconda/base/envs/geo/lib/python3.13/site-packages/google/protobuf/runtime_version.py:98: UserWarning: Protobuf gencode version 5.28.3 is exactly one major version older than the runtime version 6.31.1 at tensorflow/core/framework/graph.proto. Please update the gencode to avoid compatibility violations in the next runtime release.\n",
            "  warnings.warn(\n",
            "/opt/homebrew/Caskroom/miniconda/base/envs/geo/lib/python3.13/site-packages/google/protobuf/runtime_version.py:98: UserWarning: Protobuf gencode version 5.28.3 is exactly one major version older than the runtime version 6.31.1 at tensorflow/core/framework/graph_debug_info.proto. Please update the gencode to avoid compatibility violations in the next runtime release.\n",
            "  warnings.warn(\n",
            "/opt/homebrew/Caskroom/miniconda/base/envs/geo/lib/python3.13/site-packages/google/protobuf/runtime_version.py:98: UserWarning: Protobuf gencode version 5.28.3 is exactly one major version older than the runtime version 6.31.1 at tensorflow/core/framework/versions.proto. Please update the gencode to avoid compatibility violations in the next runtime release.\n",
            "  warnings.warn(\n",
            "/opt/homebrew/Caskroom/miniconda/base/envs/geo/lib/python3.13/site-packages/google/protobuf/runtime_version.py:98: UserWarning: Protobuf gencode version 5.28.3 is exactly one major version older than the runtime version 6.31.1 at tensorflow/core/protobuf/config.proto. Please update the gencode to avoid compatibility violations in the next runtime release.\n",
            "  warnings.warn(\n",
            "/opt/homebrew/Caskroom/miniconda/base/envs/geo/lib/python3.13/site-packages/google/protobuf/runtime_version.py:98: UserWarning: Protobuf gencode version 5.28.3 is exactly one major version older than the runtime version 6.31.1 at xla/tsl/protobuf/coordination_config.proto. Please update the gencode to avoid compatibility violations in the next runtime release.\n",
            "  warnings.warn(\n",
            "/opt/homebrew/Caskroom/miniconda/base/envs/geo/lib/python3.13/site-packages/google/protobuf/runtime_version.py:98: UserWarning: Protobuf gencode version 5.28.3 is exactly one major version older than the runtime version 6.31.1 at tensorflow/core/framework/cost_graph.proto. Please update the gencode to avoid compatibility violations in the next runtime release.\n",
            "  warnings.warn(\n",
            "/opt/homebrew/Caskroom/miniconda/base/envs/geo/lib/python3.13/site-packages/google/protobuf/runtime_version.py:98: UserWarning: Protobuf gencode version 5.28.3 is exactly one major version older than the runtime version 6.31.1 at tensorflow/core/framework/step_stats.proto. Please update the gencode to avoid compatibility violations in the next runtime release.\n",
            "  warnings.warn(\n",
            "/opt/homebrew/Caskroom/miniconda/base/envs/geo/lib/python3.13/site-packages/google/protobuf/runtime_version.py:98: UserWarning: Protobuf gencode version 5.28.3 is exactly one major version older than the runtime version 6.31.1 at tensorflow/core/framework/allocation_description.proto. Please update the gencode to avoid compatibility violations in the next runtime release.\n",
            "  warnings.warn(\n",
            "/opt/homebrew/Caskroom/miniconda/base/envs/geo/lib/python3.13/site-packages/google/protobuf/runtime_version.py:98: UserWarning: Protobuf gencode version 5.28.3 is exactly one major version older than the runtime version 6.31.1 at tensorflow/core/framework/tensor_description.proto. Please update the gencode to avoid compatibility violations in the next runtime release.\n",
            "  warnings.warn(\n",
            "/opt/homebrew/Caskroom/miniconda/base/envs/geo/lib/python3.13/site-packages/google/protobuf/runtime_version.py:98: UserWarning: Protobuf gencode version 5.28.3 is exactly one major version older than the runtime version 6.31.1 at tensorflow/core/protobuf/cluster.proto. Please update the gencode to avoid compatibility violations in the next runtime release.\n",
            "  warnings.warn(\n",
            "/opt/homebrew/Caskroom/miniconda/base/envs/geo/lib/python3.13/site-packages/google/protobuf/runtime_version.py:98: UserWarning: Protobuf gencode version 5.28.3 is exactly one major version older than the runtime version 6.31.1 at tensorflow/core/protobuf/debug.proto. Please update the gencode to avoid compatibility violations in the next runtime release.\n",
            "  warnings.warn(\n"
          ]
        }
      ],
      "source": [
        "# Setup\n",
        "# !pip install tensorflow matplotlib --quiet\n",
        "\n",
        "import numpy as np\n",
        "import tensorflow as tf\n",
        "from tensorflow.keras import layers, models\n",
        "import matplotlib.pyplot as plt\n",
        "from sklearn.model_selection import train_test_split"
      ]
    },
    {
      "cell_type": "markdown",
      "metadata": {
        "id": "V1WFiCZl9cPD"
      },
      "source": [
        "## Step 1: Load pre-generated dataset\n",
        "The .npz file is available via the class GitHub or Canvas.\n",
        "\n",
        "The patches have already been extracted from a median cloud-free Sentinel-2 composite. Each patch is a small image (64 × 64 × 3 pixels) with a label:\n",
        "- 1 = cropland\n",
        "- 0 = non-cropland\n",
        "\n",
        "Upload the patches ('mount' them into our Colab drive) by just dragging and dropping the .npz file into the 'Files' tab. This is the same tab that you uploaded the .zip file in a prior lab."
      ]
    },
    {
      "cell_type": "code",
      "execution_count": 3,
      "metadata": {
        "id": "yV4LGX3T6naJ"
      },
      "outputs": [
        {
          "name": "stdout",
          "output_type": "stream",
          "text": [
            "Patch dataset loaded\n",
            "X shape: (12, 64, 64, 3)\n",
            "y shape: (12,)\n"
          ]
        }
      ],
      "source": [
        "# Load the dataset\n",
        "data = np.load(\"patches.npz\")\n",
        "X, y = data[\"X\"], data[\"y\"]\n",
        "\n",
        "print(\"Patch dataset loaded\")\n",
        "print(\"X shape:\", X.shape)  # (num_patches, 64, 64, 3)\n",
        "print(\"y shape:\", y.shape)  # (num_patches,)"
      ]
    },
    {
      "cell_type": "code",
      "execution_count": 18,
      "metadata": {},
      "outputs": [
        {
          "data": {
            "text/plain": [
              "array([1, 1, 1, 1, 1, 1, 0, 0, 0, 0])"
            ]
          },
          "execution_count": 18,
          "metadata": {},
          "output_type": "execute_result"
        }
      ],
      "source": [
        "y[0:10]  # Display first 10 labels"
      ]
    },
    {
      "cell_type": "markdown",
      "metadata": {
        "id": "OpoF2_TsIJL1"
      },
      "source": [
        "At this point, X contains the image data and y contains the binary labels."
      ]
    },
    {
      "cell_type": "markdown",
      "metadata": {
        "id": "oOSsUkYkGfmA"
      },
      "source": [
        "# Step 2: Preprocess the data\n",
        "\n",
        "Machine learning models train best when the inputs are normalized (scaled to a common range). Sentinel-2 reflectance values can be large, so we will rescale them to approximately [0, 1]. Notice that we are not normalizing patch-by-patch (which can distort values and remove contrast), but rather scaling consistently across the whole dataset.\n",
        "\n",
        "We also split the data into training and testing sets. The training set is used to fit the model, while the test set evaluates how well the model generalizes to new data."
      ]
    },
    {
      "cell_type": "code",
      "execution_count": null,
      "metadata": {
        "id": "MUaKKAn9Gld2"
      },
      "outputs": [
        {
          "name": "stdout",
          "output_type": "stream",
          "text": [
            "Global max reflectance across dataset: 1.0\n",
            "Scaled X range: 0.0 1.0\n",
            "X shape: (12, 64, 64, 3) y shape: (12,)\n",
            "X shape: (12, 64, 64, 3) y shape: (12,)\n"
          ]
        }
      ],
      "source": [
        "# Convert to float32\n",
        "X = X.astype(\"float32\")\n",
        "\n",
        "# Find the global maximum value across ALL patches\n",
        "global_max = X.max()\n",
        "print(\"Global max reflectance across dataset:\", global_max)\n",
        "\n",
        "# Scale all patches by this global max\n",
        "X /= global_max\n",
        "\n",
        "print(\"Scaled X range:\", X.min(), X.max())\n",
        "\n",
        "# Optional: double-check shape\n",
        "print(\"X shape:\", X.shape, \"y shape:\", y.shape)\n",
        "\n",
        "# Train/test split\n",
        "X_train, X_test, y_train, y_test = train_test_split(\n",
        "    X, y, test_size=0.3, random_state=42, stratify=y)\n"
      ]
    },
    {
      "cell_type": "markdown",
      "metadata": {
        "id": "ocfr8ArgGtch"
      },
      "source": [
        "# Step 3: Build a simple CNN classifier\n",
        "\n",
        "We’ll use a basic Convolutional Neural Network (CNN) with a few layers to classify patches.\n",
        "\n",
        "A CNN is the standard type of neural network for image classification.\n",
        "It works by applying small filters (convolutions) that detect local features such as edges, textures, and patterns, and then combining these features to make a classification.\n",
        "\n",
        "Here we build a very small CNN:\n",
        "- Two convolutional + pooling layers (feature extraction). More these in future lectures.\n",
        "- A dense hidden layer (decision making)\n",
        "- An output layer with a single unit and sigmoid activation (binary classification)"
      ]
    },
    {
      "cell_type": "code",
      "execution_count": 5,
      "metadata": {
        "id": "xLfDWYnsGxYT"
      },
      "outputs": [
        {
          "name": "stderr",
          "output_type": "stream",
          "text": [
            "/opt/homebrew/Caskroom/miniconda/base/envs/geo/lib/python3.13/site-packages/keras/src/layers/convolutional/base_conv.py:113: UserWarning: Do not pass an `input_shape`/`input_dim` argument to a layer. When using Sequential models, prefer using an `Input(shape)` object as the first layer in the model instead.\n",
            "  super().__init__(activity_regularizer=activity_regularizer, **kwargs)\n"
          ]
        },
        {
          "data": {
            "text/html": [
              "<pre style=\"white-space:pre;overflow-x:auto;line-height:normal;font-family:Menlo,'DejaVu Sans Mono',consolas,'Courier New',monospace\"><span style=\"font-weight: bold\">Model: \"sequential\"</span>\n",
              "</pre>\n"
            ],
            "text/plain": [
              "\u001b[1mModel: \"sequential\"\u001b[0m\n"
            ]
          },
          "metadata": {},
          "output_type": "display_data"
        },
        {
          "data": {
            "text/html": [
              "<pre style=\"white-space:pre;overflow-x:auto;line-height:normal;font-family:Menlo,'DejaVu Sans Mono',consolas,'Courier New',monospace\">┏━━━━━━━━━━━━━━━━━━━━━━━━━━━━━━━━━┳━━━━━━━━━━━━━━━━━━━━━━━━┳━━━━━━━━━━━━━━━┓\n",
              "┃<span style=\"font-weight: bold\"> Layer (type)                    </span>┃<span style=\"font-weight: bold\"> Output Shape           </span>┃<span style=\"font-weight: bold\">       Param # </span>┃\n",
              "┡━━━━━━━━━━━━━━━━━━━━━━━━━━━━━━━━━╇━━━━━━━━━━━━━━━━━━━━━━━━╇━━━━━━━━━━━━━━━┩\n",
              "│ conv2d (<span style=\"color: #0087ff; text-decoration-color: #0087ff\">Conv2D</span>)                 │ (<span style=\"color: #00d7ff; text-decoration-color: #00d7ff\">None</span>, <span style=\"color: #00af00; text-decoration-color: #00af00\">62</span>, <span style=\"color: #00af00; text-decoration-color: #00af00\">62</span>, <span style=\"color: #00af00; text-decoration-color: #00af00\">16</span>)     │           <span style=\"color: #00af00; text-decoration-color: #00af00\">448</span> │\n",
              "├─────────────────────────────────┼────────────────────────┼───────────────┤\n",
              "│ max_pooling2d (<span style=\"color: #0087ff; text-decoration-color: #0087ff\">MaxPooling2D</span>)    │ (<span style=\"color: #00d7ff; text-decoration-color: #00d7ff\">None</span>, <span style=\"color: #00af00; text-decoration-color: #00af00\">31</span>, <span style=\"color: #00af00; text-decoration-color: #00af00\">31</span>, <span style=\"color: #00af00; text-decoration-color: #00af00\">16</span>)     │             <span style=\"color: #00af00; text-decoration-color: #00af00\">0</span> │\n",
              "├─────────────────────────────────┼────────────────────────┼───────────────┤\n",
              "│ conv2d_1 (<span style=\"color: #0087ff; text-decoration-color: #0087ff\">Conv2D</span>)               │ (<span style=\"color: #00d7ff; text-decoration-color: #00d7ff\">None</span>, <span style=\"color: #00af00; text-decoration-color: #00af00\">29</span>, <span style=\"color: #00af00; text-decoration-color: #00af00\">29</span>, <span style=\"color: #00af00; text-decoration-color: #00af00\">32</span>)     │         <span style=\"color: #00af00; text-decoration-color: #00af00\">4,640</span> │\n",
              "├─────────────────────────────────┼────────────────────────┼───────────────┤\n",
              "│ max_pooling2d_1 (<span style=\"color: #0087ff; text-decoration-color: #0087ff\">MaxPooling2D</span>)  │ (<span style=\"color: #00d7ff; text-decoration-color: #00d7ff\">None</span>, <span style=\"color: #00af00; text-decoration-color: #00af00\">14</span>, <span style=\"color: #00af00; text-decoration-color: #00af00\">14</span>, <span style=\"color: #00af00; text-decoration-color: #00af00\">32</span>)     │             <span style=\"color: #00af00; text-decoration-color: #00af00\">0</span> │\n",
              "├─────────────────────────────────┼────────────────────────┼───────────────┤\n",
              "│ flatten (<span style=\"color: #0087ff; text-decoration-color: #0087ff\">Flatten</span>)               │ (<span style=\"color: #00d7ff; text-decoration-color: #00d7ff\">None</span>, <span style=\"color: #00af00; text-decoration-color: #00af00\">6272</span>)           │             <span style=\"color: #00af00; text-decoration-color: #00af00\">0</span> │\n",
              "├─────────────────────────────────┼────────────────────────┼───────────────┤\n",
              "│ dense (<span style=\"color: #0087ff; text-decoration-color: #0087ff\">Dense</span>)                   │ (<span style=\"color: #00d7ff; text-decoration-color: #00d7ff\">None</span>, <span style=\"color: #00af00; text-decoration-color: #00af00\">64</span>)             │       <span style=\"color: #00af00; text-decoration-color: #00af00\">401,472</span> │\n",
              "├─────────────────────────────────┼────────────────────────┼───────────────┤\n",
              "│ dense_1 (<span style=\"color: #0087ff; text-decoration-color: #0087ff\">Dense</span>)                 │ (<span style=\"color: #00d7ff; text-decoration-color: #00d7ff\">None</span>, <span style=\"color: #00af00; text-decoration-color: #00af00\">1</span>)              │            <span style=\"color: #00af00; text-decoration-color: #00af00\">65</span> │\n",
              "└─────────────────────────────────┴────────────────────────┴───────────────┘\n",
              "</pre>\n"
            ],
            "text/plain": [
              "┏━━━━━━━━━━━━━━━━━━━━━━━━━━━━━━━━━┳━━━━━━━━━━━━━━━━━━━━━━━━┳━━━━━━━━━━━━━━━┓\n",
              "┃\u001b[1m \u001b[0m\u001b[1mLayer (type)                   \u001b[0m\u001b[1m \u001b[0m┃\u001b[1m \u001b[0m\u001b[1mOutput Shape          \u001b[0m\u001b[1m \u001b[0m┃\u001b[1m \u001b[0m\u001b[1m      Param #\u001b[0m\u001b[1m \u001b[0m┃\n",
              "┡━━━━━━━━━━━━━━━━━━━━━━━━━━━━━━━━━╇━━━━━━━━━━━━━━━━━━━━━━━━╇━━━━━━━━━━━━━━━┩\n",
              "│ conv2d (\u001b[38;5;33mConv2D\u001b[0m)                 │ (\u001b[38;5;45mNone\u001b[0m, \u001b[38;5;34m62\u001b[0m, \u001b[38;5;34m62\u001b[0m, \u001b[38;5;34m16\u001b[0m)     │           \u001b[38;5;34m448\u001b[0m │\n",
              "├─────────────────────────────────┼────────────────────────┼───────────────┤\n",
              "│ max_pooling2d (\u001b[38;5;33mMaxPooling2D\u001b[0m)    │ (\u001b[38;5;45mNone\u001b[0m, \u001b[38;5;34m31\u001b[0m, \u001b[38;5;34m31\u001b[0m, \u001b[38;5;34m16\u001b[0m)     │             \u001b[38;5;34m0\u001b[0m │\n",
              "├─────────────────────────────────┼────────────────────────┼───────────────┤\n",
              "│ conv2d_1 (\u001b[38;5;33mConv2D\u001b[0m)               │ (\u001b[38;5;45mNone\u001b[0m, \u001b[38;5;34m29\u001b[0m, \u001b[38;5;34m29\u001b[0m, \u001b[38;5;34m32\u001b[0m)     │         \u001b[38;5;34m4,640\u001b[0m │\n",
              "├─────────────────────────────────┼────────────────────────┼───────────────┤\n",
              "│ max_pooling2d_1 (\u001b[38;5;33mMaxPooling2D\u001b[0m)  │ (\u001b[38;5;45mNone\u001b[0m, \u001b[38;5;34m14\u001b[0m, \u001b[38;5;34m14\u001b[0m, \u001b[38;5;34m32\u001b[0m)     │             \u001b[38;5;34m0\u001b[0m │\n",
              "├─────────────────────────────────┼────────────────────────┼───────────────┤\n",
              "│ flatten (\u001b[38;5;33mFlatten\u001b[0m)               │ (\u001b[38;5;45mNone\u001b[0m, \u001b[38;5;34m6272\u001b[0m)           │             \u001b[38;5;34m0\u001b[0m │\n",
              "├─────────────────────────────────┼────────────────────────┼───────────────┤\n",
              "│ dense (\u001b[38;5;33mDense\u001b[0m)                   │ (\u001b[38;5;45mNone\u001b[0m, \u001b[38;5;34m64\u001b[0m)             │       \u001b[38;5;34m401,472\u001b[0m │\n",
              "├─────────────────────────────────┼────────────────────────┼───────────────┤\n",
              "│ dense_1 (\u001b[38;5;33mDense\u001b[0m)                 │ (\u001b[38;5;45mNone\u001b[0m, \u001b[38;5;34m1\u001b[0m)              │            \u001b[38;5;34m65\u001b[0m │\n",
              "└─────────────────────────────────┴────────────────────────┴───────────────┘\n"
            ]
          },
          "metadata": {},
          "output_type": "display_data"
        },
        {
          "data": {
            "text/html": [
              "<pre style=\"white-space:pre;overflow-x:auto;line-height:normal;font-family:Menlo,'DejaVu Sans Mono',consolas,'Courier New',monospace\"><span style=\"font-weight: bold\"> Total params: </span><span style=\"color: #00af00; text-decoration-color: #00af00\">406,625</span> (1.55 MB)\n",
              "</pre>\n"
            ],
            "text/plain": [
              "\u001b[1m Total params: \u001b[0m\u001b[38;5;34m406,625\u001b[0m (1.55 MB)\n"
            ]
          },
          "metadata": {},
          "output_type": "display_data"
        },
        {
          "data": {
            "text/html": [
              "<pre style=\"white-space:pre;overflow-x:auto;line-height:normal;font-family:Menlo,'DejaVu Sans Mono',consolas,'Courier New',monospace\"><span style=\"font-weight: bold\"> Trainable params: </span><span style=\"color: #00af00; text-decoration-color: #00af00\">406,625</span> (1.55 MB)\n",
              "</pre>\n"
            ],
            "text/plain": [
              "\u001b[1m Trainable params: \u001b[0m\u001b[38;5;34m406,625\u001b[0m (1.55 MB)\n"
            ]
          },
          "metadata": {},
          "output_type": "display_data"
        },
        {
          "data": {
            "text/html": [
              "<pre style=\"white-space:pre;overflow-x:auto;line-height:normal;font-family:Menlo,'DejaVu Sans Mono',consolas,'Courier New',monospace\"><span style=\"font-weight: bold\"> Non-trainable params: </span><span style=\"color: #00af00; text-decoration-color: #00af00\">0</span> (0.00 B)\n",
              "</pre>\n"
            ],
            "text/plain": [
              "\u001b[1m Non-trainable params: \u001b[0m\u001b[38;5;34m0\u001b[0m (0.00 B)\n"
            ]
          },
          "metadata": {},
          "output_type": "display_data"
        }
      ],
      "source": [
        "model = models.Sequential([\n",
        "    layers.Conv2D(16, (3,3), activation=\"relu\", input_shape=(64, 64, 3)),\n",
        "    layers.MaxPooling2D((2,2)),\n",
        "    layers.Conv2D(32, (3,3), activation=\"relu\"),\n",
        "    layers.MaxPooling2D((2,2)),\n",
        "    layers.Flatten(),\n",
        "    layers.Dense(64, activation=\"relu\"),\n",
        "    layers.Dense(1, activation=\"sigmoid\")  # binary classification\n",
        "])\n",
        "\n",
        "model.compile(optimizer=\"adam\",\n",
        "              loss=\"binary_crossentropy\",\n",
        "              metrics=[\"accuracy\"])\n",
        "\n",
        "model.summary()"
      ]
    },
    {
      "cell_type": "markdown",
      "metadata": {
        "id": "16hvAa9kG9hV"
      },
      "source": [
        "# Step 4: Train the model\n",
        "\n",
        "Now we can train the model using our training data. During training, the model will repeatedly adjust its internal parameters to minimize the classification error.\n",
        "\n",
        "We will train for 10 epochs (iterations over the whole training dataset), using small batches of 8 patches at a time.\n",
        "\n",
        "You should see the training accuracy improve over time."
      ]
    },
    {
      "cell_type": "code",
      "execution_count": 6,
      "metadata": {
        "id": "O4heHjFWG_Km"
      },
      "outputs": [
        {
          "name": "stdout",
          "output_type": "stream",
          "text": [
            "Epoch 1/10\n",
            "\u001b[1m1/1\u001b[0m \u001b[32m━━━━━━━━━━━━━━━━━━━━\u001b[0m\u001b[37m\u001b[0m \u001b[1m1s\u001b[0m 1s/step - accuracy: 0.3750 - loss: 0.7178 - val_accuracy: 0.5000 - val_loss: 0.6603\n",
            "Epoch 2/10\n",
            "\u001b[1m1/1\u001b[0m \u001b[32m━━━━━━━━━━━━━━━━━━━━\u001b[0m\u001b[37m\u001b[0m \u001b[1m0s\u001b[0m 59ms/step - accuracy: 0.5000 - loss: 0.6371 - val_accuracy: 0.5000 - val_loss: 0.6272\n",
            "Epoch 3/10\n",
            "\u001b[1m1/1\u001b[0m \u001b[32m━━━━━━━━━━━━━━━━━━━━\u001b[0m\u001b[37m\u001b[0m \u001b[1m0s\u001b[0m 59ms/step - accuracy: 0.5000 - loss: 0.5725 - val_accuracy: 0.5000 - val_loss: 0.6060\n",
            "Epoch 4/10\n",
            "\u001b[1m1/1\u001b[0m \u001b[32m━━━━━━━━━━━━━━━━━━━━\u001b[0m\u001b[37m\u001b[0m \u001b[1m0s\u001b[0m 63ms/step - accuracy: 0.6250 - loss: 0.5089 - val_accuracy: 1.0000 - val_loss: 0.5826\n",
            "Epoch 5/10\n",
            "\u001b[1m1/1\u001b[0m \u001b[32m━━━━━━━━━━━━━━━━━━━━\u001b[0m\u001b[37m\u001b[0m \u001b[1m0s\u001b[0m 61ms/step - accuracy: 1.0000 - loss: 0.4489 - val_accuracy: 1.0000 - val_loss: 0.5385\n",
            "Epoch 6/10\n",
            "\u001b[1m1/1\u001b[0m \u001b[32m━━━━━━━━━━━━━━━━━━━━\u001b[0m\u001b[37m\u001b[0m \u001b[1m0s\u001b[0m 61ms/step - accuracy: 1.0000 - loss: 0.3839 - val_accuracy: 1.0000 - val_loss: 0.4957\n",
            "Epoch 7/10\n",
            "\u001b[1m1/1\u001b[0m \u001b[32m━━━━━━━━━━━━━━━━━━━━\u001b[0m\u001b[37m\u001b[0m \u001b[1m0s\u001b[0m 60ms/step - accuracy: 1.0000 - loss: 0.3230 - val_accuracy: 1.0000 - val_loss: 0.4598\n",
            "Epoch 8/10\n",
            "\u001b[1m1/1\u001b[0m \u001b[32m━━━━━━━━━━━━━━━━━━━━\u001b[0m\u001b[37m\u001b[0m \u001b[1m0s\u001b[0m 110ms/step - accuracy: 1.0000 - loss: 0.2615 - val_accuracy: 1.0000 - val_loss: 0.4389\n",
            "Epoch 9/10\n",
            "\u001b[1m1/1\u001b[0m \u001b[32m━━━━━━━━━━━━━━━━━━━━\u001b[0m\u001b[37m\u001b[0m \u001b[1m0s\u001b[0m 61ms/step - accuracy: 1.0000 - loss: 0.2071 - val_accuracy: 1.0000 - val_loss: 0.4075\n",
            "Epoch 10/10\n",
            "\u001b[1m1/1\u001b[0m \u001b[32m━━━━━━━━━━━━━━━━━━━━\u001b[0m\u001b[37m\u001b[0m \u001b[1m0s\u001b[0m 58ms/step - accuracy: 1.0000 - loss: 0.1599 - val_accuracy: 1.0000 - val_loss: 0.3404\n"
          ]
        }
      ],
      "source": [
        "history = model.fit(\n",
        "    X_train, y_train,\n",
        "    validation_data=(X_test, y_test),\n",
        "    epochs=10,\n",
        "    batch_size=8\n",
        ")\n"
      ]
    },
    {
      "cell_type": "markdown",
      "metadata": {
        "id": "HlgqYmD5HEtM"
      },
      "source": [
        "# Step 5: Evaluate the model\n",
        "\n",
        "Finally, let’s check how well the model performed on unseen test data, and also visualize the training history."
      ]
    },
    {
      "cell_type": "code",
      "execution_count": null,
      "metadata": {
        "id": "Exw8XcijHG-N"
      },
      "outputs": [
        {
          "data": {
            "image/png": "[encoded data removed]",
            "text/plain": [
              "<Figure size 640x480 with 1 Axes>"
            ]
          },
          "metadata": {},
          "output_type": "display_data"
        },
        {
          "name": "stdout",
          "output_type": "stream",
          "text": [
            "\u001b[1m1/1\u001b[0m \u001b[32m━━━━━━━━━━━━━━━━━━━━\u001b[0m\u001b[37m\u001b[0m \u001b[1m0s\u001b[0m 31ms/step - accuracy: 1.0000 - loss: 0.3404\n",
            "Test accuracy: 1.0\n"
          ]
        }
      ],
      "source": [
        "# Plot training history\n",
        "plt.plot(history.history[\"accuracy\"], label=\"train\")\n",
        "plt.plot(history.history[\"val_accuracy\"], label=\"val\")\n",
        "plt.legend()\n",
        "plt.xlabel(\"Epoch\")\n",
        "plt.ylabel(\"Accuracy\")\n",
        "plt.title(\"Training vs Validation Accuracy\")\n",
        "plt.show()\n",
        "\n",
        "# Final evaluation\n",
        "test_loss, test_acc = model.evaluate(X_test, y_test)\n",
        "print(\"Test accuracy:\", test_acc)"
      ]
    },
    {
      "cell_type": "markdown",
      "metadata": {
        "id": "xHwyd0UhLqAu"
      },
      "source": [
        "Finally, let's take a look at our patches and sense check that we have indeed classified them correctly."
      ]
    },
    {
      "cell_type": "code",
      "execution_count": 8,
      "metadata": {
        "id": "j1Hf8eeyLwOe"
      },
      "outputs": [
        {
          "name": "stdout",
          "output_type": "stream",
          "text": [
            "\u001b[1m1/1\u001b[0m \u001b[32m━━━━━━━━━━━━━━━━━━━━\u001b[0m\u001b[37m\u001b[0m \u001b[1m0s\u001b[0m 68ms/step\n"
          ]
        },
        {
          "data": {
            "image/png": "[encoded data removed]",
            "text/plain": [
              "<Figure size 1200x300 with 4 Axes>"
            ]
          },
          "metadata": {},
          "output_type": "display_data"
        }
      ],
      "source": [
        "def show_classified_patches(X, y_true, y_pred, n=12):\n",
        "    \"\"\"\n",
        "    Display patches in a grid with their predicted class.\n",
        "\n",
        "    Args:\n",
        "        X (np.array): Image patches, shape (N, H, W, C).\n",
        "        y_true (np.array): Ground truth labels.\n",
        "        y_pred (np.array): Predicted labels.\n",
        "        n (int): Number of patches to display.\n",
        "    \"\"\"\n",
        "    # Pick the first n patches (or all if fewer exist)\n",
        "    n = min(n, X.shape[0])\n",
        "    cols = 4\n",
        "    rows = int(np.ceil(n / cols))\n",
        "\n",
        "    fig, axes = plt.subplots(rows, cols, figsize=(12, rows * 3))\n",
        "    axes = axes.flatten()\n",
        "\n",
        "    for i in range(n):\n",
        "        axes[i].imshow(X[i])\n",
        "        true_label = \"Cropland\" if y_true[i] == 1 else \"Non-cropland\"\n",
        "        pred_label = \"Cropland\" if y_pred[i] == 1 else \"Non-cropland\"\n",
        "        axes[i].set_title(f\"Pred: {pred_label}\\nTrue: {true_label}\", fontsize=9)\n",
        "        axes[i].axis(\"off\")\n",
        "\n",
        "    # Hide any unused subplots\n",
        "    for j in range(i+1, len(axes)):\n",
        "        axes[j].axis(\"off\")\n",
        "\n",
        "    plt.tight_layout()\n",
        "    plt.show()\n",
        "\n",
        "\n",
        "\n",
        "y_pred = (model.predict(X_test) > 0.5).astype(\"int32\").flatten()\n",
        "show_classified_patches(X_test, y_test, y_pred, n=12)"
      ]
    },
    {
      "cell_type": "markdown",
      "metadata": {
        "id": "gxCruYnvMV7N"
      },
      "source": [
        "Hmmm some good some bad there! But overall not a bad effort given how little training data we have."
      ]
    },
    {
      "cell_type": "markdown",
      "metadata": {
        "id": "5MP7ktpFHN1w"
      },
      "source": [
        "# Questions\n",
        "\n",
        "1. What is the final test accuracy of your model?\n",
        "\n",
        "2. How do the training and validation accuracy curves compare?\n",
        "\n",
        "3. Do you see signs of overfitting (training >> validation)?\n",
        "\n",
        "4. If you had more patches, how might this affect the model performance?\n",
        "\n",
        "5. What are some ways we could improve this experiment? Think about the answer to Q4 here in particular..."
      ]
    },
    {
      "cell_type": "markdown",
      "metadata": {
        "id": "zsQKjDt-9yzi"
      },
      "source": [
        "________________________________________________________________________________\n",
        "\n",
        "# Patch prep code\n",
        "Here is the code that I used to generate the patches. This is not required for the exercise, but could be useful in future labs and in your project."
      ]
    },
    {
      "cell_type": "code",
      "execution_count": 9,
      "metadata": {
        "id": "Az4bZUrBwVUw"
      },
      "outputs": [],
      "source": [
        "# # The usual prep\n",
        "# !pip install geemap --quiet\n",
        "\n",
        "# import geemap\n",
        "# import geopandas as gpd\n",
        "# import pandas as pd\n",
        "# import matplotlib.pyplot as plt\n",
        "# import numpy as np\n",
        "# import os\n",
        "\n",
        "# import ee\n",
        "# ee.Authenticate()\n",
        "# ee.Initialize(project='earthengine-ml-testing') #<- Remember to change this to your own project's name!"
      ]
    },
    {
      "cell_type": "code",
      "execution_count": 10,
      "metadata": {
        "id": "MKHpWY6xvcGb"
      },
      "outputs": [],
      "source": [
        "# # Prep our S2 image usng what we learned in Lab 3\n",
        "# def get_s2_sr_cld_col(aoi, start_date, end_date):\n",
        "#     # Import and filter S2 SR.\n",
        "#     s2_sr_col = (ee.ImageCollection('COPERNICUS/S2_SR_HARMONIZED')\n",
        "#         .filterBounds(aoi)\n",
        "#         .filterDate(start_date, end_date)\n",
        "#         .filter(ee.Filter.lte('CLOUDY_PIXEL_PERCENTAGE', CLOUD_FILTER)))\n",
        "\n",
        "#     # Import and filter s2cloudless.\n",
        "#     s2_cloudless_col = (ee.ImageCollection('COPERNICUS/S2_CLOUD_PROBABILITY')\n",
        "#         .filterBounds(aoi)\n",
        "#         .filterDate(start_date, end_date))\n",
        "\n",
        "#     # Join the filtered s2cloudless collection to the SR collection by the 'system:index' property.\n",
        "#     return ee.ImageCollection(ee.Join.saveFirst('s2cloudless').apply(**{\n",
        "#         'primary': s2_sr_col,\n",
        "#         'secondary': s2_cloudless_col,\n",
        "#         'condition': ee.Filter.equals(**{\n",
        "#             'leftField': 'system:index',\n",
        "#             'rightField': 'system:index'\n",
        "#         })\n",
        "#     }))\n",
        "\n",
        "\n",
        "# def add_cloud_bands(img):\n",
        "#     # Get s2cloudless image, subset the probability band.\n",
        "#     cld_prb = ee.Image(img.get('s2cloudless')).select('probability')\n",
        "\n",
        "#     # Condition s2cloudless by the probability threshold value.\n",
        "#     is_cloud = cld_prb.gt(CLD_PRB_THRESH).rename('clouds')\n",
        "\n",
        "#     # Add the cloud probability layer and cloud mask as image bands.\n",
        "#     return img.addBands(ee.Image([cld_prb, is_cloud]))\n",
        "\n",
        "\n",
        "# def add_shadow_bands(img):\n",
        "#     # Identify water pixels from the SCL band.\n",
        "#     not_water = img.select('SCL').neq(6)\n",
        "\n",
        "#     # Identify dark NIR pixels that are not water (potential cloud shadow pixels).\n",
        "#     SR_BAND_SCALE = 1e4\n",
        "#     dark_pixels = img.select('B8').lt(NIR_DRK_THRESH*SR_BAND_SCALE).multiply(not_water).rename('dark_pixels')\n",
        "\n",
        "#     # Determine the direction to project cloud shadow from clouds (assumes UTM projection).\n",
        "#     shadow_azimuth = ee.Number(90).subtract(ee.Number(img.get('MEAN_SOLAR_AZIMUTH_ANGLE')));\n",
        "\n",
        "#     # Project shadows from clouds for the distance specified by the CLD_PRJ_DIST input.\n",
        "#     cld_proj = (img.select('clouds').directionalDistanceTransform(shadow_azimuth, CLD_PRJ_DIST*10)\n",
        "#         .reproject(**{'crs': img.select(0).projection(), 'scale': 100})\n",
        "#         .select('distance')\n",
        "#         .mask()\n",
        "#         .rename('cloud_transform'))\n",
        "\n",
        "#     # Identify the intersection of dark pixels with cloud shadow projection.\n",
        "#     shadows = cld_proj.multiply(dark_pixels).rename('shadows')\n",
        "\n",
        "#     # Add dark pixels, cloud projection, and identified shadows as image bands.\n",
        "#     return img.addBands(ee.Image([dark_pixels, cld_proj, shadows]))\n",
        "\n",
        "\n",
        "# def add_cld_shdw_mask(img):\n",
        "#     # Add cloud component bands.\n",
        "#     img_cloud = add_cloud_bands(img)\n",
        "\n",
        "#     # Add cloud shadow component bands.\n",
        "#     img_cloud_shadow = add_shadow_bands(img_cloud)\n",
        "\n",
        "#     # Combine cloud and shadow mask, set cloud and shadow as value 1, else 0.\n",
        "#     is_cld_shdw = img_cloud_shadow.select('clouds').add(img_cloud_shadow.select('shadows')).gt(0)\n",
        "\n",
        "#     # Remove small cloud-shadow patches and dilate remaining pixels by BUFFER input.\n",
        "#     # 20 m scale is for speed, and assumes clouds don't require 10 m precision.\n",
        "#     is_cld_shdw = (is_cld_shdw.focalMin(2).focalMax(BUFFER*2/20)\n",
        "#         .reproject(**{'crs': img.select([0]).projection(), 'scale': 20})\n",
        "#         .rename('cloudmask'))\n",
        "\n",
        "#     # Add the final cloud-shadow mask to the image.\n",
        "#     return img_cloud_shadow.addBands(is_cld_shdw)\n",
        "\n",
        "\n",
        "# # Define a function to apply the cloud mask to the S2 spectral bands\n",
        "# def apply_cld_shdw_mask(img):\n",
        "#     cloudmask = img.select('cloudmask')\n",
        "#     # Mask cloudy pixels\n",
        "#     masked_img = img.updateMask(cloudmask.Not())\n",
        "#     # Keep cloudmask and probability bands\n",
        "#     cloudmask_band = img.select('cloudmask')\n",
        "#     probability_band = img.select('probability')\n",
        "#     masked_img = masked_img.addBands([cloudmask_band, probability_band], overwrite=True)\n",
        "#     return masked_img\n",
        "\n",
        "\n",
        "\n",
        "\n",
        "# # ---------- Controls ----------\n",
        "# AOI = ee.Geometry.Point(174.7633, -36.8485)\n",
        "# START_DATE = '2023-01-01'\n",
        "# END_DATE = '2023-03-31'\n",
        "# CLOUD_FILTER = 60\n",
        "# CLD_PRB_THRESH = 50\n",
        "# NIR_DRK_THRESH = 0.15\n",
        "# CLD_PRJ_DIST = 1\n",
        "# BUFFER = 50\n",
        "\n",
        "# # --------- Generate stack ------\n",
        "# # Get the collection\n",
        "# s2_sr_cld_col = get_s2_sr_cld_col(AOI, START_DATE, END_DATE)\n",
        "\n",
        "# # Process the collection\n",
        "# s2_sr_median = (s2_sr_cld_col.map(add_cld_shdw_mask)\n",
        "#                              .map(apply_cld_shdw_mask)\n",
        "#                              .median())"
      ]
    },
    {
      "cell_type": "code",
      "execution_count": 11,
      "metadata": {
        "id": "zfIju1yij1m5"
      },
      "outputs": [],
      "source": [
        "# def extract_patch(image, point, size=64, scale=10):\n",
        "#     region = point.buffer(size * scale / 2).bounds()\n",
        "#     patch = geemap.ee_to_numpy(\n",
        "#         image,\n",
        "#         region=region,\n",
        "#         bands=['B4', 'B3', 'B2'],\n",
        "#         scale=scale\n",
        "#     )\n",
        "#     if patch is None:\n",
        "#         return None\n",
        "\n",
        "#     # Force consistent patch size (size, size, 3)\n",
        "#     h, w, c = patch.shape\n",
        "#     target = (size, size, c)\n",
        "#     patch_fixed = np.zeros(target, dtype=patch.dtype)\n",
        "\n",
        "#     h_min = min(h, size)\n",
        "#     w_min = min(w, size)\n",
        "#     patch_fixed[:h_min, :w_min, :] = patch[:h_min, :w_min, :]\n",
        "\n",
        "#     return np.clip(patch_fixed / 3000, 0, 1)\n",
        "\n",
        "# def save_patches(image, cropland_pts, non_cropland_pts, outfile=\"patches.npz\", size=64, scale=10):\n",
        "#     X_list, y_list, coords = [], [], []\n",
        "\n",
        "#     # Cropland first (label=1)\n",
        "#     for pt in cropland_pts:\n",
        "#         p = extract_patch(image, pt, size=size, scale=scale)\n",
        "#         if p is not None:\n",
        "#             X_list.append(p)\n",
        "#             y_list.append(1)\n",
        "#             coords.append(pt.coordinates().getInfo())  # [lon, lat]\n",
        "\n",
        "#     # Non-cropland (label=0)\n",
        "#     for pt in non_cropland_pts:\n",
        "#         p = extract_patch(image, pt, size=size, scale=scale)\n",
        "#         if p is not None:\n",
        "#             X_list.append(p)\n",
        "#             y_list.append(0)\n",
        "#             coords.append(pt.coordinates().getInfo())  # [lon, lat]\n",
        "\n",
        "#     if len(X_list) == 0:\n",
        "#         raise RuntimeError(\"No patches extracted.\")\n",
        "\n",
        "#     X = np.stack(X_list, axis=0)\n",
        "#     y = np.array(y_list, dtype=int)\n",
        "#     coords = np.array(coords, dtype=float)  # shape (N,2) [lon,lat]\n",
        "\n",
        "#     np.savez_compressed(outfile, X=X, y=y, coords=coords)\n",
        "\n",
        "#     print(f\"Saved {X.shape[0]} patches to {os.path.abspath(outfile)}\")\n",
        "#     print(f\"  Cropland patches (y==1): {(y==1).sum()}\")\n",
        "#     print(f\"  Non-cropland patches (y==0): {(y==0).sum()}\")\n",
        "#     print(f\"  Patch shape: {X.shape[1:]}\")\n",
        "#     return X, y, coords\n",
        "\n",
        "\n",
        "# def show_patches(X, y, coords=None, n=3):\n",
        "#     cropland_idx = np.where(y == 1)[0]\n",
        "#     non_idx = np.where(y == 0)[0]\n",
        "\n",
        "#     n = min(n, len(cropland_idx), len(non_idx))\n",
        "#     if n == 0:\n",
        "#         print(\"No patches to display.\")\n",
        "#         return\n",
        "\n",
        "#     fig, axes = plt.subplots(2, n, figsize=(5*n, 8))\n",
        "#     if n == 1:\n",
        "#         axes = np.array([[axes[0]], [axes[1]]])  # normalize shape\n",
        "\n",
        "#     # Top row: cropland\n",
        "#     for i in range(n):\n",
        "#         idx = cropland_idx[i]\n",
        "#         axes[0, i].imshow(X[idx])\n",
        "#         if coords is not None:\n",
        "#             lon, lat = coords[idx]\n",
        "#             axes[0, i].set_title(f\"Cropland (1)\\n{lat:.4f}, {lon:.4f}\")\n",
        "#         else:\n",
        "#             axes[0, i].set_title(\"Cropland (1)\")\n",
        "#         axes[0, i].axis(\"off\")\n",
        "\n",
        "#     # Bottom row: non-cropland\n",
        "#     for i in range(n):\n",
        "#         idx = non_idx[i]\n",
        "#         axes[1, i].imshow(X[idx])\n",
        "#         if coords is not None:\n",
        "#             lon, lat = coords[idx]\n",
        "#             axes[1, i].set_title(f\"Non-crop (0)\\n{lat:.4f}, {lon:.4f}\")\n",
        "#         else:\n",
        "#             axes[1, i].set_title(\"Non-crop (0)\")\n",
        "#         axes[1, i].axis(\"off\")\n",
        "\n",
        "#     plt.tight_layout()\n",
        "#     plt.show()"
      ]
    },
    {
      "cell_type": "code",
      "execution_count": 12,
      "metadata": {
        "id": "lGPPm8xW99JF"
      },
      "outputs": [],
      "source": [
        "# # Define example points\n",
        "# cropland_points = [\n",
        "#     ee.Geometry.Point([174.952922, -37.024492]),\n",
        "#     ee.Geometry.Point([174.554596, -36.788981]),\n",
        "#     ee.Geometry.Point([174.936961, -37.032787]),\n",
        "#     ee.Geometry.Point([174.551965, -36.807036]),\n",
        "#     ee.Geometry.Point([174.556182, -36.801054]),\n",
        "#     ee.Geometry.Point([174.567911, -36.808468])\n",
        "# ]\n",
        "# non_cropland_points = [\n",
        "#     ee.Geometry.Point([174.821293, -36.916761]),\n",
        "#     ee.Geometry.Point([174.879206, -36.919512]),\n",
        "#     ee.Geometry.Point([174.942332, -37.055910]),\n",
        "#     ee.Geometry.Point([174.940074, -37.065542]),\n",
        "#     ee.Geometry.Point([174.543226, -36.770280]),\n",
        "#     ee.Geometry.Point([174.910122, -37.038162])\n",
        "# ]\n",
        "\n",
        "# # Run\n",
        "# X, y, coords = save_patches(s2_sr_median, cropland_points, non_cropland_points, \"patches.npz\")\n",
        "# show_patches(X, y, coords, n=6)"
      ]
    }
  ],
  "metadata": {
    "colab": {
      "collapsed_sections": [
        "zsQKjDt-9yzi"
      ],
      "provenance": []
    },
    "kernelspec": {
      "display_name": "geo",
      "language": "python",
      "name": "python3"
    },
    "language_info": {
      "codemirror_mode": {
        "name": "ipython",
        "version": 3
      },
      "file_extension": ".py",
      "mimetype": "text/x-python",
      "name": "python",
      "nbconvert_exporter": "python",
      "pygments_lexer": "ipython3",
      "version": "3.13.5"
    }
  },
  "nbformat": 4,
  "nbformat_minor": 0
}
